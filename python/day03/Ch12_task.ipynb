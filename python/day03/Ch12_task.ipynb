{
 "cells": [
  {
   "cell_type": "markdown",
   "metadata": {},
   "source": [
    "<span style=\"font-size:100%\">\n",
    "\n",
    "수업은 모두 열심히 들으셨나요?\n",
    "\n",
    "간혹 강의에서 언급되지 않은 내용이 문제로 나올 수 있습니다.<br>\n",
    "그럴땐 강의 내용 외 문제는 구글링을 통해 해결해주세요<br></span>\n",
    "<span style=\"font-size:80%\">\n",
    "(구글링 또한 개발자가 갖쳐야할 역량 중에 하나랍니다 😊)\n",
    "</span>\n",
    "\n",
    "---"
   ]
  },
  {
   "cell_type": "markdown",
   "metadata": {},
   "source": [
    "<span style=\"font-size:80%\">[문제1]<br><br></span>\n",
    "딕셔너리 x에서 키에 해당하는 값을 모두 삭제하는 방법으로 옳은 것을 모두 골라주세요\n",
    "\n",
    "x = {'banana':3000, 'apple':1500, 'orange':2000}\n",
    "\n",
    "1. x.pop('apple')\n",
    "2. x.remove('python')\n",
    "3. del x['orange']\n",
    "4. x.popitem()"
   ]
  },
  {
   "cell_type": "markdown",
   "metadata": {},
   "source": [
    "<span style=\"color:red\">답변</span>"
   ]
  },
  {
   "cell_type": "markdown",
   "metadata": {},
   "source": [
    "1, 3, 4"
   ]
  },
  {
   "cell_type": "markdown",
   "metadata": {},
   "source": [
    "----"
   ]
  },
  {
   "cell_type": "code",
   "execution_count": 70,
   "metadata": {},
   "outputs": [
    {
     "name": "stdout",
     "output_type": "stream",
     "text": [
      "{'banana': 3000, 'orange': 2000}\n"
     ]
    }
   ],
   "source": [
    "x = {'banana':3000, 'apple':1500, 'orange':2000}\n",
    "x.pop('apple')\n",
    "print(x)"
   ]
  },
  {
   "cell_type": "code",
   "execution_count": 69,
   "metadata": {},
   "outputs": [
    {
     "ename": "AttributeError",
     "evalue": "'dict' object has no attribute 'remove'",
     "output_type": "error",
     "traceback": [
      "\u001b[0;31m---------------------------------------------------------------------------\u001b[0m",
      "\u001b[0;31mAttributeError\u001b[0m                            Traceback (most recent call last)",
      "Cell \u001b[0;32mIn[69], line 2\u001b[0m\n\u001b[1;32m      1\u001b[0m x \u001b[38;5;241m=\u001b[39m {\u001b[38;5;124m'\u001b[39m\u001b[38;5;124mbanana\u001b[39m\u001b[38;5;124m'\u001b[39m:\u001b[38;5;241m3000\u001b[39m, \u001b[38;5;124m'\u001b[39m\u001b[38;5;124mapple\u001b[39m\u001b[38;5;124m'\u001b[39m:\u001b[38;5;241m1500\u001b[39m, \u001b[38;5;124m'\u001b[39m\u001b[38;5;124morange\u001b[39m\u001b[38;5;124m'\u001b[39m:\u001b[38;5;241m2000\u001b[39m}\n\u001b[0;32m----> 2\u001b[0m \u001b[43mx\u001b[49m\u001b[38;5;241;43m.\u001b[39;49m\u001b[43mremove\u001b[49m(\u001b[38;5;124m'\u001b[39m\u001b[38;5;124mpython\u001b[39m\u001b[38;5;124m'\u001b[39m)\n\u001b[1;32m      3\u001b[0m \u001b[38;5;28mprint\u001b[39m(x)\n",
      "\u001b[0;31mAttributeError\u001b[0m: 'dict' object has no attribute 'remove'"
     ]
    }
   ],
   "source": [
    "x = {'banana':3000, 'apple':1500, 'orange':2000}\n",
    "x.remove('python')\n",
    "print(x)"
   ]
  },
  {
   "cell_type": "code",
   "execution_count": 57,
   "metadata": {},
   "outputs": [
    {
     "name": "stdout",
     "output_type": "stream",
     "text": [
      "{'banana': 3000, 'apple': 1500}\n"
     ]
    }
   ],
   "source": [
    "x = {'banana':3000, 'apple':1500, 'orange':2000}\n",
    "del x['orange']\n",
    "print(x)"
   ]
  },
  {
   "cell_type": "code",
   "execution_count": 71,
   "metadata": {},
   "outputs": [
    {
     "name": "stdout",
     "output_type": "stream",
     "text": [
      "{'banana': 3000, 'apple': 1500}\n"
     ]
    }
   ],
   "source": [
    "x = {'banana':3000, 'apple':1500, 'orange':2000}\n",
    "x.popitem()\n",
    "print(x)"
   ]
  },
  {
   "cell_type": "markdown",
   "metadata": {},
   "source": [
    "<span style=\"font-size:80%\">[문제2]<br><br></span>\n",
    "딕셔너리의 메서드에 대한 설명으로 올바르지 않은 것을 모두 고르세요<br>\n",
    "\n",
    "1. setdefault는 키만 지정하면 값은 0으로 저장한다.\n",
    "2. update는 딕셔너리에서 키의 value 값을 수정한다.\n",
    "3. keys는 딕셔너리의 키-값 쌍을 모두 가져온다.\n",
    "4. clear는 딕셔너리의 모든 키-값 쌍을 삭제한다.\n",
    "5. setdefault에 키와 값을 넣어 실행하면 기존 딕셔너리에 없는 키값일 경우 키-값 쌍을 추가한다."
   ]
  },
  {
   "cell_type": "markdown",
   "metadata": {},
   "source": [
    "<span style=\"color:red\">답변</span>"
   ]
  },
  {
   "cell_type": "markdown",
   "metadata": {},
   "source": [
    "1, 3"
   ]
  },
  {
   "cell_type": "markdown",
   "metadata": {},
   "source": [
    "----"
   ]
  },
  {
   "cell_type": "markdown",
   "metadata": {},
   "source": [
    "<span style=\"font-size:80%\">[문제3]<br><br></span>\n",
    "평균 점수를 구하는 코드를 result 변수에 작성해주세요\n",
    "\n",
    "```\n",
    "ozkim = { \"국어\" : 90, \"'수학\" : 80, \"과학\" : 82, \"영어\" : 72 }\n",
    "result = \n",
    "print(result)\n",
    "```"
   ]
  },
  {
   "cell_type": "markdown",
   "metadata": {},
   "source": [
    "<span style=\"color:red\">답변</span>"
   ]
  },
  {
   "cell_type": "code",
   "execution_count": 32,
   "metadata": {},
   "outputs": [
    {
     "name": "stdout",
     "output_type": "stream",
     "text": [
      "81.0\n"
     ]
    }
   ],
   "source": [
    "ozkim = { \"국어\" : 90, \"'수학\" : 80, \"과학\" : 82, \"영어\" : 72 }\n",
    "result = sum(ozkim.values()) / len(ozkim) \n",
    "print(result)"
   ]
  },
  {
   "cell_type": "markdown",
   "metadata": {},
   "source": []
  },
  {
   "cell_type": "markdown",
   "metadata": {},
   "source": [
    "----"
   ]
  },
  {
   "cell_type": "markdown",
   "metadata": {},
   "source": [
    "<span style=\"font-size:80%\">[문제4]<br><br></span>\n",
    "상자 딕셔너리에 아래 데이터를 추가하는 코드를 작성해 주세요\n",
    "\n",
    "```\n",
    "상자 = {\"아디다스\": [\"신발\", \"2개\"], \n",
    "            \"나이키\": [\"모자\", \"5개\"], \n",
    "            \"뉴발란스\": [\"가방\", \"1개\"]}\n",
    "````\n",
    "\n",
    "입력할 데이터 : 칼하트 / 후드티 / 2벌"
   ]
  },
  {
   "cell_type": "markdown",
   "metadata": {},
   "source": [
    "<span style=\"color:red\">답변</span>"
   ]
  },
  {
   "cell_type": "code",
   "execution_count": 17,
   "metadata": {},
   "outputs": [
    {
     "data": {
      "text/plain": [
       "{'아디다스': ['신발', '2개'],\n",
       " '나이키': ['모자', '5개'],\n",
       " '뉴발란스': ['가방', '1개'],\n",
       " '칼하트': ['후드티', '2벌']}"
      ]
     },
     "execution_count": 17,
     "metadata": {},
     "output_type": "execute_result"
    }
   ],
   "source": [
    "상자 = {\"아디다스\": [\"신발\", \"2개\"], \n",
    "            \"나이키\": [\"모자\", \"5개\"], \n",
    "            \"뉴발란스\": [\"가방\", \"1개\"]}\n",
    "\n",
    "상자.update({\"칼하트\": [\"후드티\", \"2벌\"]})\n",
    "상자"
   ]
  },
  {
   "cell_type": "markdown",
   "metadata": {},
   "source": [
    "----"
   ]
  },
  {
   "cell_type": "markdown",
   "metadata": {},
   "source": [
    "<span style=\"font-size:80%\">[문제5]<br><br></span>\n",
    "아래 keys 변수와 vals 변수에 들어있는 값을 이용해 agency_dict라는 딕셔너리를 만드는 코드를 작성해주세요 \n",
    "\n",
    "```\n",
    "keys = [\"뉴진스\", \"아이브\", \"에스파\"]\n",
    "vals = [\"하이브\" , \"스타쉽\", \"SM\"]\n",
    "```"
   ]
  },
  {
   "cell_type": "markdown",
   "metadata": {},
   "source": [
    "<span style=\"color:red\">답변</span>"
   ]
  },
  {
   "cell_type": "code",
   "execution_count": 7,
   "metadata": {},
   "outputs": [
    {
     "data": {
      "text/plain": [
       "{'뉴진스': '하이브', '아이브': '스타쉽', '에스파': 'SM'}"
      ]
     },
     "execution_count": 7,
     "metadata": {},
     "output_type": "execute_result"
    }
   ],
   "source": [
    "keys = [\"뉴진스\", \"아이브\", \"에스파\"]\n",
    "vals = [\"하이브\", \"스타쉽\", \"SM\"]\n",
    "agency_dict = dict(zip(keys, vals))\n",
    "agency_dict\n"
   ]
  }
 ],
 "metadata": {
  "kernelspec": {
   "display_name": "Python 3",
   "language": "python",
   "name": "python3"
  },
  "language_info": {
   "codemirror_mode": {
    "name": "ipython",
    "version": 3
   },
   "file_extension": ".py",
   "mimetype": "text/x-python",
   "name": "python",
   "nbconvert_exporter": "python",
   "pygments_lexer": "ipython3",
   "version": "3.13.1"
  }
 },
 "nbformat": 4,
 "nbformat_minor": 2
}
