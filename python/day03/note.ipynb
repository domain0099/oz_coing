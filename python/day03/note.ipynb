{
 "cells": [
  {
   "cell_type": "markdown",
   "metadata": {
    "id": "y8edeUfIK-tj"
   },
   "source": [
    "## 입력과 출력\n",
    "\n",
    "* 입력 : inpt()\n",
    "* 출력 : print()\n",
    "\n",
    "\n",
    "#### 함수와 매서드\n",
    ">함수 : 어디에 속해있지 않고 단독 모듈이라 함수를 그냥 호출하여 사용이 가능합니다. 예) print(), input()  \n",
    "https://docs.python.org/ko/3/library/functions.html\n",
    "\n",
    ">매소드 : 함수의 클래스 안에 속해 있고 클래스의 멤버 변수들을 이용해서 구현된것\n",
    "예)\"까먹으신건가요?\"  .count(\"까\")/ \"까먹으신건가요?\" .index(.까\")"
   ]
  },
  {
   "cell_type": "markdown",
   "metadata": {
    "id": "_EL175wTMdyV"
   },
   "source": []
  },
  {
   "cell_type": "code",
   "execution_count": null,
   "metadata": {
    "colab": {
     "base_uri": "https://localhost:8080/"
    },
    "executionInfo": {
     "elapsed": 294,
     "status": "ok",
     "timestamp": 1736143353292,
     "user": {
      "displayName": "조수민",
      "userId": "01033091443594520555"
     },
     "user_tz": -540
    },
    "id": "pVenTVofNKQp",
    "outputId": "26eee3e5-435a-4b0f-eb0e-8213e8f1fa81"
   },
   "outputs": [
    {
     "data": {
      "text/plain": [
       "1"
      ]
     },
     "execution_count": 1,
     "metadata": {},
     "output_type": "execute_result"
    }
   ],
   "source": [
    "\"까먹으신건가요?\" .count(\"까\")"
   ]
  },
  {
   "cell_type": "code",
   "execution_count": null,
   "metadata": {
    "colab": {
     "base_uri": "https://localhost:8080/"
    },
    "executionInfo": {
     "elapsed": 301,
     "status": "ok",
     "timestamp": 1736143368035,
     "user": {
      "displayName": "조수민",
      "userId": "01033091443594520555"
     },
     "user_tz": -540
    },
    "id": "jCVUg8hiNTyA",
    "outputId": "8558cdda-a254-4b8e-ca22-d29d56797222"
   },
   "outputs": [
    {
     "data": {
      "text/plain": [
       "0"
      ]
     },
     "execution_count": 2,
     "metadata": {},
     "output_type": "execute_result"
    }
   ],
   "source": [
    "\"까먹으신건가요?\" .index(\"까\")"
   ]
  },
  {
   "cell_type": "code",
   "execution_count": null,
   "metadata": {
    "colab": {
     "base_uri": "https://localhost:8080/"
    },
    "executionInfo": {
     "elapsed": 272,
     "status": "ok",
     "timestamp": 1736143424621,
     "user": {
      "displayName": "조수민",
      "userId": "01033091443594520555"
     },
     "user_tz": -540
    },
    "id": "j2BpDevSNa6U",
    "outputId": "314ff0cb-91a4-4e02-d2fd-3a7acce63b46"
   },
   "outputs": [
    {
     "name": "stdout",
     "output_type": "stream",
     "text": [
      "5 5\n"
     ]
    }
   ],
   "source": [
    "숫자, 문자 = 5, \"5\"\n",
    "\n",
    "print(숫자, 문자)"
   ]
  },
  {
   "cell_type": "code",
   "execution_count": null,
   "metadata": {
    "colab": {
     "base_uri": "https://localhost:8080/"
    },
    "executionInfo": {
     "elapsed": 16589,
     "status": "ok",
     "timestamp": 1736143530743,
     "user": {
      "displayName": "조수민",
      "userId": "01033091443594520555"
     },
     "user_tz": -540
    },
    "id": "VsrRzP_LNqJV",
    "outputId": "fa37e79f-d31c-4d74-e022-d54ef967c241"
   },
   "outputs": [
    {
     "name": "stdout",
     "output_type": "stream",
     "text": [
      "안녕 신기해\n",
      "안녕 신기해나도 신기해\n"
     ]
    }
   ],
   "source": [
    "인사 = input()\n",
    "print(인사 + \"나도 신기해\")"
   ]
  },
  {
   "cell_type": "code",
   "execution_count": null,
   "metadata": {
    "colab": {
     "base_uri": "https://localhost:8080/"
    },
    "executionInfo": {
     "elapsed": 2642,
     "status": "ok",
     "timestamp": 1736144788971,
     "user": {
      "displayName": "조수민",
      "userId": "01033091443594520555"
     },
     "user_tz": -540
    },
    "id": "8qvDvZu1RzAT",
    "outputId": "fd2707b9-7af2-4c50-b33b-214f8d39f906"
   },
   "outputs": [
    {
     "name": "stdout",
     "output_type": "stream",
     "text": [
      "5\n",
      "5 <class 'int'>\n",
      "5\n",
      "5.0 <class 'float'>\n"
     ]
    }
   ],
   "source": [
    "정수 = input()\n",
    "정수 = int(정수)\n",
    "print(정수, type(정수))\n",
    "\n",
    "실수 = input()\n",
    "실수 = float(실수)\n",
    "print(실수, type(실수))"
   ]
  },
  {
   "cell_type": "code",
   "execution_count": null,
   "metadata": {
    "colab": {
     "base_uri": "https://localhost:8080/"
    },
    "executionInfo": {
     "elapsed": 2994,
     "status": "ok",
     "timestamp": 1736144878585,
     "user": {
      "displayName": "조수민",
      "userId": "01033091443594520555"
     },
     "user_tz": -540
    },
    "id": "vZPzSYkkSzuD",
    "outputId": "d939b73e-209c-4283-cbed-3005e32fe8cc"
   },
   "outputs": [
    {
     "name": "stdout",
     "output_type": "stream",
     "text": [
      "5\n",
      "5 <class 'int'>\n",
      "5\n",
      "5.0 <class 'float'>\n"
     ]
    }
   ],
   "source": [
    "정수 = int(input())\n",
    "print(정수, type(정수))\n",
    "\n",
    "실수 = float(input())\n",
    "print(실수, type(실수))"
   ]
  },
  {
   "cell_type": "markdown",
   "metadata": {
    "id": "iaQKN8ICTxf1"
   },
   "source": [
    "그 외의 입력값의 형변환이 가능한 종류\n",
    "\n",
    "* tuple()\n",
    "\n",
    "* list()\n",
    "\n",
    "* dict()\n",
    "\n",
    "* set()\n"
   ]
  },
  {
   "cell_type": "code",
   "execution_count": null,
   "metadata": {
    "colab": {
     "base_uri": "https://localhost:8080/"
    },
    "executionInfo": {
     "elapsed": 7782,
     "status": "ok",
     "timestamp": 1736145444036,
     "user": {
      "displayName": "조수민",
      "userId": "01033091443594520555"
     },
     "user_tz": -540
    },
    "id": "TF1Uiq-jUSDo",
    "outputId": "5455ba68-6989-416d-a0f7-9cd9c7394014"
   },
   "outputs": [
    {
     "name": "stdout",
     "output_type": "stream",
     "text": [
      "스페인에서 에스파를 만나면?, 에스파냐\n",
      "넌센스 퀴즈 : 스페인에서 에스파를 만나면?\n",
      "정답 :  에스파냐\n"
     ]
    }
   ],
   "source": [
    "넌센스, 정답 = input().split(\",\")\n",
    "print(f'넌센스 퀴즈 : {넌센스}')\n",
    "print(f'정답 : {정답}')"
   ]
  },
  {
   "cell_type": "code",
   "execution_count": null,
   "metadata": {
    "colab": {
     "base_uri": "https://localhost:8080/"
    },
    "executionInfo": {
     "elapsed": 7040,
     "status": "ok",
     "timestamp": 1736145910234,
     "user": {
      "displayName": "조수민",
      "userId": "01033091443594520555"
     },
     "user_tz": -540
    },
    "id": "NNVs5z5mVYm-",
    "outputId": "0fff66f1-f4b2-4e07-96ed-27071bd67615"
   },
   "outputs": [
    {
     "name": "stdout",
     "output_type": "stream",
     "text": [
      "21313213, 12321312, 12321312, 12312321\n",
      "<class 'int'> 12321312 12321312 12312321\n"
     ]
    }
   ],
   "source": [
    "#시퀀스 자료형에 다 지원되는 메소드\n",
    "번호1, 번호2, 번호3, 번호4 = input().split(\",\")\n",
    "번호1 = int(번호1)\n",
    "번호2 = int(번호2)\n",
    "번호3 = int(번호3)\n",
    "번호4 = int(번호4)\n",
    "\n",
    "print(type(번호1), 번호2, 번호3, 번호4)"
   ]
  },
  {
   "cell_type": "code",
   "execution_count": null,
   "metadata": {
    "colab": {
     "base_uri": "https://localhost:8080/"
    },
    "executionInfo": {
     "elapsed": 9039,
     "status": "ok",
     "timestamp": 1736146083370,
     "user": {
      "displayName": "조수민",
      "userId": "01033091443594520555"
     },
     "user_tz": -540
    },
    "id": "IhPz_-VoXGgR",
    "outputId": "f3713383-4f28-4d84-c5b2-e90c49d8e676"
   },
   "outputs": [
    {
     "name": "stdout",
     "output_type": "stream",
     "text": [
      "1232134, 3123123, 12312321,31245435345\n",
      "<class 'int'> 3123123 12312321 31245435345\n"
     ]
    }
   ],
   "source": [
    "#map()\n",
    "번호1, 번호2, 번호3, 번호4 = map(int, input().split(\",\"))\n",
    "print(type(번호1), 번호2, 번호3, 번호4)"
   ]
  },
  {
   "cell_type": "code",
   "execution_count": null,
   "metadata": {
    "colab": {
     "base_uri": "https://localhost:8080/"
    },
    "executionInfo": {
     "elapsed": 10884,
     "status": "ok",
     "timestamp": 1736148228234,
     "user": {
      "displayName": "조수민",
      "userId": "01033091443594520555"
     },
     "user_tz": -540
    },
    "id": "j7QzQNlnYGZ5",
    "outputId": "01b55be8-75a7-489a-ef95-d6759cb797a8"
   },
   "outputs": [
    {
     "name": "stdout",
     "output_type": "stream",
     "text": [
      "붕어빵(팔), 붕어빵(슈크림), 붕어빵(잡채)를 순서대로 개수를 입력하고 꼭 쉼표를 입력하고 안사는 붕어빵은 0을 넣어줘0, 슈크림, 잡채\n",
      "주문이 완료되었습니다. 붕어빵(팔)0개, 붕어빵(슈크림)2개 붕어빵(잡채)3개 총 5개 결제금액은 14000원 입니다.\n"
     ]
    }
   ],
   "source": [
    "from typing import OrderedDict\n",
    "#레거시 : 누군가 남겨두고간 코드\n",
    "#리팩토링 : 결과의 변경 없이 코드의 구조를 재조정하는 것입니다.\n",
    "#input\n",
    "\n",
    "# fish_p, fish_s, fish_j = \"붕어빵(팔), 붕어빵(슈크림), 붕어빵(잡채)\"\n",
    "fish_p, fish_s, fish_j = input(\"붕어빵(팔), 붕어빵(슈크림), 붕어빵(잡채)를 순서대로 개수를 입력하고 꼭 쉼표를 입력하고 안사는 붕어빵은 0을 넣어줘\").split(',')\n",
    "fish_p, fish_s, fish_j = \"붕어빵(팔)\", \"붕어빵(슈크림)\", \"붕어빵(잡채)\"\n",
    "fish_p_sell, fish_s_sell, fish_j_sell = 2000, 2500, 3000\n",
    "order_p, order_s, order_j = 0, 2, 3\n",
    "order_p_pay, order_s_pay, order_j_pay = fish_p_sell * 0,fish_s_sell * 2, fish_j_sell * 3\n",
    "total = order_p + order_s + order_j\n",
    "total_pay = order_p_pay + order_s_pay + order_j_pay\n",
    "print(f'주문이 완료되었습니다. {fish_p}{order_p}개, {fish_s}{order_s}개 {fish_j}{order_j}개 총 {total}개 결제금액은 {total_pay}원 입니다.')\n",
    "\n",
    "\n",
    "\n"
   ]
  },
  {
   "cell_type": "code",
   "execution_count": null,
   "metadata": {
    "colab": {
     "base_uri": "https://localhost:8080/"
    },
    "executionInfo": {
     "elapsed": 239,
     "status": "ok",
     "timestamp": 1736148891561,
     "user": {
      "displayName": "조수민",
      "userId": "01033091443594520555"
     },
     "user_tz": -540
    },
    "id": "eUQYEEU8e2nr",
    "outputId": "9b7ee640-a232-46b5-8276-0441199952b4"
   },
   "outputs": [
    {
     "name": "stdout",
     "output_type": "stream",
     "text": [
      "초코칩 민트 샷추가 휘핑크림\n",
      "초코칩/민트/샷추가/휘핑크림\n",
      "초코칩:민트:샷추가:휘핑크림\n",
      "초코칩 민트 샷추가 휘핑크림\n",
      "초코칩\n",
      "민트\n",
      "샷추가\n",
      "휘핑크림\n"
     ]
    }
   ],
   "source": [
    "#print() 함수의 기능을 이용해 보자\n",
    "\n",
    "print(\"초코칩\", \"민트\", \"샷추가\", \"휘핑크림\")\n",
    "print(\"초코칩\", \"민트\", \"샷추가\", \"휘핑크림\", sep='/')\n",
    "print(\"초코칩\", \"민트\", \"샷추가\", \"휘핑크림\", sep = ':')\n",
    "print(\"초코칩\", \"민트\", \"샷추가\", \"휘핑크림\")\n",
    "print(\"초코칩\", \"민트\", \"샷추가\", \"휘핑크림\", sep = '\\n')\n",
    "\n"
   ]
  },
  {
   "cell_type": "code",
   "execution_count": null,
   "metadata": {
    "colab": {
     "base_uri": "https://localhost:8080/"
    },
    "executionInfo": {
     "elapsed": 253,
     "status": "ok",
     "timestamp": 1736148994433,
     "user": {
      "displayName": "조수민",
      "userId": "01033091443594520555"
     },
     "user_tz": -540
    },
    "id": "xkXf-ro_iiMC",
    "outputId": "39035d1f-5d25-43d7-ae3c-cd0b4d5f8a40"
   },
   "outputs": [
    {
     "name": "stdout",
     "output_type": "stream",
     "text": [
      "초코칩 민트 샷추가 휘핑크림 초코칩 민트 샷추가 휘핑크림 초코칩 민트 샷추가 휘핑크림 "
     ]
    }
   ],
   "source": [
    "#end\n",
    "print(\"초코칩\", \"민트\", \"샷추가\", \"휘핑크림\", end=' ')\n",
    "print(\"초코칩\", \"민트\", \"샷추가\", \"휘핑크림\", end=' ')\n",
    "print(\"초코칩\", \"민트\", \"샷추가\", \"휘핑크림\", end=' ')"
   ]
  },
  {
   "cell_type": "markdown",
   "metadata": {
    "id": "d-p7hlyZja81"
   },
   "source": [
    "###list\n",
    " * list란? 원소들이 연속적으로 저장되는 형태의 자료형을 말합니다.  \n",
    " * 시퀀스 자료형!!  \n",
    "    * str(정복), list(정복 예정), tuple, dict, set  \n",
    " * 만드는 방법은 쉬워 대괄호로 묶어주고, 값들은 콤마로 구분합니다.\n"
   ]
  },
  {
   "cell_type": "code",
   "execution_count": null,
   "metadata": {
    "colab": {
     "base_uri": "https://localhost:8080/"
    },
    "executionInfo": {
     "elapsed": 264,
     "status": "ok",
     "timestamp": 1736149620963,
     "user": {
      "displayName": "조수민",
      "userId": "01033091443594520555"
     },
     "user_tz": -540
    },
    "id": "La10Sng9kw1U",
    "outputId": "7c7272fb-ace5-4910-c6ae-b302ce8624f9"
   },
   "outputs": [
    {
     "name": "stdout",
     "output_type": "stream",
     "text": [
      "[]\n",
      "[23, '이게 리스트다', 3, 23, True, False]\n"
     ]
    }
   ],
   "source": [
    "리스트 = []\n",
    "print(리스트)\n",
    "\n",
    "리스트 = [23, \"이게 리스트다\", 3, 23, True, False]\n",
    "print(리스트)"
   ]
  },
  {
   "cell_type": "code",
   "execution_count": null,
   "metadata": {
    "colab": {
     "base_uri": "https://localhost:8080/"
    },
    "executionInfo": {
     "elapsed": 238,
     "status": "ok",
     "timestamp": 1736149990364,
     "user": {
      "displayName": "조수민",
      "userId": "01033091443594520555"
     },
     "user_tz": -540
    },
    "id": "zwsoeddTllxK",
    "outputId": "ec7f0cf5-e9b2-4e5c-e7a8-46b16bee2cd7"
   },
   "outputs": [
    {
     "data": {
      "text/plain": [
       "[0, 1, 2, 3, 4, 5, 6, 7, 8, 9, 10, 11, 12, 13, 14, 15, 16, 17, 18, 19]"
      ]
     },
     "execution_count": 57,
     "metadata": {},
     "output_type": "execute_result"
    }
   ],
   "source": [
    "리스트 = [\"이\", \"렇\", \"게\", \"만\", \"들\", \"어\", \"요\"]\n",
    "리스트\n",
    "리스트2 = list()\n",
    "리스트2\n",
    "\n",
    "#range? 연속된 숫자를 생성하는 기능이\n",
    "range(10)\n",
    "#list(range(시작, 끝))\n",
    "리스트_매직_들어간다 = list(range(0, 20))\n",
    "리스트_매직_들어간다"
   ]
  },
  {
   "cell_type": "code",
   "execution_count": null,
   "metadata": {
    "colab": {
     "base_uri": "https://localhost:8080/"
    },
    "executionInfo": {
     "elapsed": 259,
     "status": "ok",
     "timestamp": 1736150216132,
     "user": {
      "displayName": "조수민",
      "userId": "01033091443594520555"
     },
     "user_tz": -540
    },
    "id": "9px5EJJsmqri",
    "outputId": "add12f0b-c94f-4b13-a1cb-321b9336d93a"
   },
   "outputs": [
    {
     "name": "stdout",
     "output_type": "stream",
     "text": [
      "[0, 2, 4, 6, 8, 10, 12, 14, 16, 18]\n",
      "[20, 19, 18, 17, 16, 15, 14, 13, 12, 11, 10, 9, 8, 7, 6, 5, 4, 3, 2, 1]\n",
      "[]\n"
     ]
    }
   ],
   "source": [
    "#list(range(시작, 끝, 증가))\n",
    "리스트_매직2 = list(range(0, 20, 2))\n",
    "print(리스트_매직2)\n",
    "\n",
    "리스트_매직3 = list(range(20, 0, -1))\n",
    "print(리스트_매직3)\n",
    "\n",
    "리스트_매직4 = list(range(20, 0))\n",
    "print(리스트_매직4)"
   ]
  },
  {
   "cell_type": "code",
   "execution_count": null,
   "metadata": {
    "colab": {
     "base_uri": "https://localhost:8080/"
    },
    "executionInfo": {
     "elapsed": 249,
     "status": "ok",
     "timestamp": 1736150553098,
     "user": {
      "displayName": "조수민",
      "userId": "01033091443594520555"
     },
     "user_tz": -540
    },
    "id": "RXhSB6WXm3qy",
    "outputId": "dca5f6a9-26d5-4544-92b6-0c3cf5650bf2"
   },
   "outputs": [
    {
     "name": "stdout",
     "output_type": "stream",
     "text": [
      "들 어 가\n",
      "7 7 8\n",
      "7 7 8\n"
     ]
    }
   ],
   "source": [
    "#끝나지 않는 리스트 매직\n",
    "#리스트를 이용해 변수에 값 넣기\n",
    "\n",
    "a, b, c = [\"들\", \"어\", \"가\"]\n",
    "print(a, b, c)\n",
    "d, e, f = [7, 7, 8]\n",
    "print(7, 7, 8)\n",
    "print(d, e, f)\n"
   ]
  },
  {
   "cell_type": "code",
   "execution_count": null,
   "metadata": {
    "colab": {
     "base_uri": "https://localhost:8080/"
    },
    "executionInfo": {
     "elapsed": 264,
     "status": "ok",
     "timestamp": 1736150657861,
     "user": {
      "displayName": "조수민",
      "userId": "01033091443594520555"
     },
     "user_tz": -540
    },
    "id": "J5xhRb1gowP2",
    "outputId": "1a17399d-3d19-43d3-f3eb-c2dae1c00e90"
   },
   "outputs": [
    {
     "name": "stdout",
     "output_type": "stream",
     "text": [
      "10000 2장, 5000 3장, 1000 1장\n"
     ]
    }
   ],
   "source": [
    "지갑 = [10000, 5000, 1000]\n",
    "만원, 오천원, 천원 = 지갑\n",
    "print(f'{만원} 2장, {오천원} 3장, {천원} 1장')"
   ]
  },
  {
   "cell_type": "code",
   "execution_count": null,
   "metadata": {
    "colab": {
     "base_uri": "https://localhost:8080/"
    },
    "executionInfo": {
     "elapsed": 10293,
     "status": "ok",
     "timestamp": 1736150707382,
     "user": {
      "displayName": "조수민",
      "userId": "01033091443594520555"
     },
     "user_tz": -540
    },
    "id": "Q6OOU4qXpNTU",
    "outputId": "247ee0d2-a386-42fc-a993-c532105b14d2"
   },
   "outputs": [
    {
     "name": "stdout",
     "output_type": "stream",
     "text": [
      "기억? 나요?\n"
     ]
    },
    {
     "data": {
      "text/plain": [
       "['기억?', '나요?']"
      ]
     },
     "execution_count": 75,
     "metadata": {},
     "output_type": "execute_result"
    }
   ],
   "source": [
    "#리스트 패킹, 리스트 언패킹 #*중요*#\n",
    "input().split()"
   ]
  },
  {
   "cell_type": "code",
   "execution_count": null,
   "metadata": {
    "colab": {
     "base_uri": "https://localhost:8080/"
    },
    "executionInfo": {
     "elapsed": 253,
     "status": "ok",
     "timestamp": 1736152134689,
     "user": {
      "displayName": "조수민",
      "userId": "01033091443594520555"
     },
     "user_tz": -540
    },
    "id": "dwo6raw8pizC",
    "outputId": "365dd29b-6cfe-41e1-f7b1-dd6af05120a2"
   },
   "outputs": [
    {
     "name": "stdout",
     "output_type": "stream",
     "text": [
      "[5, 15]\n",
      "44\n",
      "[44, 41, 33, 15, 5, 3]\n",
      "True\n",
      "[3, 5, 15, 33, 41, 44, 1, 2, 3, 4, 5, 6]\n",
      "[2, 4, 6, 8, 10]\n",
      "[2, 4, 6, 8, 10, 2, 4, 6, 8, 10]\n",
      "10\n",
      "8\n",
      "10\n"
     ]
    }
   ],
   "source": [
    "# 슬라이싱\n",
    "\n",
    "로또 = [3, 5, 15, 33, 41, 44]\n",
    "#로또 변수에 있는 리스트의 인덱스 1번부터 2번까지의 값을 출력해\n",
    "print(로또[1:3])\n",
    "#로또 변수의 마지막 위치 출력\n",
    "print(로또[-1])\n",
    "#반대로 출력\n",
    "print(로또[::-1])\n",
    "#로또 리스트안에 33이 있는지 확인\n",
    "print(33 in 로또)\n",
    "#로또 리스트를 로또2 리스트와 합쳐보세요\n",
    "로또2 = [1, 2, 3, 4, 5, 6]\n",
    "print(로또 + 로또2)\n",
    "#range를 이용해서 1부터 10사이에 짝수만 들어있는 짝수(변수명) 리스트를 만들어주세요\n",
    "짝수 = list(range(2,12,2))\n",
    "print(짝수)\n",
    "#짝수 리스트에 들어있는 값을 2배 늘리고 다시 짝수 변수에 담아줘\n",
    "짝수 = 짝수 * 2\n",
    "print(짝수)\n",
    "#짝수 리스트에 들어있는 요소의 개수를 구해주세요\n",
    "print(len(짝수))\n",
    "#짝수 리스트에 3번째 인덱스를 출력해 주세요\n",
    "print(짝수[3])\n",
    "#len()함수를 이용해 인덱스 마지막 값을 출력해 주세요\n",
    "print(짝수[len(짝수)-1])"
   ]
  },
  {
   "cell_type": "code",
   "execution_count": null,
   "metadata": {
    "colab": {
     "base_uri": "https://localhost:8080/",
     "height": 269
    },
    "executionInfo": {
     "elapsed": 262,
     "status": "error",
     "timestamp": 1736163321604,
     "user": {
      "displayName": "조수민",
      "userId": "01033091443594520555"
     },
     "user_tz": -540
    },
    "id": "Gjkz7zdfu764",
    "outputId": "c3cd5eaf-f20f-47d3-d773-b3ba988a2879"
   },
   "outputs": [
    {
     "name": "stdout",
     "output_type": "stream",
     "text": [
      "['숙주', '분모자', '마라', '소세지', '소고기', '옥수수면', '고수']\n",
      "['탕후루', '숙주', '분모자', '마라', '소세지', '소고기', '옥수수면', '고수']\n",
      "['탕후루', '숙주', '분모자', '마라', '소세지', '소고기', '옥수수면']\n",
      "['숙주', '분모자', '마라', '소세지', '소고기', '옥수수면']\n",
      "['숙주', '분모자', '마라', '소세지', '돼지고기', '옥수수면']\n"
     ]
    },
    {
     "ename": "TypeError",
     "evalue": "'str' object does not support item assignment",
     "output_type": "error",
     "traceback": [
      "\u001b[0;31m---------------------------------------------------------------------------\u001b[0m",
      "\u001b[0;31mTypeError\u001b[0m                                 Traceback (most recent call last)",
      "\u001b[0;32m<ipython-input-149-8dadd21b1b74>\u001b[0m in \u001b[0;36m<cell line: 25>\u001b[0;34m()\u001b[0m\n\u001b[1;32m     23\u001b[0m \u001b[0;31m#문자열 시퀀스 아니냐 그럼 저거 다 될듯\u001b[0m\u001b[0;34m\u001b[0m\u001b[0;34m\u001b[0m\u001b[0m\n\u001b[1;32m     24\u001b[0m \u001b[0m인사\u001b[0m \u001b[0;34m=\u001b[0m \u001b[0;34m'반가워'\u001b[0m\u001b[0;34m\u001b[0m\u001b[0;34m\u001b[0m\u001b[0m\n\u001b[0;32m---> 25\u001b[0;31m \u001b[0m인사\u001b[0m\u001b[0;34m[\u001b[0m\u001b[0;36m2\u001b[0m\u001b[0;34m]\u001b[0m \u001b[0;34m=\u001b[0m \u001b[0;34m'웡'\u001b[0m\u001b[0;34m\u001b[0m\u001b[0;34m\u001b[0m\u001b[0m\n\u001b[0m",
      "\u001b[0;31mTypeError\u001b[0m: 'str' object does not support item assignment"
     ]
    }
   ],
   "source": [
    "#list 값 넣고, 바꾸고, 지우고\n",
    "\n",
    "mzfood = [\"숙주\", \"분모자\", \"마라\", \"소세지\", \"소고기\", \"옥수수면\"]\n",
    "\n",
    "#값을 넣는 방법 2가지 : append():마지막 요소에 값을 넣어, insert() : 원하는 곳에 값을 넣어요\n",
    "mzfood.append(\"고수\")\n",
    "print(mzfood)\n",
    "\n",
    "mzfood.insert(0, \"탕후루\")\n",
    "print(mzfood)\n",
    "\n",
    "#값 지우고\n",
    "del mzfood[-1]\n",
    "print(mzfood)\n",
    "\n",
    "del mzfood[0]\n",
    "print(mzfood)\n",
    "\n",
    "#값 바꾸고\n",
    "mzfood[-2] = '돼지고기'\n",
    "print(mzfood)\n",
    "\n",
    "#문자열 시퀀스 아니냐 그럼 저거 다 될듯\n",
    "인사 = '반가워'\n",
    "인사[2] = '웡'"
   ]
  },
  {
   "cell_type": "code",
   "execution_count": null,
   "metadata": {
    "colab": {
     "base_uri": "https://localhost:8080/"
    },
    "executionInfo": {
     "elapsed": 252,
     "status": "ok",
     "timestamp": 1736153006900,
     "user": {
      "displayName": "조수민",
      "userId": "01033091443594520555"
     },
     "user_tz": -540
    },
    "id": "SQ81F-2Qx-0z",
    "outputId": "eb3b595f-7bf5-46ad-f450-fe22d2819214"
   },
   "outputs": [
    {
     "name": "stdout",
     "output_type": "stream",
     "text": [
      "['__add__', '__class__', '__class_getitem__', '__contains__', '__delattr__', '__delitem__', '__dir__', '__doc__', '__eq__', '__format__', '__ge__', '__getattribute__', '__getitem__', '__gt__', '__hash__', '__iadd__', '__imul__', '__init__', '__init_subclass__', '__iter__', '__le__', '__len__', '__lt__', '__mul__', '__ne__', '__new__', '__reduce__', '__reduce_ex__', '__repr__', '__reversed__', '__rmul__', '__setattr__', '__setitem__', '__sizeof__', '__str__', '__subclasshook__', 'append', 'clear', 'copy', 'count', 'extend', 'index', 'insert', 'pop', 'remove', 'reverse', 'sort']\n"
     ]
    }
   ],
   "source": [
    "print(dir(list))"
   ]
  },
  {
   "cell_type": "code",
   "execution_count": null,
   "metadata": {
    "colab": {
     "base_uri": "https://localhost:8080/"
    },
    "executionInfo": {
     "elapsed": 265,
     "status": "ok",
     "timestamp": 1736163327910,
     "user": {
      "displayName": "조수민",
      "userId": "01033091443594520555"
     },
     "user_tz": -540
    },
    "id": "dbQQb4TsyJ1g",
    "outputId": "320811d0-8557-47d6-e641-494da89e7b54"
   },
   "outputs": [
    {
     "name": "stdout",
     "output_type": "stream",
     "text": [
      "['숙주', '분모자', '마라', '소세지', '돼지고기', '옥수수면']\n",
      "None\n",
      "None\n"
     ]
    }
   ],
   "source": [
    "#reverse는 왜 print문을 ㄱ쓰면 none이 나올까?\n",
    "\n",
    "print(mzfood)\n",
    "\n",
    "print(mzfood.reverse())\n",
    "print(mzfood.sort())\n",
    "\n"
   ]
  },
  {
   "cell_type": "code",
   "execution_count": null,
   "metadata": {
    "colab": {
     "base_uri": "https://localhost:8080/"
    },
    "executionInfo": {
     "elapsed": 2,
     "status": "ok",
     "timestamp": 1736153753678,
     "user": {
      "displayName": "조수민",
      "userId": "01033091443594520555"
     },
     "user_tz": -540
    },
    "id": "RSLqdG8x0EuN",
    "outputId": "f19b79e4-18d5-4dd8-ece3-43dd8cb9fe25"
   },
   "outputs": [
    {
     "data": {
      "text/plain": [
       "[[2, 0], [3, 1], [4.1]]"
      ]
     },
     "execution_count": 115,
     "metadata": {},
     "output_type": "execute_result"
    }
   ],
   "source": [
    "#리스트\n",
    "#2차원 리스트에 대해서도 공부는 필수!!\n",
    "\n",
    "양파같은 = [[2,0],[3,1]]\n",
    "양파같은\n",
    "\n",
    "양파같은[0]\n",
    "양파같은[1]\n",
    "#3을 출력해줘\n",
    "양파같은[1][0]\n",
    "\n",
    "양파같은 .append([4.1])\n",
    "양파같은\n"
   ]
  },
  {
   "cell_type": "markdown",
   "metadata": {
    "id": "1Eeq3BBS4PZ1"
   },
   "source": [
    "##시퀀스 자료형\n",
    "* 문자열 :    \n",
    "        * 시퀀스형에서 사용할수 있는 메소드(count(), index(), split() 등..)  \n",
    "        * 슬라이싱([:], [::])  \n",
    "        * 요소들로 이루어져 가능했던 기능들 (요소 합치기, 요소 찾기 등등)  \n",
    "* list :  \n",
    "        * 시퀀스형에서 사용할수 있는 메소드(count(), index(), split() 등..)  \n",
    "        * 슬라이싱([:], [::])  \n",
    "        * 요소들로 이루어져 가능했던 기능들 (요소 합치기, 요소 찾기 등등)  \n",
    "        * list 지원하는 다양한 메소드(append(), insert(), del, sort, reverse())  \n",
    "* tuple :  \n",
    "        * 리스트처럼 요소를 일렬로 저장하지만 안에 저장된 요소를 변경, 추가, 삭제 할 수 없다.  \n",
    "        * 값을 추가, 삭제, 변경할 수 없기 때문에, 사용하지 못하는 메소드가 많다  \n",
    "        * tuple의 생성 방법은 tuple = 값 , 값 또는 tuple = (값, 값)  \n",
    "        * 그리고 엄청난 비밀이 숨겨져 있어요  \n",
    "        * 튜플은 소괄호 입니다.\n",
    "* dict(딕셔너리)\n",
    "        * list, tuple, str, range(범위안에 연속된 데이터를 만드는 시퀀스 였습니다)\n",
    "          공통적인 특징이 있어요 데이터의 연관성이 없습니다.\n",
    "        * dict는 여러개의 값이 일렬로 정렬되면서도 값끼리의 연관성이 존재\n",
    "        (예시 : 게임 캐릭터 힘:30, 지능:20, 체력:40, 민첩:90)\n",
    "        * dict생 생성 방법은 중괄호{}\n",
    "* set\n",
    "        * set은 수학의 집합을 의미합니다.\n",
    "        * 딕셔너리와 같이 순서가 없습니다.\n",
    "        * 값의 중복을 허락하지 않습니다. 아주중요\n",
    "        * set 생성 방법도 중괄호 {}"
   ]
  },
  {
   "cell_type": "code",
   "execution_count": null,
   "metadata": {
    "colab": {
     "base_uri": "https://localhost:8080/"
    },
    "executionInfo": {
     "elapsed": 262,
     "status": "ok",
     "timestamp": 1736155451346,
     "user": {
      "displayName": "조수민",
      "userId": "01033091443594520555"
     },
     "user_tz": -540
    },
    "id": "DbBEwre54nh8",
    "outputId": "23d03751-e2e0-4e63-f887-a0ec0df13e7c"
   },
   "outputs": [
    {
     "name": "stdout",
     "output_type": "stream",
     "text": [
      "<class 'tuple'>\n",
      "(1, '이', 3.0)\n",
      "<class 'tuple'>\n",
      "(1, '이', 3.0)\n",
      "<class 'tuple'>\n",
      "(1,)\n",
      "<class 'int'>\n",
      "1\n"
     ]
    }
   ],
   "source": [
    "#리스트[], 튜플은 ()\n",
    "튜플 = (1, \"이\", 3.0)\n",
    "print(type(튜플))\n",
    "print(튜플)\n",
    "\n",
    "#리스트 = [1, \"이\", 3.0]\n",
    "#print(type(리스트))\n",
    "#print(리스트)\n",
    "\n",
    "튜플2 = 1, \"이\", 3.0\n",
    "print(type(튜플2))\n",
    "print(튜플2)\n",
    "\n",
    "#하나의 값만 들어있는 튜플을 만들고 싶다면?\n",
    "튜플_솔로 = (1, )\n",
    "print(type(튜플_솔로))\n",
    "print(튜플_솔로)\n",
    "\n",
    "튜플_나는솔로 = (1)\n",
    "print(type(튜플_나는솔로))\n",
    "print(튜플_나는솔로)"
   ]
  },
  {
   "cell_type": "code",
   "execution_count": null,
   "metadata": {
    "colab": {
     "base_uri": "https://localhost:8080/"
    },
    "executionInfo": {
     "elapsed": 239,
     "status": "ok",
     "timestamp": 1736155618792,
     "user": {
      "displayName": "조수민",
      "userId": "01033091443594520555"
     },
     "user_tz": -540
    },
    "id": "ZqzXfAWf7hVl",
    "outputId": "f7b43df7-0e59-43df-c5a7-ec020361e9a6"
   },
   "outputs": [
    {
     "name": "stdout",
     "output_type": "stream",
     "text": [
      "(1, '이', 3.0)\n",
      "['__add__', '__class__', '__class_getitem__', '__contains__', '__delattr__', '__dir__', '__doc__', '__eq__', '__format__', '__ge__', '__getattribute__', '__getitem__', '__getnewargs__', '__gt__', '__hash__', '__init__', '__init_subclass__', '__iter__', '__le__', '__len__', '__lt__', '__mul__', '__ne__', '__new__', '__reduce__', '__reduce_ex__', '__repr__', '__rmul__', '__setattr__', '__sizeof__', '__str__', '__subclasshook__', 'count', 'index']\n",
      "['__add__', '__class__', '__class_getitem__', '__contains__', '__delattr__', '__delitem__', '__dir__', '__doc__', '__eq__', '__format__', '__ge__', '__getattribute__', '__getitem__', '__gt__', '__hash__', '__iadd__', '__imul__', '__init__', '__init_subclass__', '__iter__', '__le__', '__len__', '__lt__', '__mul__', '__ne__', '__new__', '__reduce__', '__reduce_ex__', '__repr__', '__reversed__', '__rmul__', '__setattr__', '__setitem__', '__sizeof__', '__str__', '__subclasshook__', 'append', 'clear', 'copy', 'count', 'extend', 'index', 'insert', 'pop', 'remove', 'reverse', 'sort']\n",
      "<class 'list'>\n"
     ]
    }
   ],
   "source": [
    "#값 추가, 삭제, 변경 불가....진실?\n",
    "print(튜플)\n",
    "print(dir(튜플))\n",
    "print(dir(list))\n",
    "\n",
    "튜플_리스트화 = list(튜플)\n",
    "print(type(튜플_리스트화))"
   ]
  },
  {
   "cell_type": "code",
   "execution_count": null,
   "metadata": {
    "colab": {
     "base_uri": "https://localhost:8080/",
     "height": 180
    },
    "executionInfo": {
     "elapsed": 260,
     "status": "error",
     "timestamp": 1736155771877,
     "user": {
      "displayName": "조수민",
      "userId": "01033091443594520555"
     },
     "user_tz": -540
    },
    "id": "VKwQs73Q8L3d",
    "outputId": "65c03834-9436-45f4-ad50-81bef85f2acb"
   },
   "outputs": [
    {
     "ename": "TypeError",
     "evalue": "'tuple' object does not support item assignment",
     "output_type": "error",
     "traceback": [
      "\u001b[0;31m---------------------------------------------------------------------------\u001b[0m",
      "\u001b[0;31mTypeError\u001b[0m                                 Traceback (most recent call last)",
      "\u001b[0;32m<ipython-input-130-327819df4cbe>\u001b[0m in \u001b[0;36m<cell line: 4>\u001b[0;34m()\u001b[0m\n\u001b[1;32m      2\u001b[0m \u001b[0;31m#튜플.append(\"두리안\")\u001b[0m\u001b[0;34m\u001b[0m\u001b[0;34m\u001b[0m\u001b[0m\n\u001b[1;32m      3\u001b[0m \u001b[0;31m#del 튜플[2]\u001b[0m\u001b[0;34m\u001b[0m\u001b[0;34m\u001b[0m\u001b[0m\n\u001b[0;32m----> 4\u001b[0;31m \u001b[0m튜플\u001b[0m\u001b[0;34m[\u001b[0m\u001b[0;36m1\u001b[0m\u001b[0;34m]\u001b[0m \u001b[0;34m=\u001b[0m \u001b[0;34m\"너만 믿는다\"\u001b[0m\u001b[0;34m\u001b[0m\u001b[0;34m\u001b[0m\u001b[0m\n\u001b[0m",
      "\u001b[0;31mTypeError\u001b[0m: 'tuple' object does not support item assignment"
     ]
    }
   ],
   "source": [
    "#값의 삽입, 삭제, 변경을 지원하지 않는지 확인\n",
    "#튜플.append(\"두리안\")\n",
    "#del 튜플[2]\n",
    "튜플[1] = \"너만 믿는다\""
   ]
  },
  {
   "cell_type": "code",
   "execution_count": null,
   "metadata": {
    "colab": {
     "base_uri": "https://localhost:8080/"
    },
    "executionInfo": {
     "elapsed": 392,
     "status": "ok",
     "timestamp": 1736156233147,
     "user": {
      "displayName": "조수민",
      "userId": "01033091443594520555"
     },
     "user_tz": -540
    },
    "id": "hgqWryA09w24",
    "outputId": "882af974-cbd7-43dc-999b-dbe94cbfc7c5"
   },
   "outputs": [
    {
     "name": "stdout",
     "output_type": "stream",
     "text": [
      "['중', '꺾', '그', '마']\n",
      "('중', '꺾', '그', '마')\n",
      "['중', '뿌', '그', '마']\n",
      "중뿌그마\n"
     ]
    }
   ],
   "source": [
    "#\n",
    "수강생 = \"중꺾그마\"\n",
    "\n",
    "수강생_list = list(수강생)\n",
    "수강생_tuple = tuple(수강생)\n",
    "\n",
    "print(수강생_list)\n",
    "print(수강생_tuple)\n",
    "\n",
    "수강생_list[1] = \"뿌\"\n",
    "print(수강생_list)\n",
    "\n",
    "\n",
    "#join함수 공부 알고 있으면 코테에 좋아요\n",
    "취뽀_수강생 = \"\".join(수강생_list)\n",
    "print(취뽀_수강생)"
   ]
  },
  {
   "cell_type": "code",
   "execution_count": null,
   "metadata": {
    "colab": {
     "base_uri": "https://localhost:8080/"
    },
    "executionInfo": {
     "elapsed": 260,
     "status": "ok",
     "timestamp": 1736156805619,
     "user": {
      "displayName": "조수민",
      "userId": "01033091443594520555"
     },
     "user_tz": -540
    },
    "id": "DR2cIM_A-vz0",
    "outputId": "02f262fc-cba5-47a0-8cc7-2879e2613bbc"
   },
   "outputs": [
    {
     "name": "stdout",
     "output_type": "stream",
     "text": [
      "(1, '이', 3.0)\n"
     ]
    },
    {
     "data": {
      "text/plain": [
       "('이', 3.0)"
      ]
     },
     "execution_count": 148,
     "metadata": {},
     "output_type": "execute_result"
    }
   ],
   "source": [
    "# 공통점\n",
    "print(튜플)\n",
    "# 같이 구할 수 있음\n",
    "len(튜플)\n",
    "#곱하기 연산으로 요소를 복사할 수 있음\n",
    "튜플 * 3\n",
    "#튜플은 요소들끼리 더할 수 있다\n",
    "튜플 + 튜플\n",
    "#튜플은 인덱싱이 가능하다.\n",
    "튜플[2]\n",
    "#튜플의 인덱스\n",
    "튜플.index(3.0)\n",
    "#튜플 요소의 갯수\n",
    "튜플.count(1)\n",
    "#튜플도 슬라이싱이 가능하다\n",
    "튜플[1:3]"
   ]
  },
  {
   "cell_type": "markdown",
   "metadata": {
    "id": "ZW9de4EbAqcP"
   },
   "source": [
    "#tuple 왜 쓸까요?\n",
    "\n",
    "1. 3go가 불가하기 때문입니다. (넣고, 삭제하고, 바꾸고)\n",
    "        여러명이 코딩을 하는 경우 변경되면 안되는 변수를 건드리는 경우\n",
    "        또는 값이 변경되면 안되는 중요한 데이터를 넣어서 보안적으로 관리하기 좋다.(은행계좌, 비밀번호 등등....)\n",
    "2. list는 tuple보다 무겁다\n",
    "\n",
    "        단지 기능이 많아서 무거운걸까요?\n",
    "        파이썬은 c로 만들어졌습니다.??\n",
    "\n",
    "        파이썬은 동적배열을 지원합니다.\n",
    "        - list = [1, 2, 3, 4] 생성해서 4개에 값을 모두 넣었습니다.\n",
    "        - 문제는 그 다음 값을 추가할때 이미 공간이 다 찼기 때문에 추가 할당을 진행합니다.\n",
    "         추가 할당 시 메모리 크기는 4, 8, 16 ... 더블링을 해줍니다.\n",
    "3. 리스트는 가변, 튜플은 불변이다.\n",
    "\n",
    "        값이 고정 되어야 하거나 크기가 작을 경우 튜플을 권장한다.\n",
    "        "
   ]
  },
  {
   "cell_type": "markdown",
   "metadata": {
    "id": "4Sf2zA1pmkel"
   },
   "source": [
    "* 가변객체와 불변객체(이미 다 써봄..)\n",
    "* 파이썬 리스트의 동적배열\n",
    "* 자료구조 책을 한번 사보는 것 추천(파이썬 클린코드)\n"
   ]
  },
  {
   "cell_type": "code",
   "execution_count": null,
   "metadata": {
    "colab": {
     "base_uri": "https://localhost:8080/"
    },
    "executionInfo": {
     "elapsed": 286,
     "status": "ok",
     "timestamp": 1736168388802,
     "user": {
      "displayName": "조수민",
      "userId": "01033091443594520555"
     },
     "user_tz": -540
    },
    "id": "haFkWNYZq_jY",
    "outputId": "257b4f4f-5112-4565-bf90-9b2efa191c32"
   },
   "outputs": [
    {
     "name": "stdout",
     "output_type": "stream",
     "text": [
      "짱짱맨의 힘은 30입니다\n"
     ]
    }
   ],
   "source": [
    "#list : [] tuple : () dict : {}\n",
    "짱짱맨 = {\"힘\":30, \"지능\":20, \"체력\":40, \"민첩\":90}\n",
    "짱짱맨\n",
    "\n",
    "\n",
    "# {키 : 값}\n",
    "# {key1:value, key2:value2}\n",
    "\n",
    "#시퀀스 데이터는 인덱싱을 이용해 데이터를 찾았습니다.\n",
    "\n",
    "짱짱맨[\"힘\"]\n",
    "print(f'짱짱맨의 힘은 {짱짱맨[\"힘\"]}입니다')"
   ]
  },
  {
   "cell_type": "code",
   "execution_count": null,
   "metadata": {
    "colab": {
     "base_uri": "https://localhost:8080/"
    },
    "executionInfo": {
     "elapsed": 263,
     "status": "ok",
     "timestamp": 1736168758807,
     "user": {
      "displayName": "조수민",
      "userId": "01033091443594520555"
     },
     "user_tz": -540
    },
    "id": "W9BYtT7ps33U",
    "outputId": "7aad5c7e-4d9a-4666-a7f8-bcab8e9899a6"
   },
   "outputs": [
    {
     "data": {
      "text/plain": [
       "{'힘': 30, '지능': 20, '체력': 40, '민첩': 90}"
      ]
     },
     "execution_count": 161,
     "metadata": {},
     "output_type": "execute_result"
    }
   ],
   "source": [
    "# 딕셔너리를 만드는 다양한 방법\n",
    "\n",
    "# 빈 딕셔너리 만들기\n",
    "딕셔너리 = {}\n",
    "\n",
    "딕셔너리\n",
    "딕셔너리2 = dict()\n",
    "딕셔너리2\n",
    "#값을 넣어 만드는 방법\n",
    "#dict()로 생성시 값 넣는 기호 \"\", : 주의해 주세요\n",
    "딕셔너리3 = dict(힘=30, 지능=20, 체력=40, 민첩=90)\n",
    "딕셔너리3\n",
    "\n",
    "#zip() : 병렬처리를 도와줌\n",
    "딕셔너리4 = dict(zip([\"힘\", \"지능\", \"체력\", \"민첩\"], [30, 20, 40, 90]))\n",
    "딕셔너리4"
   ]
  },
  {
   "cell_type": "code",
   "execution_count": null,
   "metadata": {
    "colab": {
     "base_uri": "https://localhost:8080/"
    },
    "executionInfo": {
     "elapsed": 244,
     "status": "ok",
     "timestamp": 1736168910173,
     "user": {
      "displayName": "조수민",
      "userId": "01033091443594520555"
     },
     "user_tz": -540
    },
    "id": "UqAozfbYuSSE",
    "outputId": "3d8d2111-6c64-41fb-a168-387673f2380f"
   },
   "outputs": [
    {
     "data": {
      "text/plain": [
       "True"
      ]
     },
     "execution_count": 164,
     "metadata": {},
     "output_type": "execute_result"
    }
   ],
   "source": [
    "#값의 중복은 허락하는데 키의 중복은 허락 x\n",
    "#키 값은 중복이 있을때 앞에꺼는 지워짐\n",
    "짱짱맨 = {\"힘\":30, \"지능\":20, \"체력\":40, \"민첩\":90, \"힘\":40, \"지구력\":90}\n",
    "\n",
    "짱짱맨\n",
    "\"체력\"in 짱짱맨"
   ]
  },
  {
   "cell_type": "code",
   "execution_count": null,
   "metadata": {
    "colab": {
     "base_uri": "https://localhost:8080/"
    },
    "executionInfo": {
     "elapsed": 267,
     "status": "ok",
     "timestamp": 1736169228901,
     "user": {
      "displayName": "조수민",
      "userId": "01033091443594520555"
     },
     "user_tz": -540
    },
    "id": "PjEx90QTusyw",
    "outputId": "4dc6f34c-3b97-4c0c-af6c-8148ac08405b"
   },
   "outputs": [
    {
     "name": "stdout",
     "output_type": "stream",
     "text": [
      "dict_keys(['힘', '지능', '체력', '민첩', '지구력'])\n",
      "dict_values([40, 20, 40, 90, 90])\n",
      "dict_items([('힘', 40), ('지능', 20), ('체력', 40), ('민첩', 90), ('지구력', 90)])\n",
      "<class 'dict_items'>\n"
     ]
    },
    {
     "data": {
      "text/plain": [
       "40"
      ]
     },
     "execution_count": 176,
     "metadata": {},
     "output_type": "execute_result"
    }
   ],
   "source": [
    "#딕셔너리에 다양한 메소드\n",
    "\n",
    "print(짱짱맨.keys())\n",
    "print(짱짱맨.values())\n",
    "\n",
    "print(짱짱맨.items())\n",
    "print(type(짱짱맨.items()))\n",
    "\n",
    "리스화된_짱짱맨 = list(짱짱맨.items())\n",
    "리스화된_짱짱맨[0][1]"
   ]
  },
  {
   "cell_type": "code",
   "execution_count": null,
   "metadata": {
    "colab": {
     "base_uri": "https://localhost:8080/"
    },
    "executionInfo": {
     "elapsed": 268,
     "status": "ok",
     "timestamp": 1736169743803,
     "user": {
      "displayName": "조수민",
      "userId": "01033091443594520555"
     },
     "user_tz": -540
    },
    "id": "ACPrQlATvksc",
    "outputId": "9ba2754d-c622-4cc9-ce4a-29e4c6af7a1c"
   },
   "outputs": [
    {
     "data": {
      "text/plain": [
       "{'힘': 40, '지능': 100, '체력': 40, '민첩': 90, '손재주': 33, '매력': 100}"
      ]
     },
     "execution_count": 183,
     "metadata": {},
     "output_type": "execute_result"
    }
   ],
   "source": [
    "# 딕셔너리 값 추가, 삭제, 변경\n",
    "짱짱맨\n",
    "#del 짱짱맨[\"지구력\"]\n",
    "#짱짱맨\n",
    "#딕셔너리 값 변경\n",
    "#짱짱맨 [\"지능\"] = 100\n",
    "#짱짱맨\n",
    "#딕셔너리 값 추가\n",
    "짱짱맨.update({\"손재주\":33, \"매력\":100})\n",
    "짱짱맨"
   ]
  },
  {
   "cell_type": "code",
   "execution_count": null,
   "metadata": {
    "colab": {
     "base_uri": "https://localhost:8080/",
     "height": 36
    },
    "executionInfo": {
     "elapsed": 270,
     "status": "ok",
     "timestamp": 1736170030579,
     "user": {
      "displayName": "조수민",
      "userId": "01033091443594520555"
     },
     "user_tz": -540
    },
    "id": "tNO9DyELyH8f",
    "outputId": "d5e09e71-0c8b-44a5-cb47-c8c0a4ea2121"
   },
   "outputs": [
    {
     "data": {
      "application/vnd.google.colaboratory.intrinsic+json": {
       "type": "string"
      },
      "text/plain": [
       "'발렌시아'"
      ]
     },
     "execution_count": 188,
     "metadata": {},
     "output_type": "execute_result"
    }
   ],
   "source": [
    "코디 = {\n",
    "    \"모자\":{\n",
    "        \"캡\": \"발렌시아\",\n",
    "        \"비니\":\"셀린느\"\n",
    "    },\n",
    "    \"상의\" : {\n",
    "        \"후드티\":\"칼하트\",\n",
    "        \"맨투맨\":\"슈프림\"\n",
    "    }\n",
    "}\n",
    "코디\n",
    "코디[\"모자\"]\n",
    "코디[\"모자\"][\"캡\"]"
   ]
  },
  {
   "cell_type": "markdown",
   "metadata": {
    "id": "5Lrz5W0MzFnq"
   },
   "source": [
    "* 딕셔너리같은 경우는 해시, 해시맵, 해시테이블 굉장히 중요(key, value)"
   ]
  },
  {
   "cell_type": "code",
   "execution_count": null,
   "metadata": {
    "colab": {
     "base_uri": "https://localhost:8080/"
    },
    "executionInfo": {
     "elapsed": 7797,
     "status": "ok",
     "timestamp": 1736172995052,
     "user": {
      "displayName": "조수민",
      "userId": "01033091443594520555"
     },
     "user_tz": -540
    },
    "id": "QWw07mK58iKJ",
    "outputId": "11b8fe4f-6b9c-43fe-a48f-5fb33aeacadb"
   },
   "outputs": [
    {
     "name": "stdout",
     "output_type": "stream",
     "text": [
      "붕어빵 맛 순서대로 입력해주세요 안살꺼면 0입력(팥, 슈크림, 잡채)0, 1, 2\n",
      "주문이 완료 되었습니다. 팥 0개, 슈크림 1개, 잡채 2개 총 3개 결제 금액은 8500입니다\n"
     ]
    }
   ],
   "source": [
    "주문_개수 = map(int, input(f'붕어빵 맛 순서대로 입력해주세요 안살꺼면 0입력(팥, 슈크림, 잡채)').split(','))\n",
    "\n",
    "품목별_가격 = {\"팥\": 2000, \"슈크림\": 2500, \"잡채\": 3000}\n",
    "#딕셔너리는 순서가 없어 인덱싱으로 접근 불가\n",
    "\n",
    "주문_개수 = list(주문_개수)\n",
    "총_주문_개수 = sum(주문_개수)\n",
    "total = 0\n",
    "\n",
    "total += 품목별_가격[\"팥\"] * 주문_개수[0]\n",
    "total += 품목별_가격[\"슈크림\"] * 주문_개수[1]\n",
    "total += 품목별_가격[\"잡채\"] * 주문_개수[2]\n",
    "\n",
    "print(f'주문이 완료 되었습니다. 팥 {주문_개수[0]}개, 슈크림 {주문_개수[1]}개, 잡채 {주문_개수[2]}개 총 {총_주문_개수}개 결제 금액은 {total}입니다')"
   ]
  },
  {
   "cell_type": "code",
   "execution_count": null,
   "metadata": {
    "colab": {
     "base_uri": "https://localhost:8080/"
    },
    "executionInfo": {
     "elapsed": 264,
     "status": "ok",
     "timestamp": 1736173290198,
     "user": {
      "displayName": "조수민",
      "userId": "01033091443594520555"
     },
     "user_tz": -540
    },
    "id": "XY_7jZMB-875",
    "outputId": "70396a07-58ed-46c2-f9fe-3e0eb9fe46b1"
   },
   "outputs": [
    {
     "name": "stdout",
     "output_type": "stream",
     "text": [
      "{'양파', '당근', '대파', '배추'}\n"
     ]
    },
    {
     "data": {
      "text/plain": [
       "{}"
      ]
     },
     "execution_count": 207,
     "metadata": {},
     "output_type": "execute_result"
    }
   ],
   "source": [
    "채소 = {\"당근\", \"배추\", \"대파\", \"양파\"}\n",
    "type(채소)\n",
    "print(채소)\n",
    "\n",
    "# 순서가 없고, 출력하면 요소가 다르게 나오는 것도 특징\n",
    "\n",
    "#세트를 만드는 다양한 방법\n",
    "\n",
    "세트 = set()\n",
    "세트\n",
    "세트2 = {}\n",
    "세트2"
   ]
  },
  {
   "cell_type": "code",
   "execution_count": null,
   "metadata": {
    "colab": {
     "base_uri": "https://localhost:8080/"
    },
    "executionInfo": {
     "elapsed": 259,
     "status": "ok",
     "timestamp": 1736173442119,
     "user": {
      "displayName": "조수민",
      "userId": "01033091443594520555"
     },
     "user_tz": -540
    },
    "id": "UHMR1NUw_iPd",
    "outputId": "39e8bb81-04af-4ed1-e288-238d2c658b84"
   },
   "outputs": [
    {
     "name": "stdout",
     "output_type": "stream",
     "text": [
      "['a', 'p', 'p', 'l', 'e']\n",
      "('a', 'p', 'p', 'l', 'e')\n",
      "{'l', 'p', 'e', 'a'}\n"
     ]
    }
   ],
   "source": [
    "#중복을 제일 싫어하는 set\n",
    "\n",
    "사과_리스트 = list(\"apple\")\n",
    "print(사과_리스트)\n",
    "사과_튜플 = tuple(\"apple\")\n",
    "print(사과_튜플)\n",
    "사과_set = set(\"apple\")\n",
    "print(사과_set)"
   ]
  },
  {
   "cell_type": "code",
   "execution_count": 219,
   "metadata": {
    "colab": {
     "base_uri": "https://localhost:8080/"
    },
    "executionInfo": {
     "elapsed": 238,
     "status": "ok",
     "timestamp": 1736180111624,
     "user": {
      "displayName": "조수민",
      "userId": "01033091443594520555"
     },
     "user_tz": -540
    },
    "id": "d8Vph6kVYQkb",
    "outputId": "f83f3ac1-b605-4bea-9658-09883cd8276e"
   },
   "outputs": [
    {
     "data": {
      "text/plain": [
       "{'당근', '대파', '양파'}"
      ]
     },
     "execution_count": 219,
     "metadata": {},
     "output_type": "execute_result"
    }
   ],
   "source": [
    "# set() 자료형의 데이터 추가, 삭제, 변경\n",
    "#채소\n",
    "\n",
    "#set() 함수의 데이터 삽입\n",
    "#채소.add(\"토마토\")\n",
    "#채소\n",
    "\n",
    "#채소.update(\"깻잎\")\n",
    "#채소\n",
    "\n",
    "#set() 함수의 데이터 삭제\n",
    "#채소.remove(\"잎\")\n",
    "\n",
    "#채소.discard(\"깻\")\n",
    "#채소\n",
    "\n",
    "#채소.discard(\"깻\")\n",
    "#채소\n",
    "\n",
    "채소.pop()\n",
    "채소\n",
    "\n",
    "#pop같은경우는 set에서는 랜덤 삭제 다른 자료형에서는 끝에 있는 자료를 삭제후 반환"
   ]
  },
  {
   "cell_type": "code",
   "execution_count": 221,
   "metadata": {
    "colab": {
     "base_uri": "https://localhost:8080/"
    },
    "executionInfo": {
     "elapsed": 256,
     "status": "ok",
     "timestamp": 1736180284463,
     "user": {
      "displayName": "조수민",
      "userId": "01033091443594520555"
     },
     "user_tz": -540
    },
    "id": "PAepzeUsZzYJ",
    "outputId": "dd243679-07c4-453c-9f36-f1d6d09cb997"
   },
   "outputs": [
    {
     "name": "stdout",
     "output_type": "stream",
     "text": [
      "양파는 내다버린 채소입니다.\n"
     ]
    }
   ],
   "source": [
    "채소 = {\"당근\", \"배추\", \"대파\", \"양파\"}\n",
    "반환된_채소 = 채소.pop()\n",
    "print(f'{반환된_채소}는 내다버린 채소입니다.')\n"
   ]
  },
  {
   "cell_type": "code",
   "execution_count": 222,
   "metadata": {
    "colab": {
     "base_uri": "https://localhost:8080/"
    },
    "executionInfo": {
     "elapsed": 258,
     "status": "ok",
     "timestamp": 1736180300229,
     "user": {
      "displayName": "조수민",
      "userId": "01033091443594520555"
     },
     "user_tz": -540
    },
    "id": "uVhUbD8CaKSL",
    "outputId": "d4915a8e-227b-4879-8644-128166bd66e7"
   },
   "outputs": [
    {
     "data": {
      "text/plain": [
       "{'당근', '대파', '배추'}"
      ]
     },
     "execution_count": 222,
     "metadata": {},
     "output_type": "execute_result"
    }
   ],
   "source": [
    "채소"
   ]
  },
  {
   "cell_type": "code",
   "execution_count": 228,
   "metadata": {
    "colab": {
     "base_uri": "https://localhost:8080/"
    },
    "executionInfo": {
     "elapsed": 257,
     "status": "ok",
     "timestamp": 1736180714660,
     "user": {
      "displayName": "조수민",
      "userId": "01033091443594520555"
     },
     "user_tz": -540
    },
    "id": "w1t8dORFaTTT",
    "outputId": "f59a6a1e-4077-47a4-d79a-297bae18967c"
   },
   "outputs": [
    {
     "data": {
      "text/plain": [
       "{'당근', '배추'}"
      ]
     },
     "execution_count": 228,
     "metadata": {},
     "output_type": "execute_result"
    }
   ],
   "source": [
    "#set = 집합, 합집합, 교집합, 차집합 기타 등등\n",
    "\n",
    "#대표적으로 합집합, 교집합, 차집합\n",
    "\n",
    "채소1 = {\"당근\", \"양파\", \"오이\", \"배추\"}\n",
    "채소2 = {\"양파\", \"오이\", \"대파\", \"가지\"}\n",
    "#합집합(union)\n",
    "채소1 | 채소2\n",
    "set.union(채소1, 채소2)\n",
    "\n",
    "#교집합(intersection)\n",
    "채소1 & 채소2\n",
    "set.intersection(채소1, 채소2)\n",
    "\n",
    "#차집합(difference)\n",
    "채소1 - 채소2\n",
    "set.difference(채소1, 채소2)\n",
    "\n"
   ]
  }
 ],
 "metadata": {
  "colab": {
   "provenance": []
  },
  "kernelspec": {
   "display_name": "Python 3",
   "name": "python3"
  },
  "language_info": {
   "name": "python"
  }
 },
 "nbformat": 4,
 "nbformat_minor": 0
}
