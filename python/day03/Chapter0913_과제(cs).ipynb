{
 "cells": [
  {
   "cell_type": "markdown",
   "metadata": {
    "id": "WXEwMsfUct7U"
   },
   "source": [
    "컴퓨터 기초 지식을 의미하는 CS(Computer science)는<br>\n",
    "코딩 테스트와 함께 기술 면접에서 지원자에게 필수적으로 요구합니다.<br>\n",
    "\n",
    "수업 내용 중 기술 면접에 자주 나오는 질문 3가지와 기본적으로 알아야 할 내용 과제로 선정했습니다.<br>\n",
    "\n",
    "관련 내용에 대해서는 구글링 또는 관련 서적을 통해 상세히 공부하시고<br>\n",
    "답변은 최대한 핵심만 담아 간결하게 작성해주세요<br>\n",
    "\n",
    "기술 블로그를 운영 중이신 경우<br>\n",
    "답변 내용을 기술 블로그에 작성하신 후 링크를 답변에 남겨주셔도 됩니다.<br>"
   ]
  },
  {
   "cell_type": "markdown",
   "metadata": {
    "id": "qoyC9wF-3hvs"
   },
   "source": [
    "-----"
   ]
  },
  {
   "cell_type": "markdown",
   "metadata": {
    "id": "rAD_O3Gmc_43"
   },
   "source": [
    "[문제1]\n",
    "\n",
    "list와 tuple의 주된 차이점은 무엇인가요?"
   ]
  },
  {
   "cell_type": "markdown",
   "metadata": {},
   "source": [
    "list는 값을 추가, 삭제, 변경할 수 있지만 tuple은 추가, 삭제, 변경이 불가능하다.\n"
   ]
  },
  {
   "cell_type": "markdown",
   "metadata": {},
   "source": [
    "---"
   ]
  },
  {
   "cell_type": "markdown",
   "metadata": {
    "id": "3uK_auXYdgk2"
   },
   "source": [
    "[문제2]\n",
    "\n",
    "Python의 set에 대해 설명해주세요"
   ]
  },
  {
   "cell_type": "markdown",
   "metadata": {},
   "source": [
    "set은 수학의 집합을 의미합니다\n",
    "dict와 같이 순서가 없습니다.\n",
    "값의 중복을 허락하지 않습니다.\n",
    "생성 방식은 {}입니다."
   ]
  },
  {
   "cell_type": "markdown",
   "metadata": {},
   "source": [
    "---"
   ]
  },
  {
   "cell_type": "markdown",
   "metadata": {},
   "source": [
    "[문제3]\n",
    "\n",
    "Python의 list는 연결리스트(linked list)인가요?"
   ]
  },
  {
   "cell_type": "markdown",
   "metadata": {},
   "source": [
    "파이썬의 리스트는 연결 리스트의 기능이 포함되어 있습니다.\n",
    "파이썬의 리스트는 여러 개의 데이터를 순서대로 배열한 집합으로 모든 종류의 데이터를 포함할 수 있고, 리스트 내에 리스트를 포함할 수 있습니다.\n",
    "리스트에 저장되는 요소가 모두 같은 타입일 필요는 없습니다.\n",
    "각 요소는 0부터 시작하는 index를 사용하여 접근할 수 있습니다.\n",
    "파이썬 리스트에서는 데이터 항목 추가, 제거, 정렬 등 여러 작업을 돕는 함수를 제공합니다.\n",
    "연결 리스트는 데이터를 저장하는 기초 선형 자료구조로, 각 노드가 데이터와 포인터를 가지고 한 줄로 연결되어 있습니다. 연결 리스트에는 싱글 연결리스트, 더블 연결리스트, 원형 연결리스트가 있습니다."
   ]
  },
  {
   "cell_type": "markdown",
   "metadata": {},
   "source": [
    "---"
   ]
  },
  {
   "cell_type": "markdown",
   "metadata": {},
   "source": [
    "\n",
    "[문제4]\n",
    "\n",
    "딕셔너리 자료형에 대해 설명해주세요."
   ]
  },
  {
   "cell_type": "markdown",
   "metadata": {},
   "source": [
    "list, tuple, str, range(범위안에 연속된 데이터를 만드는 시퀀스 였습니다)\n",
    "공통적인 특징이 있고 데이터의 연관성이 없습니다.\n",
    "여러개의 값이 일렬로 정렬되면서도 값끼리의 연관성이 존재합니다.\n",
    "생성방식은 {}"
   ]
  },
  {
   "cell_type": "markdown",
   "metadata": {},
   "source": [
    "---"
   ]
  }
 ],
 "metadata": {
  "colab": {
   "authorship_tag": "ABX9TyP7YKA5FdtGggYfD74V7SMJ",
   "provenance": []
  },
  "kernelspec": {
   "display_name": "Python 3",
   "name": "python3"
  },
  "language_info": {
   "name": "python"
  }
 },
 "nbformat": 4,
 "nbformat_minor": 0
}
