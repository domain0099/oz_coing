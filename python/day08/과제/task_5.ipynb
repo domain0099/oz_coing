{
 "cells": [
  {
   "cell_type": "markdown",
   "metadata": {},
   "source": [
    "[문제]\n",
    "\n",
    "'Account' 클래스를 작성하세요. \n",
    "\n",
    "이 클래스는 소유자(owner)와 잔액(balance)을 속성으로 가지며, 잔액은 프라이빗 변수로 선언합니다. \n",
    "\n",
    "'deposit'와 'withdraw' 두 개의 메소드를 통해 잔액을 조작할 수 있도록 하세요. \n",
    "\n",
    "이 때, 잔액은 음수가 될 수 없도록 체크해야 합니다. 'Account' 객체를 생성하고,<br>\n",
    "입금 및 출금 작업을 시뮬레이션한 후, 최종 잔액을 출력하세요."
   ]
  },
  {
   "cell_type": "code",
   "execution_count": 5,
   "metadata": {},
   "outputs": [
    {
     "name": "stdout",
     "output_type": "stream",
     "text": [
      "100000원이 입금 되었습니다\n",
      "50000원이 출금되었습니다.\n",
      "잔액이 부족합니다.\n",
      "조수민님의 최종 잔액150000입니다\n"
     ]
    }
   ],
   "source": [
    "import math\n",
    "\n",
    "class Account :\n",
    "    def __init__(self, owner, balance):\n",
    "        self.owner = owner\n",
    "        self.__balance = balance\n",
    "    def deposit(self, amount):\n",
    "        if amount > 0:\n",
    "            self.__balance += amount\n",
    "            print(f'{amount}원이 입금 되었습니다')\n",
    "        else :\n",
    "            print('입금금액은 0원보다 커야합니다.')\n",
    "    def withdraw(self, amount):\n",
    "        if amount > self.__balance :\n",
    "            print(f'잔액이 부족합니다.')\n",
    "        elif amount <= 0 :\n",
    "            print(f'출금액이 0원보다 커야합니다.')\n",
    "        else : \n",
    "            self.__balance -= amount\n",
    "            print(f'{amount}원이 출금되었습니다.')\n",
    "\n",
    "    def get_balance(self):\n",
    "        return self.__balance\n",
    "\n",
    "account = Account('조수민', 100000)\n",
    "\n",
    "account.deposit(100000)\n",
    "\n",
    "account.withdraw(50000)\n",
    "account.withdraw(200000)\n",
    "\n",
    "account.balance = 100000000\n",
    "print(f'{account.owner}님의 최종 잔액{account.get_balance()}입니다')\n",
    "\n",
    "\n"
   ]
  },
  {
   "cell_type": "code",
   "execution_count": 6,
   "metadata": {},
   "outputs": [
    {
     "name": "stdout",
     "output_type": "stream",
     "text": [
      "100000원이 입금 되었습니다\n",
      "50000원이 출금되었습니다.\n",
      "잔액이 부족합니다.\n",
      "조수민님의 최종 잔액100000000입니다\n"
     ]
    }
   ],
   "source": [
    "import math\n",
    "\n",
    "class Account :\n",
    "    def __init__(self, owner, balance):\n",
    "        self.owner = owner\n",
    "        self.balance = balance\n",
    "    def deposit(self, amount):\n",
    "        if amount > 0:\n",
    "            self.balance += amount\n",
    "            print(f'{amount}원이 입금 되었습니다')\n",
    "        else :\n",
    "            print('입금금액은 0원보다 커야합니다.')\n",
    "    def withdraw(self, amount):\n",
    "        if amount > self.balance :\n",
    "            print(f'잔액이 부족합니다.')\n",
    "        elif amount <= 0 :\n",
    "            print(f'출금액이 0원보다 커야합니다.')\n",
    "        else : \n",
    "            self.balance -= amount\n",
    "            print(f'{amount}원이 출금되었습니다.')\n",
    "\n",
    "    def get_balance(self):\n",
    "        return self.balance\n",
    "\n",
    "account = Account('조수민', 100000)\n",
    "\n",
    "account.deposit(100000)\n",
    "\n",
    "account.withdraw(50000)\n",
    "account.withdraw(200000)\n",
    "\n",
    "account.balance = 100000000\n",
    "print(f'{account.owner}님의 최종 잔액{account.get_balance()}입니다')"
   ]
  }
 ],
 "metadata": {
  "kernelspec": {
   "display_name": "Python 3",
   "language": "python",
   "name": "python3"
  },
  "language_info": {
   "codemirror_mode": {
    "name": "ipython",
    "version": 3
   },
   "file_extension": ".py",
   "mimetype": "text/x-python",
   "name": "python",
   "nbconvert_exporter": "python",
   "pygments_lexer": "ipython3",
   "version": "3.13.1"
  }
 },
 "nbformat": 4,
 "nbformat_minor": 2
}
