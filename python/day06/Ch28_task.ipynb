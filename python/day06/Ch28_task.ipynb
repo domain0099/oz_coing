{
 "cells": [
  {
   "cell_type": "markdown",
   "metadata": {},
   "source": [
    "사용자로부터 3개의 숫자를 입력받아, 이를 튜플로 만든 후 최소값과 최대값을 출력하는 함수 min_max를 작성하세요."
   ]
  },
  {
   "cell_type": "markdown",
   "metadata": {},
   "source": []
  },
  {
   "cell_type": "code",
   "execution_count": 5,
   "metadata": {},
   "outputs": [
    {
     "name": "stdout",
     "output_type": "stream",
     "text": [
      "1 10\n"
     ]
    }
   ],
   "source": [
    "def tuple_min_max() :\n",
    "    numbers = tuple(map(int, input(\"3개의 숫자를 ,를 구분하여 입력하세요\").split(',')))\n",
    "    return numbers\n",
    "\n",
    "def min_max(numbers) :\n",
    "    min_value = min(numbers)\n",
    "    max_value = max(numbers)\n",
    "    return min_value, max_value\n",
    "\n",
    "numbers_tuple = tuple_min_max()\n",
    "min_value, max_value = min_max(numbers_tuple)\n",
    "print(min_value, max_value)"
   ]
  }
 ],
 "metadata": {
  "kernelspec": {
   "display_name": "Python 3",
   "language": "python",
   "name": "python3"
  },
  "language_info": {
   "codemirror_mode": {
    "name": "ipython",
    "version": 3
   },
   "file_extension": ".py",
   "mimetype": "text/x-python",
   "name": "python",
   "nbconvert_exporter": "python",
   "pygments_lexer": "ipython3",
   "version": "3.13.1"
  }
 },
 "nbformat": 4,
 "nbformat_minor": 2
}
