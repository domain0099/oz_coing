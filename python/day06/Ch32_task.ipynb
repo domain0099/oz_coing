{
 "cells": [
  {
   "cell_type": "markdown",
   "metadata": {},
   "source": [
    "두 문자열을 받아서 긴 문자열을 반환하는 함수 longer_string을 작성하세요. 만약 두 문자열의 길이가 같다면, 첫 번째 문자열을 반환하세요."
   ]
  },
  {
   "cell_type": "code",
   "execution_count": 6,
   "metadata": {},
   "outputs": [
    {
     "name": "stdout",
     "output_type": "stream",
     "text": [
      "byebyebye\n",
      "안녕\n",
      "banana\n"
     ]
    }
   ],
   "source": [
    "def longer_string(str1 : str, str2 : str) -> str :\n",
    "    if len(str1) >= len(str2) :\n",
    "        return str1\n",
    "    else :\n",
    "        return str2\n",
    "result = longer_string(\"byebyebye\", \"hello\")\n",
    "result2 = longer_string(\"안녕\", \"그래\")\n",
    "result3 = longer_string(\"apple\", \"banana\")\n",
    "print(result)\n",
    "print(result2)\n",
    "print(result3)\n",
    "\n",
    "\n"
   ]
  },
  {
   "cell_type": "markdown",
   "metadata": {},
   "source": []
  }
 ],
 "metadata": {
  "kernelspec": {
   "display_name": "Python 3",
   "language": "python",
   "name": "python3"
  },
  "language_info": {
   "codemirror_mode": {
    "name": "ipython",
    "version": 3
   },
   "file_extension": ".py",
   "mimetype": "text/x-python",
   "name": "python",
   "nbconvert_exporter": "python",
   "pygments_lexer": "ipython3",
   "version": "3.13.1"
  }
 },
 "nbformat": 4,
 "nbformat_minor": 2
}
