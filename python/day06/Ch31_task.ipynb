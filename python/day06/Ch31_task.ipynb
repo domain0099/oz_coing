{
 "cells": [
  {
   "cell_type": "markdown",
   "metadata": {},
   "source": [
    "문자열 리스트를 받아, 각 문자열의 길이를 출력하는 함수 print_lengths를 작성하세요."
   ]
  },
  {
   "cell_type": "markdown",
   "metadata": {},
   "source": []
  },
  {
   "cell_type": "code",
   "execution_count": 2,
   "metadata": {},
   "outputs": [
    {
     "name": "stdout",
     "output_type": "stream",
     "text": [
      "'apple' 의 길이 : 5\n",
      "'banana' 의 길이 : 6\n",
      "'pear' 의 길이 : 4\n",
      "'strawberry' 의 길이 : 10\n"
     ]
    }
   ],
   "source": [
    "def print_lengths(strings) :\n",
    "    for string in strings :\n",
    "        print(f\"'{string}' 의 길이 : {len(string)}\")\n",
    "\n",
    "string_list = [\"apple\", \"banana\", \"pear\", \"strawberry\"]\n",
    "\n",
    "print_lengths(string_list)"
   ]
  }
 ],
 "metadata": {
  "kernelspec": {
   "display_name": "Python 3",
   "language": "python",
   "name": "python3"
  },
  "language_info": {
   "codemirror_mode": {
    "name": "ipython",
    "version": 3
   },
   "file_extension": ".py",
   "mimetype": "text/x-python",
   "name": "python",
   "nbconvert_exporter": "python",
   "pygments_lexer": "ipython3",
   "version": "3.13.1"
  }
 },
 "nbformat": 4,
 "nbformat_minor": 2
}
