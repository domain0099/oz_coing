{
 "cells": [
  {
   "cell_type": "markdown",
   "metadata": {},
   "source": [
    "<span style=\"font-size:100%\">\n",
    "\n",
    "수업은 모두 열심히 들으셨나요?\n",
    "\n",
    "간혹 강의에서 언급되지 않은 내용이 문제로 나올 수 있습니다.<br>\n",
    "그럴땐 강의 내용 외 문제는 구글링을 통해 해결해주세요<br></span>\n",
    "<span style=\"font-size:80%\">\n",
    "(구글링 또한 개발자가 갖쳐야할 역량 중에 하나랍니다 😊)\n",
    "</span>\n",
    "\n",
    "---"
   ]
  },
  {
   "cell_type": "markdown",
   "metadata": {},
   "source": [
    "<span style=\"font-size:80%\">[문제1]<br><br></span>\n",
    "```주로 작성 중인 코드의 끝을 알리는 기호로 사용되며 파이썬에서 한 줄에 작성된 서로 다른 코드를 구분 지을 때 사용할 수 있는 기호를 골라주세요```\n",
    "\n",
    "1. ' , ' (쉼표)\n",
    "2. ' + ' (더하기 기호)\n",
    "3. ' ; ' (세미콜론)\n",
    "4. ' / ' (슬래시)"
   ]
  },
  {
   "cell_type": "markdown",
   "metadata": {},
   "source": [
    "<span style=\"color:red\">답변</span> :"
   ]
  },
  {
   "cell_type": "markdown",
   "metadata": {},
   "source": []
  },
  {
   "cell_type": "markdown",
   "metadata": {},
   "source": [
    "3"
   ]
  },
  {
   "cell_type": "markdown",
   "metadata": {},
   "source": [
    "<span style=\"font-size:80%\">[문제2]<br><br></span>\n",
    "```Python의 PEP 8은 무엇인지 설명하고 PEP 8의 핵심적인 규칙을 1개 이상을 설명해주세요```"
   ]
  },
  {
   "cell_type": "markdown",
   "metadata": {},
   "source": [
    "<span style=\"color:red\">답변</span>"
   ]
  },
  {
   "cell_type": "markdown",
   "metadata": {},
   "source": [
    "python enhance proposal의 약자로 파이썬 향상 제안\n",
    "파이썬 코드 작성법에 대한 가이드로 일관된 코드 작성을 위한 가이드\n",
    "\n",
    "\n",
    "code lay-out\n",
    "들여쓰기는 4개의 스페이스를 사용한다\n",
    "연속적인 라인은 괄호들 ((),{},[])안의 원소들을 수직으로 정렬하거나, hanging indent를 적용하여 정렬해야한다.\n",
    "# 출처 : https://velog.io/@treamor/python-PEP8-%EC%BD%94%EB%94%A9-%EC%8A%A4%ED%83%80%EC%9D%BC-%EA%B0%80%EC%9D%B4%EB%93%9C"
   ]
  },
  {
   "cell_type": "markdown",
   "metadata": {},
   "source": [
    "----"
   ]
  },
  {
   "cell_type": "markdown",
   "metadata": {},
   "source": [
    "<span style=\"font-size:80%\">[문제3]<br><br></span>\n",
    "```Python에서 \"#\"이 의마하는 것은 무엇인지 설명해주세요```"
   ]
  },
  {
   "cell_type": "markdown",
   "metadata": {},
   "source": [
    "<span style=\"color:red\">답변</span>"
   ]
  },
  {
   "cell_type": "markdown",
   "metadata": {},
   "source": [
    "주석 : 메모 인식되지 않음, 가독성을 향상시켜줌"
   ]
  },
  {
   "cell_type": "markdown",
   "metadata": {},
   "source": [
    "----"
   ]
  },
  {
   "cell_type": "markdown",
   "metadata": {},
   "source": [
    "<span style=\"font-size:80%\">[문제4]<br><br></span>\n",
    "```Python의 들여쓰기 장점과 기능에 대해 설명해주세요```"
   ]
  },
  {
   "cell_type": "markdown",
   "metadata": {},
   "source": [
    "<span style=\"color:red\">답변</span>"
   ]
  },
  {
   "cell_type": "markdown",
   "metadata": {},
   "source": [
    "장점 : 가독성 향상, 코드의 일관성, 블록 구분(코드블록의 시작과 끝이 명시적으로 표시되므로 중괄호를 사용하는 언어에서 발생하는 오류 중 일부를 방지할 수 있다)"
   ]
  },
  {
   "cell_type": "markdown",
   "metadata": {},
   "source": [
    "----"
   ]
  },
  {
   "cell_type": "markdown",
   "metadata": {},
   "source": [
    "<span style=\"font-size:80%\">[문제5]<br><br></span>\n",
    "```print( )문의 기능 및 특징에 대해 설명해주세요```"
   ]
  },
  {
   "cell_type": "markdown",
   "metadata": {},
   "source": [
    "<span style=\"color:red\">답변</span>"
   ]
  },
  {
   "cell_type": "code",
   "execution_count": null,
   "metadata": {},
   "outputs": [],
   "source": [
    "#기능 : print() 괄호안의 내용을 출력하는 함수\n",
    "\n",
    "#특징 : 여러개의 값을 출력하려면 콤마(,)로 구분하여 출력한다.\n",
    "\n"
   ]
  },
  {
   "cell_type": "markdown",
   "metadata": {},
   "source": []
  }
 ],
 "metadata": {
  "kernelspec": {
   "display_name": "Python 3",
   "language": "python",
   "name": "python3"
  },
  "language_info": {
   "name": "python",
   "version": "3.13.1"
  }
 },
 "nbformat": 4,
 "nbformat_minor": 2
}
