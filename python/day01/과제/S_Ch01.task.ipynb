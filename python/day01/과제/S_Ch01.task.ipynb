{
 "cells": [
  {
   "cell_type": "markdown",
   "metadata": {
    "id": "sJykePPWFzya"
   },
   "source": [
    "<span style=\"font-size:100%\">\n",
    "\n",
    "수업은 모두 열심히 들으셨나요?\n",
    "\n",
    "간혹 강의에서 언급되지 않은 내용이 문제로 나올 수 있습니다.<br>\n",
    "그럴땐 강의 내용 외 문제는 구글링을 통해 해결해주세요<br></span>\n",
    "<span style=\"font-size:80%\">\n",
    "(구글링 또한 개발자가 갖쳐야할 역량 중에 하나랍니다 😊)\n",
    "</span>\n",
    "\n",
    "---"
   ]
  },
  {
   "cell_type": "markdown",
   "metadata": {
    "id": "gpeNGQXeFzya"
   },
   "source": [
    "<span style=\"font-size:80%\">[문제1]<br><br></span>\n",
    "```인터프리트 방식에 대해 설명하고 2개 이상의 장점을 설명해주세요```"
   ]
  },
  {
   "cell_type": "markdown",
   "metadata": {
    "id": "Eky6wrnuFzyb"
   },
   "source": [
    "<span style=\"color:red\">답변</span>"
   ]
  },
  {
   "cell_type": "markdown",
   "metadata": {
    "id": "1jxupk8SFzyb"
   },
   "source": [
    "실행 속도가 느리다.\n",
    "번역 속도가 빠르다.\n",
    "\n",
    "징점 : 컴파일 과정이 필요하지 않아 개발 과정에서 빠른 피드백을 받을 수 있다\n",
    "      인터프리터 언어는 동적 타이핑을 지원하여 변수의 타입을 명시 하지 않아도 되므로 코드 작성이 간결해진다.\n",
    "단점 : 언어 실행 속도가 상당히 느리다.\n",
    "      매 실행시마다 소스 코드를 해석해야 하므로, 대규모 프로그램이나 복잡한 연산을 수행할 때는 성능 저하가 발생할 수 있다.\n",
    "      소스코드가 그대로 노출되므로 코드 보안에 취약할 수 있다."
   ]
  },
  {
   "cell_type": "markdown",
   "metadata": {
    "id": "ZZxtTfwcFzyb"
   },
   "source": [
    "---"
   ]
  },
  {
   "cell_type": "markdown",
   "metadata": {
    "id": "U_2WBQfsFzyb"
   },
   "source": [
    "<span style=\"font-size:80%\">[문제2]<br><br></span>\n",
    "```동적 타입 방식의 장점과 단점을 간략히 설명해주세요```"
   ]
  },
  {
   "cell_type": "markdown",
   "metadata": {
    "id": "VWcGvdTNFzyb"
   },
   "source": [
    "<span style=\"color:red\">답변</span>"
   ]
  },
  {
   "cell_type": "markdown",
   "metadata": {
    "id": "-5-pmdhoFzyb"
   },
   "source": [
    "장점 : 코드 작성 시 타입(용도)에 제한이 없기 때문에 유연성이 높고 효율적임\n",
    "단점 : 프로그램 실행 (RunTime)때 타입(용도)에 문제를 확인할 수 있기 때문에 코드가 길고 복잡할 경우 믄제해결이 쉽지 않음\n",
    "\n"
   ]
  },
  {
   "cell_type": "markdown",
   "metadata": {
    "id": "O_0TW8ixFzyc"
   },
   "source": [
    "---"
   ]
  },
  {
   "cell_type": "markdown",
   "metadata": {
    "id": "9GW3ANBTFzyc"
   },
   "source": [
    "<span style=\"font-size:80%\">[문제3]<br><br></span>\n",
    "```Python으로 정적타입 방식의 코드를 작성할 수 있는 방법을 구글링을 통해 검색 후 설명해주세요```"
   ]
  },
  {
   "cell_type": "markdown",
   "metadata": {
    "id": "pOG5A9yAFzyc"
   },
   "source": [
    "<span style=\"color:red\">답변</span>"
   ]
  },
  {
   "cell_type": "markdown",
   "metadata": {
    "id": "Bw3R8DNZFzyc"
   },
   "source": [
    "타입힌트\n",
    "정적분석도구 mypy"
   ]
  },
  {
   "cell_type": "markdown",
   "metadata": {
    "id": "XwhDc9FXFzyc"
   },
   "source": [
    "<span style=\"font-size:80%\">[문제4]<br><br></span>\n",
    "```프로세스와 스레드의 차이점을 설명해주세요```"
   ]
  },
  {
   "cell_type": "markdown",
   "metadata": {
    "id": "8GN59nLJFzyc"
   },
   "source": [
    "<span style=\"color:red\">답변</span>\n",
    "\n",
    "\n",
    "\n"
   ]
  },
  {
   "cell_type": "markdown",
   "metadata": {
    "id": "KzWZ1VdkFzyc"
   },
   "source": [
    "프로세스 : 운영체제로부터 자원을 할당받은 작업의 단위\n",
    "스레드 : 프로세스가 할당받은 자원을 이용하는 실행 흐름 단위\n",
    "\n",
    "프로세스와 스레드는 모두 운영 체제에서 실행 중인 프로그램을 관리하는 방법을 나타내는 개념입니다.\n",
    "\n",
    "아래 4가지 특징을 이용해 차이를 알아보겠습니다.\n",
    "\n",
    "1. **독립성:** 프로세스는 독립적인 실행 단위입니다. 각 프로세스는 별도의 주소 공간에서 실행되며, 한 프로세스의 작업이 다른 프로세스에 직접적인 영향을 미치지 않습니다. 반면에 스레드는 한 프로세스 내에서 실행되는 여러 실행 경로로, 같은 프로세스 내의 다른 스레드와 메모리와 자원을 공유합니다.\n",
    "2. **자원 공유:** 프로세스는 독립적인 자원을 가지며, 다른 프로세스의 자원에 접근하려면 별도의 통신 방법(IPC, Inter-Process Communication)이 필요합니다. 반면에 스레드는 같은 프로세스 내에서 메모리 영역(힙 영역)과 자원을 공유하기 때문에, 스레드 간의 통신이 더 효율적입니다.\n",
    "3. **생성 및 종료 비용:** 프로세스의 생성 및 종료 비용은 스레드에 비해 상대적으로 높습니다. 프로세스를 생성하거나 종료할 때 운영 체제는 독립적인 메모리 공간과 자원을 할당하거나 회수해야 하기 때문입니다. 반면에 스레드의 생성 및 종료 비용은 상대적으로 낮습니다.\n",
    "4. **오류의 영향 범위:** 프로세스 내에서 오류가 발생하면 그 프로세스 내에서만 영향을 미치지만, 스레드에서 오류가 발생하면 같은 프로세스 내의 다른 스레드에도 영향을 미칠 수 있습니다.\n",
    "\n",
    "이러한 차이점들로 인해 프로세스와 스레드는 각각 다른 상황과 요구 사항에 맞게 사용됩니다. 예를 들어, 자원을 공유해야 하는 경우나 효율적인 통신이 필요한 경우에는 스레드를, 독립적인 작업이 필요하거나 격리가 중요한 경우에는 프로세스를 사용하는 것이 적절할 수 있습니다.\n",
    "\n",
    "출처...\"notion\""
   ]
  },
  {
   "cell_type": "markdown",
   "metadata": {
    "id": "7UTyebQRFzyc"
   },
   "source": [
    "---"
   ]
  },
  {
   "cell_type": "markdown",
   "metadata": {
    "id": "x0m9y0RSFzyc"
   },
   "source": [
    "<span style=\"font-size:80%\">[문제5]<br><br></span>\n",
    "```Python 2버전대와 3버전대의 차이를 성명해주세요```"
   ]
  },
  {
   "cell_type": "markdown",
   "metadata": {
    "id": "7AKCCdPlFzyc"
   },
   "source": [
    "<span style=\"color:red\">답변</span>"
   ]
  },
  {
   "cell_type": "markdown",
   "metadata": {
    "id": "IMJ0tziRFzyc"
   },
   "source": [
    "python3 구문은 더 간단하고 쉽게 이해할 수 있지만 python2 구문은 비교적 이해하기 어렵다.\n",
    "\n",
    "python3 변수 값은 절대 변경되지 않는 반면 python2 에서는 foe-loop 내부에서 전역 변수 값을 사용하는 동안 변경됩니다.\n",
    "\n",
    "3버전 기본 문자열 저장은 유니코드인 반면 2버전 저장소는 \"u\"로 유니코드 문자열 값을 정의해야 합니다.\n",
    "\n",
    "3버전 예외는 괄호로 묶어야 하고 2버전 예외는 표기법으로 묶어야 합니다.\n",
    "\n",
    "3버전 비교 순서 지정 규칙은 단순화된 반면 파이썬2의 비교 순서 지정 규칙은 복잡합니다.\n",
    "\n",
    "3버전은 반복을 수행하기 위해 Range() 함수를 제공하는 반면 2버전은 xrange()가 반복에 사용됩니다"
   ]
  },
  {
   "cell_type": "markdown",
   "metadata": {
    "id": "ssJC224yFzyc"
   },
   "source": [
    "---"
   ]
  },
  {
   "cell_type": "markdown",
   "metadata": {
    "id": "cW5QGALgFzyc"
   },
   "source": [
    "<span style=\"font-size:80%\">[문제6]<br><br></span>\n",
    "```Python에서 메모리 관리는 어떻게 이루어지는지 설명해주세요```"
   ]
  },
  {
   "cell_type": "markdown",
   "metadata": {
    "id": "_Cm06POfFzyc"
   },
   "source": [
    "<span style=\"color:red\">답변</span>\n",
    "\n"
   ]
  },
  {
   "cell_type": "markdown",
   "metadata": {
    "id": "7SIrgdIlFzyc"
   },
   "source": [
    "파이썬에서의 메모리 관리는 주로 가비지 컬렉션(Garbage Collection)과 참조 카운팅(Reference Counting)이라는 두 가지 메커니즘을 통해 이루어집니다.\n",
    "\n",
    "1. **참조 카운팅(Reference Counting):** 파이썬의 모든 객체는 참조 카운트를 가지고 있습니다. 이는 해당 객체를 참조하는 다른 객체의 수를 나타냅니다. 예를 들어, 어떤 객체를 변수에 할당하거나 리스트에 추가하면 해당 객체의 참조 카운트가 증가합니다. 반대로 객체의 참조를 제거하면 참조 카운트가 감소합니다. 참조 카운트가 0이 되면, 즉 객체를 참조하는 것이 없게 되면, 그 객체는 메모리에서 해제됩니다.\n",
    "2. **가비지 컬렉션(Garbage Collection):** 파이썬의 가비지 컬렉션은 주로 순환 참조(Circular Reference)를 처리하기 위해 사용됩니다. 순환 참조란 서로가 서로를 참조하는 상황을 말하며, 이런 경우에는 참조 카운트가 0이 되지 않아 메모리에서 해제되지 않는 문제가 발생할 수 있습니다. 파이썬의 가비지 컬렉터는 이런 순환 참조를 탐지하고 처리하여, 더 이상 사용되지 않는 객체를 메모리에서 해제합니다.\n",
    "\n",
    "이 외에도 파이썬은 메모리 풀(Memory Pool)을 사용하여 작은 메모리 블록의 할당과 해제를 효율적으로 처리합니다. 이는 메모리의 단편화를 줄이고 성능을 향상시키는 데 도움이 됩니다.\n",
    "\n",
    "이렇게 파이썬은 다양한 메커니즘을 통해 메모리를 효과적으로 관리하며, 이로 인해 개발자는 메모리 관리에 대해 신경 쓰지 않고도 편리하게 코드를 작성할 수 있습니다.\n",
    "\n",
    "출처...\"notion\""
   ]
  }
 ],
 "metadata": {
  "colab": {
   "provenance": []
  },
  "language_info": {
   "name": "python"
  }
 },
 "nbformat": 4,
 "nbformat_minor": 0
}
