{
 "cells": [
  {
   "cell_type": "markdown",
   "metadata": {
    "id": "a5u4XBl4sV77"
   },
   "source": [
    "             컴파일 방식 | 인터프리트 방식\n",
    "\n",
    "---\n",
    "\n",
    "\n",
    "     대표언어| c ,java  | python, javascript\n",
    "\n",
    "---\n",
    "\n",
    "\n",
    "     실행속도|  빠름     |   느림\n",
    "\n",
    "---\n",
    "\n",
    "\n",
    "      번역  |  느림     |   빠름"
   ]
  },
  {
   "cell_type": "markdown",
   "metadata": {
    "id": "HU2QNLNwtodC"
   },
   "source": [
    "                         정적타입언어                             |    동적타입언어\n",
    "\n",
    "---\n",
    "\n",
    "\n",
    "       대표언어 |           c, java.                             |   python, javascript\n",
    "\n",
    "---\n",
    "\n",
    "\n",
    "       장점    | * 타입(용도)가 미리 정해지기 때문에 대규모 프로           | *코드 작성 시 타임(용도)에 제한이 없기 때문에 유연성이 높고 효율적임\n",
    "              |   젝트에서 안정적으로 개발이 가능하다\n",
    "              | * 컴파일러에 의한 컴파일 시 타입(용도)가 미리 정해져       |    \n",
    "              |    있어 실행 속도가 빠름                             |\n",
    "\n",
    "---\n",
    "\n",
    "\n",
    "        단점   | * 컴파일시  타입에 대한 제한으로 코드 작성시 유연함이 떨어짐  | * 프로그램 실행(Run Time)때 타입(용도)에 문제를 확인할 수 있기 때문에 코드가 길고 복잡할\n",
    "                                                                    경우 문제해결이 쉽지 않음"
   ]
  },
  {
   "cell_type": "markdown",
   "metadata": {
    "id": "KdgKM9640oMU"
   },
   "source": [
    "#마크다운 언어\n",
    "##마크다운 언어\n",
    "###마크다운 언어\n",
    "####마크다운 언어\n",
    "#####마크다운 언어"
   ]
  },
  {
   "cell_type": "code",
   "execution_count": 1,
   "metadata": {
    "colab": {
     "base_uri": "https://localhost:8080/"
    },
    "executionInfo": {
     "elapsed": 287,
     "status": "ok",
     "timestamp": 1736270980259,
     "user": {
      "displayName": "조수민",
      "userId": "01033091443594520555"
     },
     "user_tz": -540
    },
    "id": "AkNozVMHwjX9",
    "outputId": "ce28348c-aa00-41c1-d687-58f7d5dcd922"
   },
   "outputs": [
    {
     "name": "stdout",
     "output_type": "stream",
     "text": [
      "안녕하세요\n"
     ]
    }
   ],
   "source": [
    "print('안녕하세요')"
   ]
  },
  {
   "cell_type": "code",
   "execution_count": 3,
   "metadata": {
    "colab": {
     "base_uri": "https://localhost:8080/"
    },
    "executionInfo": {
     "elapsed": 292,
     "status": "ok",
     "timestamp": 1736271010517,
     "user": {
      "displayName": "조수민",
      "userId": "01033091443594520555"
     },
     "user_tz": -540
    },
    "id": "sRZaLp5K0Ksc",
    "outputId": "3eaf6d29-b65d-4ed9-c496-9bfdbb92b175"
   },
   "outputs": [
    {
     "name": "stdout",
     "output_type": "stream",
     "text": [
      "5\n"
     ]
    },
    {
     "data": {
      "text/plain": [
       "5"
      ]
     },
     "execution_count": 3,
     "metadata": {},
     "output_type": "execute_result"
    }
   ],
   "source": [
    "print(2 + 3)\n",
    "2+3"
   ]
  },
  {
   "cell_type": "code",
   "execution_count": 4,
   "metadata": {
    "colab": {
     "base_uri": "https://localhost:8080/"
    },
    "executionInfo": {
     "elapsed": 275,
     "status": "ok",
     "timestamp": 1736271024444,
     "user": {
      "displayName": "조수민",
      "userId": "01033091443594520555"
     },
     "user_tz": -540
    },
    "id": "iKAjObxx0S9G",
    "outputId": "c97095ca-7a25-4ce3-ff3b-15ad252ce6d3"
   },
   "outputs": [
    {
     "data": {
      "text/plain": [
       "5"
      ]
     },
     "execution_count": 4,
     "metadata": {},
     "output_type": "execute_result"
    }
   ],
   "source": [
    "2 + 4\n",
    "2 + 3\n",
    "#print문을 사용하지 않으면 마지막 계산값만 출력"
   ]
  },
  {
   "cell_type": "markdown",
   "metadata": {
    "id": "TpyrOUDp1HOU"
   },
   "source": [
    "* print() = 출력을 해주는 명령어\n",
    "* ;(세미콜론) = 한 줄에 작성된 2개 이상의 코드를 구분 지을 때 세미콜론 사용\n",
    "* #(주석) = 작성한 내용을 사람만 볼 수 있도록 만드는 것 한줄(#) 뿐만 아니라 여러 줄(\"\"\" \"\"\")을 주석으로 만들 수 있음\n",
    "* 들여쓰기 = 문법 그 자체, 파이썬에서 들여쓰기는 4칸으로 권장\n",
    "* 코드블럭 = 특정 동작을 위해 코드가 모여 있는 상태인 코드블럭 python은 들여쓰기를 기준으로 코드블럭을 구성"
   ]
  },
  {
   "cell_type": "code",
   "execution_count": 10,
   "metadata": {
    "colab": {
     "base_uri": "https://localhost:8080/"
    },
    "executionInfo": {
     "elapsed": 273,
     "status": "ok",
     "timestamp": 1736271940501,
     "user": {
      "displayName": "조수민",
      "userId": "01033091443594520555"
     },
     "user_tz": -540
    },
    "id": "w2cyVCn83Q2F",
    "outputId": "4d84777b-2b83-4789-fe7a-bb713d45236a"
   },
   "outputs": [
    {
     "name": "stdout",
     "output_type": "stream",
     "text": [
      "진짜 안보이는 거야?\n"
     ]
    }
   ],
   "source": [
    "# 주석은 이렇게 하는 거다\n",
    "print('진짜 안보이는 거야?')\n",
    "#print('신기하네?')\n",
    "#ctrl+/"
   ]
  },
  {
   "cell_type": "code",
   "execution_count": null,
   "metadata": {
    "id": "-bbFIH6j30jc"
   },
   "outputs": [],
   "source": [
    "\n",
    "# print('진짜 안보이는 거야?')\n",
    "# print('신기하네?')\n"
   ]
  },
  {
   "cell_type": "code",
   "execution_count": 12,
   "metadata": {
    "colab": {
     "base_uri": "https://localhost:8080/"
    },
    "executionInfo": {
     "elapsed": 274,
     "status": "ok",
     "timestamp": 1736272163761,
     "user": {
      "displayName": "조수민",
      "userId": "01033091443594520555"
     },
     "user_tz": -540
    },
    "id": "gyL7NG2u4JMi",
    "outputId": "b602d2c5-756c-499d-d563-2b38a1d4c084"
   },
   "outputs": [
    {
     "name": "stdout",
     "output_type": "stream",
     "text": [
      "토끼\n",
      "보러 갈래요?\n",
      "사자\n",
      "보러 갈래요?\n",
      "푸바오\n",
      "보러 갈래요?\n",
      "호랑이\n",
      "보러 갈래요?\n"
     ]
    }
   ],
   "source": [
    "for 동물 in (\"토끼\", \"사자\", \"푸바오\", \"호랑이\") :\n",
    "    print(동물)\n",
    "    print(\"보러 갈래요?\")"
   ]
  },
  {
   "cell_type": "code",
   "execution_count": 14,
   "metadata": {
    "colab": {
     "base_uri": "https://localhost:8080/"
    },
    "executionInfo": {
     "elapsed": 260,
     "status": "ok",
     "timestamp": 1736272229939,
     "user": {
      "displayName": "조수민",
      "userId": "01033091443594520555"
     },
     "user_tz": -540
    },
    "id": "HYAbcp2C4r-B",
    "outputId": "0390cea4-a51e-4b10-e313-3d342b166523"
   },
   "outputs": [
    {
     "name": "stdout",
     "output_type": "stream",
     "text": [
      "토끼\n",
      "사자\n",
      "푸바오\n",
      "호랑이\n",
      "보러 갈래요?\n"
     ]
    }
   ],
   "source": [
    "for 동물 in (\"토끼\", \"사자\", \"푸바오\", \"호랑이\") :\n",
    "    print(동물)\n",
    "print(\"보러 갈래요?\")"
   ]
  },
  {
   "cell_type": "markdown",
   "metadata": {
    "id": "WVDBv1A27y8s"
   },
   "source": [
    "##사칙연산\n",
    "더하기 : +\n",
    "\n",
    "빼기 : -\n",
    "\n",
    "나누기 :\n",
    "* / : 일반적인 나누기\n",
    "* // : 몫만 출력되는 나누기\n",
    "* % : 나머지만 출력되는 나누기\n",
    "\n",
    "거듭제곱 : **"
   ]
  },
  {
   "cell_type": "code",
   "execution_count": 16,
   "metadata": {
    "colab": {
     "base_uri": "https://localhost:8080/"
    },
    "executionInfo": {
     "elapsed": 289,
     "status": "ok",
     "timestamp": 1736273201846,
     "user": {
      "displayName": "조수민",
      "userId": "01033091443594520555"
     },
     "user_tz": -540
    },
    "id": "bNHBT7-x8hLY",
    "outputId": "dea54367-924f-482c-8b8b-0f608c5686b5"
   },
   "outputs": [
    {
     "name": "stdout",
     "output_type": "stream",
     "text": [
      "5\n"
     ]
    }
   ],
   "source": [
    "#더하기\n",
    "print(2 + 3)"
   ]
  },
  {
   "cell_type": "code",
   "execution_count": 19,
   "metadata": {
    "colab": {
     "base_uri": "https://localhost:8080/"
    },
    "executionInfo": {
     "elapsed": 262,
     "status": "ok",
     "timestamp": 1736273225975,
     "user": {
      "displayName": "조수민",
      "userId": "01033091443594520555"
     },
     "user_tz": -540
    },
    "id": "GLAp2z9I8of6",
    "outputId": "1db841b2-4afa-498e-a80e-261e25844a43"
   },
   "outputs": [
    {
     "name": "stdout",
     "output_type": "stream",
     "text": [
      "2\n"
     ]
    }
   ],
   "source": [
    "#빼기\n",
    "print(3 - 1)"
   ]
  },
  {
   "cell_type": "code",
   "execution_count": 20,
   "metadata": {
    "colab": {
     "base_uri": "https://localhost:8080/"
    },
    "executionInfo": {
     "elapsed": 267,
     "status": "ok",
     "timestamp": 1736273250577,
     "user": {
      "displayName": "조수민",
      "userId": "01033091443594520555"
     },
     "user_tz": -540
    },
    "id": "bX2Afdlb8uZp",
    "outputId": "afe8718d-a54b-4b86-cb44-57ce123efd77"
   },
   "outputs": [
    {
     "name": "stdout",
     "output_type": "stream",
     "text": [
      "9\n"
     ]
    }
   ],
   "source": [
    "#곱하기\n",
    "print(3 * 3)"
   ]
  },
  {
   "cell_type": "code",
   "execution_count": 22,
   "metadata": {
    "colab": {
     "base_uri": "https://localhost:8080/"
    },
    "executionInfo": {
     "elapsed": 4,
     "status": "ok",
     "timestamp": 1736273316001,
     "user": {
      "displayName": "조수민",
      "userId": "01033091443594520555"
     },
     "user_tz": -540
    },
    "id": "A-TRQQPF80aB",
    "outputId": "5638de25-4f3c-4b85-ce88-fad9569255b3"
   },
   "outputs": [
    {
     "name": "stdout",
     "output_type": "stream",
     "text": [
      "2.5\n",
      "2\n",
      "1\n"
     ]
    }
   ],
   "source": [
    "#나누기\n",
    "print(5 / 2)\n",
    "print(5 // 2)\n",
    "print(5 % 2)"
   ]
  },
  {
   "cell_type": "markdown",
   "metadata": {
    "id": "bU_bCpEn9Hw6"
   },
   "source": [
    "내장함수 : divmod\n",
    "\n",
    ">내장함수 : 자주 사용하는 기능을 미리 만들어 놓은 것을 내장함수라고 함\n",
    "\n",
    "**divmod** : 몫 과 나머지를 같이 출력"
   ]
  },
  {
   "cell_type": "code",
   "execution_count": 27,
   "metadata": {
    "colab": {
     "base_uri": "https://localhost:8080/"
    },
    "executionInfo": {
     "elapsed": 265,
     "status": "ok",
     "timestamp": 1736273568206,
     "user": {
      "displayName": "조수민",
      "userId": "01033091443594520555"
     },
     "user_tz": -540
    },
    "id": "L-C1SG3_9bFw",
    "outputId": "f548fff4-d3ba-4007-bd1f-c6a4c30b4e57"
   },
   "outputs": [
    {
     "name": "stdout",
     "output_type": "stream",
     "text": [
      "(2, 1)\n",
      "(1, 3)\n",
      "(4, 1)\n",
      "(5, 1)\n",
      "(1, 1)\n",
      "(0, 1)\n",
      "1 ,  3\n"
     ]
    }
   ],
   "source": [
    "print(divmod(5,2))\n",
    "print(divmod(7,4))\n",
    "print(divmod(9,2))\n",
    "print(divmod(11,2))\n",
    "print(divmod(3,2))\n",
    "print(divmod(1,2))\n",
    "\n",
    "print(7//4,', ', 7%4)"
   ]
  },
  {
   "cell_type": "markdown",
   "metadata": {
    "id": "dQ5wWGho-Dk5"
   },
   "source": [
    "###괄호\n",
    "\n",
    "수학에서 사용되는 괄호와 동일한 기능\n",
    "() : 괄호안에 있는 것을 먼저 계산\n",
    "사칙연산 순서 : 괄호-곱셈,나눗셈-덧셈,뺄셈"
   ]
  },
  {
   "cell_type": "code",
   "execution_count": 28,
   "metadata": {
    "colab": {
     "base_uri": "https://localhost:8080/"
    },
    "executionInfo": {
     "elapsed": 286,
     "status": "ok",
     "timestamp": 1736273681499,
     "user": {
      "displayName": "조수민",
      "userId": "01033091443594520555"
     },
     "user_tz": -540
    },
    "id": "Gd2x5S5K-Znp",
    "outputId": "0665237a-fdf0-4e2e-82fa-c23d1e67957e"
   },
   "outputs": [
    {
     "data": {
      "text/plain": [
       "11"
      ]
     },
     "execution_count": 28,
     "metadata": {},
     "output_type": "execute_result"
    }
   ],
   "source": [
    "3 + 2 * 4"
   ]
  },
  {
   "cell_type": "code",
   "execution_count": 29,
   "metadata": {
    "colab": {
     "base_uri": "https://localhost:8080/"
    },
    "executionInfo": {
     "elapsed": 278,
     "status": "ok",
     "timestamp": 1736273694495,
     "user": {
      "displayName": "조수민",
      "userId": "01033091443594520555"
     },
     "user_tz": -540
    },
    "id": "y1UB6p7j-eKC",
    "outputId": "aeb73a00-a029-42c3-8cff-123556d72967"
   },
   "outputs": [
    {
     "data": {
      "text/plain": [
       "20"
      ]
     },
     "execution_count": 29,
     "metadata": {},
     "output_type": "execute_result"
    }
   ],
   "source": [
    "(3 + 2) * 4"
   ]
  }
 ],
 "metadata": {
  "colab": {
   "authorship_tag": "ABX9TyOhPxJzMjxd1allyedIdpzy",
   "provenance": []
  },
  "kernelspec": {
   "display_name": "Python 3",
   "name": "python3"
  },
  "language_info": {
   "name": "python"
  }
 },
 "nbformat": 4,
 "nbformat_minor": 0
}
