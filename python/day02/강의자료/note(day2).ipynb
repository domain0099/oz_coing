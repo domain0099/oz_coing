{
 "cells": [
  {
   "cell_type": "markdown",
   "metadata": {},
   "source": [
    "## 변수"
   ]
  },
  {
   "cell_type": "code",
   "execution_count": 2,
   "metadata": {},
   "outputs": [
    {
     "name": "stdout",
     "output_type": "stream",
     "text": [
      "29500\n",
      "아아2잔 아샷추3잔 가격은 총29500입니다\n"
     ]
    }
   ],
   "source": [
    "# 아아 : 5000원 / 아샷추 : 6500원\n",
    "# 아아 2잔 / 아샷추 3잔\n",
    "\n",
    "아아 = 5000\n",
    "아샷추 = 6500\n",
    "\n",
    "#복습\n",
    "print(아아 * 2 + 아샷추 * 3)\n",
    "print(f'아아2잔 아샷추3잔 가격은 총{아아 * 2 + 아샷추 * 3}입니다')"
   ]
  },
  {
   "cell_type": "markdown",
   "metadata": {},
   "source": [
    "계산된 결과값이 다 날아가는 문제.... 어떻게 해결해야 할까요?"
   ]
  },
  {
   "cell_type": "markdown",
   "metadata": {},
   "source": [
    "###변수란? ( 기본중에 기본, 근본중에 근본, 코어중에 코어.... )\n",
    "변수 : 하나의 값을 저장할 수 있는 공간\n",
    "\n",
    "* 하나의 변수에 하나의 값을 넣을때\n",
    "변수이름 = 값\n",
    "* 두개의 변수에 하나의 값을 각각 넣을때\n",
    "변수이름1, 변수이름2 = 값1, 값2"
   ]
  },
  {
   "cell_type": "code",
   "execution_count": 5,
   "metadata": {},
   "outputs": [
    {
     "name": "stdout",
     "output_type": "stream",
     "text": [
      "1\n",
      "1\n",
      "2\n",
      "1 2\n"
     ]
    }
   ],
   "source": [
    "# 하나의 값을 변수에 넣을 때\n",
    "num = 1\n",
    "print(num)\n",
    "\n",
    "# 두개의 값을 변수에 넣을 때\n",
    "num_1, num_2 = 1, 2\n",
    "print(num_1)\n",
    "print(num_2)\n",
    "print(num_1, num_2)"
   ]
  },
  {
   "cell_type": "markdown",
   "metadata": {},
   "source": [
    "1부터 5까지의 숫자를 더하는 문제를 풀어보겠습니다. 단, 다음 숫자를 더하기 위해서 매번 새로운 줄에서 시작해야하는 조건이 있습니다."
   ]
  },
  {
   "cell_type": "code",
   "execution_count": 6,
   "metadata": {},
   "outputs": [
    {
     "data": {
      "text/plain": [
       "15"
      ]
     },
     "execution_count": 6,
     "metadata": {},
     "output_type": "execute_result"
    }
   ],
   "source": [
    "# 변수를 사용하지 않을때\n",
    "# 이전에 계산된 결과를 저장할 수 있는 방법이 없음\n",
    "1 + 2\n",
    "1 + 2 + 3\n",
    "1 + 2 + 3 + 4\n",
    "1 + 2 + 3 + 4 + 5"
   ]
  },
  {
   "cell_type": "code",
   "execution_count": 8,
   "metadata": {},
   "outputs": [
    {
     "name": "stdout",
     "output_type": "stream",
     "text": [
      "15\n"
     ]
    }
   ],
   "source": [
    "# 변수를 사용할 때\n",
    "# 이전에 계산된 결과를 저장해서 사용할 수 있음\n",
    "sum = 1 + 2\n",
    "sum = sum + 3\n",
    "sum = sum + 4\n",
    "sum = sum + 5\n",
    "print(sum)"
   ]
  },
  {
   "cell_type": "markdown",
   "metadata": {},
   "source": [
    "### 변수에 값을 넣는 것 >>> 할당\n",
    "\n",
    "sum = 1 + 2 >>> 1+2의 계산된 결과를 sum이라는 변수에 할당한다.\n",
    "\n",
    "sum은 변수명이고 \"=\" 같다는 의미가 아니라 할당(assignment)이라고 합니다.\n",
    "\n",
    "\"=\" : 할당 연산자\n",
    "\"+\" : 산술 연산자\n",
    "\n",
    "+= 산술 후 바로 할당하는 문법\n",
    "/+, -=, *= 모두 가능"
   ]
  },
  {
   "cell_type": "code",
   "execution_count": 10,
   "metadata": {},
   "outputs": [
    {
     "name": "stdout",
     "output_type": "stream",
     "text": [
      "15\n",
      "15\n"
     ]
    }
   ],
   "source": [
    "# 변수를 사용하면서 사용 가능한 문법\n",
    "sum = 1 + 2\n",
    "sum = sum + 3\n",
    "sum = sum + 4\n",
    "sum = sum + 5\n",
    "print(sum)\n",
    "\n",
    "sum2 = 1 + 2\n",
    "sum2 += 3\n",
    "sum2 += 4\n",
    "sum2 += 5\n",
    "print(sum2)"
   ]
  },
  {
   "cell_type": "code",
   "execution_count": 14,
   "metadata": {},
   "outputs": [
    {
     "data": {
      "text/plain": [
       "1"
      ]
     },
     "execution_count": 14,
     "metadata": {},
     "output_type": "execute_result"
    }
   ],
   "source": [
    "# 주의 선언되지 않은 변수를 사용할 경우 에러 발생\n",
    "sum3 = 0\n",
    "\n",
    "sum3 += 1\n",
    "sum3"
   ]
  },
  {
   "cell_type": "code",
   "execution_count": 16,
   "metadata": {},
   "outputs": [
    {
     "name": "stdout",
     "output_type": "stream",
     "text": [
      "None\n"
     ]
    }
   ],
   "source": [
    "# 변수에 어떤값도 널고 싶지 않고 선언하는 방법\n",
    "\n",
    "nothing = None\n",
    "nothing #아무것도 나오지 않음\n",
    "print(nothing) #None 이 나온다"
   ]
  },
  {
   "cell_type": "markdown",
   "metadata": {},
   "source": [
    "변수를 만드는 규칙  \n",
    "영문 문자와 숫자를 사용할 수 있습니다.  \n",
    "대소문자를 구분합니다.  \n",
    "첫글자는 대문자로 쓰는걸 지향합니다.  \n",
    "문자부터 시작해야 하며 숫자부터 시작하면 안 됩니다.  \n",
    "_(밑줄문자)로 시작할 수 있습니다.  \n",
    "특수문자(+, -, *, /, $, @, &, % 등)는 사용할 수 없습니다  \n",
    "파이썬 키워드 (if, for, while, and, or 등)는 시용할 수 없습니다.  "
   ]
  },
  {
   "cell_type": "code",
   "execution_count": 17,
   "metadata": {},
   "outputs": [
    {
     "name": "stdout",
     "output_type": "stream",
     "text": [
      "작다 크다\n"
     ]
    }
   ],
   "source": [
    "# 대소문자를 구분하는 변수\n",
    "BIG = '크다'\n",
    "big = '작다'\n",
    "\n",
    "print(big, BIG) "
   ]
  },
  {
   "cell_type": "markdown",
   "metadata": {},
   "source": [
    "스네이크 케이스(snake case) \n",
    "변수명 : snake_case\n",
    "\n",
    "카멜케이스(camel case)\n",
    "변수명 : camelCase"
   ]
  },
  {
   "cell_type": "code",
   "execution_count": 19,
   "metadata": {},
   "outputs": [
    {
     "name": "stdout",
     "output_type": "stream",
     "text": [
      "스니커즈\n",
      "슈프림 모자\n"
     ]
    }
   ],
   "source": [
    "# 우리는 변수를 만들때 스네이크케이스로 진행합니다. 그리고 언더바는 2개를 적용시켜주세요.\n",
    "# 개발에 관련된 여러 조건을 멍시하는 것들을 코드 컨벤션이라고 합니다.\n",
    "\n",
    "box__shose = '스니커즈'\n",
    "box__hat = '슈프림 모자'\n",
    "\n",
    "print(box__shose)\n",
    "print(box__hat)"
   ]
  },
  {
   "cell_type": "code",
   "execution_count": 21,
   "metadata": {},
   "outputs": [
    {
     "name": "stdout",
     "output_type": "stream",
     "text": [
      "나는 나다\n"
     ]
    }
   ],
   "source": [
    "#print() 포메팅 3가지 f-string : f'{변수명}'}\n",
    "\n",
    "me = '나'\n",
    "print(f'{me}는 나다')"
   ]
  },
  {
   "cell_type": "code",
   "execution_count": 39,
   "metadata": {},
   "outputs": [
    {
     "name": "stdout",
     "output_type": "stream",
     "text": [
      " 주문이 완료 되었습니다. 붕어빵(팔)0개 붕어빵(슈크림)2개 붕어빵(잡채)3개 총 5개 결제금액은 14000입니다.\n"
     ]
    }
   ],
   "source": [
    "# 붕어빵 철이 돌아왔죠\n",
    "# 붕어빵(팥) : 2000원, 붕어빵(슈크림) : 2500원, 붕어빵(잡채) : 3000원\n",
    "# 무인 주문기계를 만들어 주세요\n",
    "# 붕어빵(잡채) 3개, 붕어빵(슈크림) 2개를 주문하면\n",
    "# \"주문이 완료되었습니다. 붕어빵(슈크림) 2개, 붕어빵(잡채) 3개 총 5개 결제금액은 14000원 입니다.\"\n",
    "# 이 출력되도록 코드를 작성해 주세요\n",
    "# 스네이크 케이스에 언더바는 2개 / print()문의 포메팅 f-string\n",
    "\n",
    "#변수값\n",
    "fish__p = '붕어빵(팔)'\n",
    "fish__s = '붕어빵(슈크림)'\n",
    "fish__j = '붕어빵(잡채)'\n",
    "#붕어빵 종류별 가격\n",
    "fish__p__sell = 2000\n",
    "fish__s__sell = 2500\n",
    "fish__j__sell = 3000\n",
    "#붕어빵 종류별 갯수\n",
    "fish__p__sell__ea = 0\n",
    "fish__s__sell__ea = 2\n",
    "fish__j__sell__ea = 3\n",
    "#총 주문 갯수\n",
    "oder__total = fish__p__sell__ea + fish__s__sell__ea + fish__j__sell__ea\n",
    "#총 결제 금액\n",
    "fish__sell__ea= fish__p__sell * fish__p__sell__ea + fish__s__sell * fish__s__sell__ea + fish__j__sell * fish__j__sell__ea\n",
    "\n",
    "print(f' 주문이 완료 되었습니다. {fish__p}{fish__p__sell__ea}개 {fish__s}{fish__s__sell__ea}개 {fish__j}{fish__j__sell__ea}개 총 {oder__total}개 결제금액은 {fish__sell__ea}입니다.')"
   ]
  },
  {
   "cell_type": "markdown",
   "metadata": {},
   "source": [
    "## int, float"
   ]
  },
  {
   "cell_type": "markdown",
   "metadata": {
    "id": "mqYHP00FUUKG"
   },
   "source": [
    "1. int(integer) : 정수 =1,2,3,4,-1,-2,-3\n",
    "2. float(float) : 실수 =1.1, 2.0, 3.3\n",
    "3. Str(string) : 문자\n",
    "4. bool(bool, boolean) : 참 또는 거짓, true 또는 false, 1 또는 0\n",
    "---\n",
    "5. list\n",
    "6. tuble\n",
    "7. dict\n",
    "8. set"
   ]
  },
  {
   "cell_type": "code",
   "execution_count": 41,
   "metadata": {},
   "outputs": [
    {
     "data": {
      "text/plain": [
       "2.0"
      ]
     },
     "execution_count": 41,
     "metadata": {},
     "output_type": "execute_result"
    }
   ],
   "source": [
    "1.1 + 2\n",
    "4 / 2"
   ]
  },
  {
   "cell_type": "code",
   "execution_count": 42,
   "metadata": {},
   "outputs": [
    {
     "data": {
      "text/plain": [
       "11.0"
      ]
     },
     "execution_count": 42,
     "metadata": {},
     "output_type": "execute_result"
    }
   ],
   "source": [
    "9.0 + 2 #실수안에 정수가 포함되기 때문에 실수가 표기된다"
   ]
  },
  {
   "cell_type": "code",
   "execution_count": 43,
   "metadata": {},
   "outputs": [
    {
     "ename": "TypeError",
     "evalue": "can only concatenate str (not \"int\") to str",
     "output_type": "error",
     "traceback": [
      "\u001b[0;31m---------------------------------------------------------------------------\u001b[0m",
      "\u001b[0;31mTypeError\u001b[0m                                 Traceback (most recent call last)",
      "Cell \u001b[0;32mIn[43], line 4\u001b[0m\n\u001b[1;32m      1\u001b[0m \u001b[38;5;66;03m#box_num에 숫자만 넣자는 약속을 했어요 누군가 한글 표기법으로 숫자를 넣었습니다\u001b[39;00m\n\u001b[1;32m      3\u001b[0m box_num \u001b[38;5;241m=\u001b[39m \u001b[38;5;124m'\u001b[39m\u001b[38;5;124m하나\u001b[39m\u001b[38;5;124m'\u001b[39m\n\u001b[0;32m----> 4\u001b[0m \u001b[43mbox_num\u001b[49m\u001b[43m \u001b[49m\u001b[38;5;241;43m+\u001b[39;49m\u001b[38;5;241;43m=\u001b[39;49m\u001b[43m \u001b[49m\u001b[38;5;241;43m1\u001b[39;49m\n",
      "\u001b[0;31mTypeError\u001b[0m: can only concatenate str (not \"int\") to str"
     ]
    }
   ],
   "source": [
    "#box_num에 숫자만 넣자는 약속을 했어요 누군가 한글 표기법으로 숫자를 넣었습니다\n",
    "\n",
    "box_num = '하나'\n",
    "box_num += 1"
   ]
  },
  {
   "cell_type": "code",
   "execution_count": 46,
   "metadata": {},
   "outputs": [
    {
     "data": {
      "text/plain": [
       "str"
      ]
     },
     "execution_count": 46,
     "metadata": {},
     "output_type": "execute_result"
    }
   ],
   "source": [
    "type(box_num)"
   ]
  },
  {
   "cell_type": "code",
   "execution_count": 48,
   "metadata": {},
   "outputs": [
    {
     "data": {
      "text/plain": [
       "float"
      ]
     },
     "execution_count": 48,
     "metadata": {},
     "output_type": "execute_result"
    }
   ],
   "source": [
    "type(1) # = int\n",
    "type(1.2) # = float"
   ]
  },
  {
   "cell_type": "code",
   "execution_count": 49,
   "metadata": {},
   "outputs": [
    {
     "data": {
      "text/plain": [
       "2.0"
      ]
     },
     "execution_count": 49,
     "metadata": {},
     "output_type": "execute_result"
    }
   ],
   "source": [
    "#2여야 하는데 형변환\n",
    "4 / 2"
   ]
  },
  {
   "cell_type": "markdown",
   "metadata": {},
   "source": [
    "## 형변환 : 형태를 변환한다.\n",
    "\n",
    "int, float\n",
    "int -> float   예) 5 -> 5.0 float(5)"
   ]
  },
  {
   "cell_type": "code",
   "execution_count": 53,
   "metadata": {},
   "outputs": [
    {
     "name": "stdout",
     "output_type": "stream",
     "text": [
      "5.0\n",
      "5\n"
     ]
    }
   ],
   "source": [
    "print(float(5))\n",
    "print(int(5.0))"
   ]
  },
  {
   "cell_type": "code",
   "execution_count": 56,
   "metadata": {},
   "outputs": [
    {
     "name": "stdout",
     "output_type": "stream",
     "text": [
      "['__abs__', '__add__', '__and__', '__bool__', '__ceil__', '__class__', '__delattr__', '__dir__', '__divmod__', '__doc__', '__eq__', '__float__', '__floor__', '__floordiv__', '__format__', '__ge__', '__getattribute__', '__getnewargs__', '__getstate__', '__gt__', '__hash__', '__index__', '__init__', '__init_subclass__', '__int__', '__invert__', '__le__', '__lshift__', '__lt__', '__mod__', '__mul__', '__ne__', '__neg__', '__new__', '__or__', '__pos__', '__pow__', '__radd__', '__rand__', '__rdivmod__', '__reduce__', '__reduce_ex__', '__repr__', '__rfloordiv__', '__rlshift__', '__rmod__', '__rmul__', '__ror__', '__round__', '__rpow__', '__rrshift__', '__rshift__', '__rsub__', '__rtruediv__', '__rxor__', '__setattr__', '__sizeof__', '__str__', '__sub__', '__subclasshook__', '__truediv__', '__trunc__', '__xor__', 'as_integer_ratio', 'bit_count', 'bit_length', 'conjugate', 'denominator', 'from_bytes', 'imag', 'is_integer', 'numerator', 'real', 'to_bytes']\n"
     ]
    }
   ],
   "source": [
    "나이 = 10\n",
    "type(나이)\n",
    "print(dir(나이))"
   ]
  },
  {
   "cell_type": "code",
   "execution_count": 61,
   "metadata": {},
   "outputs": [
    {
     "name": "stdout",
     "output_type": "stream",
     "text": [
      "4\n",
      "0b1010\n"
     ]
    }
   ],
   "source": [
    "print(나이.bit_length())\n",
    "print(bin(나이))"
   ]
  },
  {
   "cell_type": "markdown",
   "metadata": {
    "id": "Pnfz_gKkY1Ak"
   },
   "source": [
    "메소드/내장 함수/함수 무엇인지 설명을 할 수 있을 정도로 글을 작성해서 기록\n"
   ]
  },
  {
   "cell_type": "markdown",
   "metadata": {},
   "source": [
    "## chapter 6 복습"
   ]
  },
  {
   "cell_type": "code",
   "execution_count": 27,
   "metadata": {
    "executionInfo": {
     "elapsed": 287,
     "status": "ok",
     "timestamp": 1735912239868,
     "user": {
      "displayName": "조수민",
      "userId": "01033091443594520555"
     },
     "user_tz": -540
    },
    "id": "Lj99Q78obaEO"
   },
   "outputs": [],
   "source": [
    "이름 = \"김오즈\"\n",
    "나이 = 30\n",
    "키 = 180.3\n",
    "소속 = \"s매직 서울북부\""
   ]
  },
  {
   "cell_type": "code",
   "execution_count": 28,
   "metadata": {
    "colab": {
     "base_uri": "https://localhost:8080/"
    },
    "executionInfo": {
     "elapsed": 264,
     "status": "ok",
     "timestamp": 1735912288883,
     "user": {
      "displayName": "조수민",
      "userId": "01033091443594520555"
     },
     "user_tz": -540
    },
    "id": "48lNnCSObr_z",
    "outputId": "918d7891-dd73-4294-d0b5-406e125278dd"
   },
   "outputs": [
    {
     "name": "stdout",
     "output_type": "stream",
     "text": [
      "<class 'str'>\n",
      "<class 'int'>\n",
      "<class 'float'>\n",
      "<class 'str'>\n"
     ]
    }
   ],
   "source": [
    "print(type(이름))\n",
    "print(type(나이))\n",
    "print(type(키))\n",
    "print(type(소속))"
   ]
  },
  {
   "cell_type": "code",
   "execution_count": 6,
   "metadata": {},
   "outputs": [
    {
     "name": "stdout",
     "output_type": "stream",
     "text": [
      "5.0\n",
      "5\n",
      "5 5.0\n",
      "<class 'int'> <class 'float'>\n",
      "5 5.0\n",
      "<class 'str'> <class 'str'>\n"
     ]
    }
   ],
   "source": [
    "print(float(5))\n",
    "print(int(5.0))\n",
    "print(5, 5.0)\n",
    "print(type(5), type(5.0))\n",
    "print(\"5\", \"5.0\")\n",
    "print(type('5'), type('5.0'))"
   ]
  },
  {
   "cell_type": "markdown",
   "metadata": {},
   "source": [
    "## str"
   ]
  },
  {
   "cell_type": "markdown",
   "metadata": {
    "id": "HpbItbZbcdKX"
   },
   "source": [
    "str : 문자열  \n",
    "특징 : 시퀀스 자료형  \n",
    "시퀀스란? 요소들이 연속적으로 이어진 자료형  \n",
    "값 하나하나를 요소라고 합니다"
   ]
  },
  {
   "cell_type": "code",
   "execution_count": 12,
   "metadata": {
    "colab": {
     "base_uri": "https://localhost:8080/"
    },
    "executionInfo": {
     "elapsed": 277,
     "status": "ok",
     "timestamp": 1735912585045,
     "user": {
      "displayName": "조수민",
      "userId": "01033091443594520555"
     },
     "user_tz": -540
    },
    "id": "8pi-QWi-czat",
    "outputId": "0885a2da-69b8-497a-e7c8-0297bbd7d444"
   },
   "outputs": [
    {
     "name": "stdout",
     "output_type": "stream",
     "text": [
      "s매직 서울북부\n",
      "s\n",
      "매\n",
      "직\n",
      " \n",
      "서\n",
      "울\n",
      "북\n",
      "부\n"
     ]
    }
   ],
   "source": [
    "이름 = \"김오즈\"\n",
    "나이 = 30\n",
    "키 = 180.3\n",
    "소속 = \"s매직 서울북부\"\n",
    "\n",
    "# 0 = 인덱스 : 위치를 나타내는 용어 0부터 시작\n",
    "print(소속)\n",
    "print(소속[0])\n",
    "print(소속[1])\n",
    "print(소속[2])\n",
    "print(소속[3])\n",
    "print(소속[4])\n",
    "print(소속[5])\n",
    "print(소속[6])\n",
    "print(소속[7])\n"
   ]
  },
  {
   "cell_type": "code",
   "execution_count": 13,
   "metadata": {
    "colab": {
     "base_uri": "https://localhost:8080/"
    },
    "executionInfo": {
     "elapsed": 262,
     "status": "ok",
     "timestamp": 1735912662623,
     "user": {
      "displayName": "조수민",
      "userId": "01033091443594520555"
     },
     "user_tz": -540
    },
    "id": "m5CQsZbedGzF",
    "outputId": "ad233209-7831-413a-cbbd-d2a913965948"
   },
   "outputs": [
    {
     "name": "stdout",
     "output_type": "stream",
     "text": [
      "True\n",
      "False\n"
     ]
    }
   ],
   "source": [
    "print('서' in 소속)\n",
    "print('3' in 소속)"
   ]
  },
  {
   "cell_type": "code",
   "execution_count": 25,
   "metadata": {},
   "outputs": [
    {
     "ename": "TypeError",
     "evalue": "unsupported operand type(s) for +: 'int' and 'str'",
     "output_type": "error",
     "traceback": [
      "\u001b[0;31m---------------------------------------------------------------------------\u001b[0m",
      "\u001b[0;31mTypeError\u001b[0m                                 Traceback (most recent call last)",
      "Cell \u001b[0;32mIn[25], line 3\u001b[0m\n\u001b[1;32m      1\u001b[0m \u001b[38;5;66;03m#문자열 즉 시퀀스 끼리 합치기\u001b[39;00m\n\u001b[0;32m----> 3\u001b[0m \u001b[38;5;241;43m13\u001b[39;49m\u001b[43m \u001b[49m\u001b[38;5;241;43m+\u001b[39;49m\u001b[43m \u001b[49m\u001b[38;5;124;43m'\u001b[39;49m\u001b[38;5;124;43m금요일\u001b[39;49m\u001b[38;5;124;43m'\u001b[39;49m\n",
      "\u001b[0;31mTypeError\u001b[0m: unsupported operand type(s) for +: 'int' and 'str'"
     ]
    }
   ],
   "source": [
    "#문자열 즉 시퀀스 끼리 합치기\n",
    "\n",
    "13 + '금요일' #숫자와 문자는 합쳐지지 않는다."
   ]
  },
  {
   "cell_type": "code",
   "execution_count": 14,
   "metadata": {
    "colab": {
     "base_uri": "https://localhost:8080/",
     "height": 36
    },
    "executionInfo": {
     "elapsed": 268,
     "status": "ok",
     "timestamp": 1735912739771,
     "user": {
      "displayName": "조수민",
      "userId": "01033091443594520555"
     },
     "user_tz": -540
    },
    "id": "7M3HpiF9ddMa",
    "outputId": "536b34fb-ff10-491f-c5b9-ef44325f4127"
   },
   "outputs": [
    {
     "data": {
      "text/plain": [
       "'13금요일'"
      ]
     },
     "execution_count": 14,
     "metadata": {},
     "output_type": "execute_result"
    }
   ],
   "source": [
    "#문자열 즉 시퀀스 끼리 합치기\n",
    "\n",
    "'13' + '금요일'"
   ]
  },
  {
   "cell_type": "code",
   "execution_count": 28,
   "metadata": {
    "colab": {
     "base_uri": "https://localhost:8080/"
    },
    "executionInfo": {
     "elapsed": 330,
     "status": "ok",
     "timestamp": 1735912870419,
     "user": {
      "displayName": "조수민",
      "userId": "01033091443594520555"
     },
     "user_tz": -540
    },
    "id": "kEVWHBQwdtpv",
    "outputId": "35294a8b-e332-49a8-f890-b07803644b9e"
   },
   "outputs": [
    {
     "name": "stdout",
     "output_type": "stream",
     "text": [
      "바니바니 당근당근 바니바니 당근당근 바니바니 당근당근 바니바니 당근당근 바니바니 당근당근 바니바니 당근당근 바니바니 당근당근 바니바니 당근당근 바니바니 당근당근 바니바니 당근당근 바니바니 당근당근 바니바니 당근당근 바니바니 당근당근 바니바니 당근당근 바니바니 당근당근 바니바니 당근당근 바니바니 당근당근 바니바니 당근당근 바니바니 당근당근 바니바니 당근당근 \n"
     ]
    },
    {
     "data": {
      "text/plain": [
       "200"
      ]
     },
     "execution_count": 28,
     "metadata": {},
     "output_type": "execute_result"
    }
   ],
   "source": [
    "#복사가 가능\n",
    "\n",
    "옛날게임 = '바니바니 당근당근 '*20\n",
    "print(옛날게임)\n",
    "\n",
    "len(옛날게임)"
   ]
  },
  {
   "cell_type": "markdown",
   "metadata": {},
   "source": [
    "#슬라이싱 : 마지막에 오는 숫자에 +1을 해서 적어준다"
   ]
  },
  {
   "cell_type": "code",
   "execution_count": 32,
   "metadata": {
    "colab": {
     "base_uri": "https://localhost:8080/"
    },
    "executionInfo": {
     "elapsed": 268,
     "status": "ok",
     "timestamp": 1735912991328,
     "user": {
      "displayName": "조수민",
      "userId": "01033091443594520555"
     },
     "user_tz": -540
    },
    "id": "-EuzNg6ieNFX",
    "outputId": "81576984-46ac-42c7-fb95-8dd5045d5229"
   },
   "outputs": [
    {
     "name": "stdout",
     "output_type": "stream",
     "text": [
      "카포에라\n",
      "카포에\n"
     ]
    }
   ],
   "source": [
    "퀴즈 = \"차 4대가 고장나면? 카포에라\"\n",
    "print(퀴즈[12:16])\n",
    "print(퀴즈[12:15])"
   ]
  },
  {
   "cell_type": "code",
   "execution_count": 36,
   "metadata": {
    "colab": {
     "base_uri": "https://localhost:8080/",
     "height": 36
    },
    "executionInfo": {
     "elapsed": 263,
     "status": "ok",
     "timestamp": 1735913079576,
     "user": {
      "displayName": "조수민",
      "userId": "01033091443594520555"
     },
     "user_tz": -540
    },
    "id": "NOcZECpxe0M9",
    "outputId": "58e558da-5912-40d9-8c6a-05bf4c322bca"
   },
   "outputs": [
    {
     "name": "stdout",
     "output_type": "stream",
     "text": [
      "라\n",
      "라\n",
      "에\n",
      "포\n"
     ]
    }
   ],
   "source": [
    "print(퀴즈[15])\n",
    "print(퀴즈[-1]) #-1을 하면 맨 마지막에 오는 글자를 출력해 준다.\n",
    "print(퀴즈[-2]) #-2를 하면 맨 마지막 전에 오는 글자를 출력해 준다.\n",
    "print(퀴즈[-3]) #-3을 하면 -2를 했을때 오는 글자의 전 글자를 출력해 준다."
   ]
  },
  {
   "cell_type": "code",
   "execution_count": 41,
   "metadata": {},
   "outputs": [
    {
     "name": "stdout",
     "output_type": "stream",
     "text": [
      "2000 12 25\n",
      "2000 12 25\n"
     ]
    }
   ],
   "source": [
    "생년월일 = '2000.12.25'\n",
    "년 = 생년월일[0:4]\n",
    "월 = 생년월일[5:7]\n",
    "일 = 생년월일[8:10]\n",
    "\n",
    "print(년, 월, 일)\n",
    "print(f'{년} {월} {일}')"
   ]
  },
  {
   "cell_type": "code",
   "execution_count": 18,
   "metadata": {
    "colab": {
     "base_uri": "https://localhost:8080/"
    },
    "executionInfo": {
     "elapsed": 332,
     "status": "ok",
     "timestamp": 1735913552511,
     "user": {
      "displayName": "조수민",
      "userId": "01033091443594520555"
     },
     "user_tz": -540
    },
    "id": "eWiPDFNne54e",
    "outputId": "f149670d-5a6b-432e-d053-c1a95457d5da"
   },
   "outputs": [
    {
     "name": "stdout",
     "output_type": "stream",
     "text": [
      "2000 12 25\n"
     ]
    }
   ],
   "source": [
    "생년월일 = '2000.12.25'\n",
    "년 = 2000\n",
    "월 = 12\n",
    "일 = 25\n",
    "print(f'{년} {월} {일}')"
   ]
  },
  {
   "cell_type": "code",
   "execution_count": 19,
   "metadata": {
    "colab": {
     "base_uri": "https://localhost:8080/"
    },
    "executionInfo": {
     "elapsed": 265,
     "status": "ok",
     "timestamp": 1735913587987,
     "user": {
      "displayName": "조수민",
      "userId": "01033091443594520555"
     },
     "user_tz": -540
    },
    "id": "RvS0EuFdgr8G",
    "outputId": "8dcba9f4-ec95-48df-9439-a477cc5754c6"
   },
   "outputs": [
    {
     "name": "stdout",
     "output_type": "stream",
     "text": [
      "2000 12 25\n"
     ]
    }
   ],
   "source": [
    "print(f'{생년월일[0:4]} {생년월일[5:7]} {생년월일[8:10]}')"
   ]
  },
  {
   "cell_type": "code",
   "execution_count": 46,
   "metadata": {
    "colab": {
     "base_uri": "https://localhost:8080/"
    },
    "executionInfo": {
     "elapsed": 262,
     "status": "ok",
     "timestamp": 1735913991508,
     "user": {
      "displayName": "조수민",
      "userId": "01033091443594520555"
     },
     "user_tz": -540
    },
    "id": "l8HL1zrNg5sI",
    "outputId": "0299ccf9-18ae-4e23-8f8b-8be1241c936e"
   },
   "outputs": [
    {
     "name": "stdout",
     "output_type": "stream",
     "text": [
      "1234566778998675856\n",
      "6585768998776654321\n",
      "1356798786\n",
      "246789655\n",
      "543\n",
      "\n",
      "\n",
      "234\n"
     ]
    }
   ],
   "source": [
    "숫자 = '1234566778998675856'\n",
    "#전체출력\n",
    "print(숫자[::])\n",
    "\n",
    "#거꾸로 출력\n",
    "print(숫자[::-1])\n",
    "\n",
    "#인덱스0 기준으로 2칸씩 띄어서 출력하기\n",
    "print(숫자[::2])\n",
    "\n",
    "#인덱스1 기준으로 2칸씩 띄어서 출력하기\n",
    "print(숫자[1::2])\n",
    "\n",
    "#인덱스 설정하여 원하는 부분만 출력하기\n",
    "print(숫자[4:1:-1])\n",
    "print(숫자[1:4:-1]) #아무것도 출력되지 않는다\n",
    "print(숫자[4:1:]) #아무것도 출력되지 않는다\n",
    "print(숫자[1:4:])\n",
    "\n"
   ]
  },
  {
   "cell_type": "code",
   "execution_count": 55,
   "metadata": {
    "colab": {
     "base_uri": "https://localhost:8080/"
    },
    "executionInfo": {
     "elapsed": 239,
     "status": "ok",
     "timestamp": 1735914135540,
     "user": {
      "displayName": "조수민",
      "userId": "01033091443594520555"
     },
     "user_tz": -540
    },
    "id": "MXptiHFOigOt",
    "outputId": "e26307f7-6a64-467d-ff36-ae685f3441b2"
   },
   "outputs": [
    {
     "name": "stdout",
     "output_type": "stream",
     "text": [
      "어중이떠중이\n",
      "어중이떠중이\n"
     ]
    }
   ],
   "source": [
    "퀴즈 = '스님이 공중에 뜬다를 4글자로 말하면? 어중이떠중이'\n",
    "\n",
    "print(퀴즈[22:28])\n",
    "print(퀴즈[-6:])"
   ]
  },
  {
   "cell_type": "code",
   "execution_count": 22,
   "metadata": {
    "colab": {
     "base_uri": "https://localhost:8080/"
    },
    "executionInfo": {
     "elapsed": 239,
     "status": "ok",
     "timestamp": 1735914282435,
     "user": {
      "displayName": "조수민",
      "userId": "01033091443594520555"
     },
     "user_tz": -540
    },
    "id": "uPtjn8vpjQA3",
    "outputId": "25fee7a3-f5aa-4344-fa90-3687f007ef6a"
   },
   "outputs": [
    {
     "data": {
      "text/plain": [
       "2"
      ]
     },
     "execution_count": 22,
     "metadata": {},
     "output_type": "execute_result"
    }
   ],
   "source": [
    "과일 = \"apple\"\n",
    "과일.count(\"p\")"
   ]
  },
  {
   "cell_type": "code",
   "execution_count": 23,
   "metadata": {
    "colab": {
     "base_uri": "https://localhost:8080/"
    },
    "executionInfo": {
     "elapsed": 254,
     "status": "ok",
     "timestamp": 1735914311823,
     "user": {
      "displayName": "조수민",
      "userId": "01033091443594520555"
     },
     "user_tz": -540
    },
    "id": "36HeG_UqjeXy",
    "outputId": "56b77276-37a7-4e5d-86f8-ec1ebc0268da"
   },
   "outputs": [
    {
     "data": {
      "text/plain": [
       "1"
      ]
     },
     "execution_count": 23,
     "metadata": {},
     "output_type": "execute_result"
    }
   ],
   "source": [
    "과일[2]\n",
    "과일.index(\"p\")"
   ]
  },
  {
   "cell_type": "code",
   "execution_count": 24,
   "metadata": {
    "id": "u6JTdvx8jp91"
   },
   "outputs": [],
   "source": [
    "라라랜드 = \"사람들은 다른 사람들의 열정에 끌리게 되어있어 자신이 잊은걸 상기시켜 주니까\""
   ]
  },
  {
   "cell_type": "markdown",
   "metadata": {},
   "source": [
    "## bool, boolean\n",
    "* bool은 참과 거짓"
   ]
  },
  {
   "cell_type": "code",
   "execution_count": 60,
   "metadata": {},
   "outputs": [
    {
     "data": {
      "text/plain": [
       "False"
      ]
     },
     "execution_count": 60,
     "metadata": {},
     "output_type": "execute_result"
    }
   ],
   "source": [
    "#bool의 쇼타임\n",
    "# 주의할점 True x true False x false\n",
    "# 부등호\n",
    "\n",
    "3 > 1 #True\n",
    "# = 를 쓸때 ==로 쓴다\n",
    "3 == 1 #False\n",
    "3 == 3 #True\n",
    "#같지않다\n",
    "3 != 4 #True\n",
    "10 != 10 #False\n"
   ]
  },
  {
   "cell_type": "code",
   "execution_count": 63,
   "metadata": {},
   "outputs": [
    {
     "data": {
      "text/plain": [
       "True"
      ]
     },
     "execution_count": 63,
     "metadata": {},
     "output_type": "execute_result"
    }
   ],
   "source": [
    "# 문자열 비교\n",
    "\"python\" == \"Python\" #False #문자열은 대 소 문자 구분을 하기때문에 조심해야 한다.\n",
    "\"Python\" == \"Python\" #True\n",
    "\"python\" != \"Python\" #True"
   ]
  },
  {
   "cell_type": "code",
   "execution_count": 67,
   "metadata": {},
   "outputs": [
    {
     "data": {
      "text/plain": [
       "True"
      ]
     },
     "execution_count": 67,
     "metadata": {},
     "output_type": "execute_result"
    }
   ],
   "source": [
    "#부등호\n",
    "5 >= 5 #True #크거나 같다(>=) 작거나 같다(<=)\n",
    "5 < 4 #False\n",
    "4 <= 5 #True"
   ]
  },
  {
   "cell_type": "code",
   "execution_count": 72,
   "metadata": {},
   "outputs": [
    {
     "name": "stdout",
     "output_type": "stream",
     "text": [
      "4321143456\n",
      "4447185232\n"
     ]
    },
    {
     "name": "stderr",
     "output_type": "stream",
     "text": [
      "<>:3: SyntaxWarning: \"is\" with 'int' literal. Did you mean \"==\"?\n",
      "<>:7: SyntaxWarning: \"is\" with 'float' literal. Did you mean \"==\"?\n",
      "<>:3: SyntaxWarning: \"is\" with 'int' literal. Did you mean \"==\"?\n",
      "<>:7: SyntaxWarning: \"is\" with 'float' literal. Did you mean \"==\"?\n",
      "/var/folders/wk/x78xwk0562zbq_lmd582jyfc0000gn/T/ipykernel_19352/938774358.py:3: SyntaxWarning: \"is\" with 'int' literal. Did you mean \"==\"?\n",
      "  3 is 3 #True\n",
      "/var/folders/wk/x78xwk0562zbq_lmd582jyfc0000gn/T/ipykernel_19352/938774358.py:7: SyntaxWarning: \"is\" with 'float' literal. Did you mean \"==\"?\n",
      "  3.0 is 3 #False\n"
     ]
    }
   ],
   "source": [
    "#중요\n",
    "# == , is\n",
    "3 is 3 #True\n",
    "3 == 3 #True\n",
    "\n",
    "# ==는 실제 값만을 비교하고 is는 객체의 타입을 비교\n",
    "3.0 is 3 #False\n",
    "3.0 == 3 #True\n",
    "\n",
    "print(id(3))\n",
    "print(id(3.0))\n"
   ]
  },
  {
   "cell_type": "markdown",
   "metadata": {},
   "source": [
    "값 비교에는 is를 쓰면 안되는데 그 이유를 찾아서 적어 보세요\n",
    "* 값비교는 값이 같은지를 비교하는 작업입니다. ==(등호 비교 연산자)는 두 객체의 값을 비교하는 것 인데, is(동일성 비교 연산자)는 두 객체의 메모리값, 즉 두 객체가 동일한지 비교하는 것 이기 때문에 사용하면 안됩니다. 값 비교에 is값을 사용할 경우 잘못된 결과를 초래할 수 있습니다."
   ]
  },
  {
   "cell_type": "code",
   "execution_count": 78,
   "metadata": {},
   "outputs": [
    {
     "data": {
      "text/plain": [
       "False"
      ]
     },
     "execution_count": 78,
     "metadata": {},
     "output_type": "execute_result"
    }
   ],
   "source": [
    "# and\n",
    "#본격적인 논리연산자\n",
    "# True : 1 / False : 0\n",
    "\n",
    "# and라는 것은 두가지 값을 비교 해서 동일할때 동일한 값을 출력\n",
    "#두개의 값이 다를때 False를 출력 / 값이 같으면 동일한 값\n",
    "#and 는 *라고 생각 하면됨\n",
    "True and True #1 * 1 = 1\n",
    "True and False #1 * 0 = 0\n",
    "False and True #0 * 1 = 0\n",
    "False and False #0 * 0 = 0\n"
   ]
  },
  {
   "cell_type": "code",
   "execution_count": 83,
   "metadata": {},
   "outputs": [
    {
     "data": {
      "text/plain": [
       "False"
      ]
     },
     "execution_count": 83,
     "metadata": {},
     "output_type": "execute_result"
    }
   ],
   "source": [
    "# or\n",
    "#본격적인 논리연산자\n",
    "# True : 1 / False : 0\n",
    "\n",
    "# or는 그냥 말 그대로 '또는'\n",
    "#두개의 값이 다를때 True를 출력 / 값이 같으면 동일한 값\n",
    "#or 는 +라고 생각 하면됨\n",
    "True or True #1 + 1 = 2\n",
    "True or False #1 + 0 = 1\n",
    "False or True #0 + 1 = 1\n",
    "False or False #0 + 0 = 0"
   ]
  },
  {
   "cell_type": "code",
   "execution_count": 85,
   "metadata": {},
   "outputs": [
    {
     "data": {
      "text/plain": [
       "True"
      ]
     },
     "execution_count": 85,
     "metadata": {},
     "output_type": "execute_result"
    }
   ],
   "source": [
    "# not\n",
    "# 값을 반대로 바꾸는것\n",
    "\n",
    "not True # False\n",
    "not False # True"
   ]
  },
  {
   "cell_type": "code",
   "execution_count": 91,
   "metadata": {},
   "outputs": [
    {
     "name": "stderr",
     "output_type": "stream",
     "text": [
      "<>:6: SyntaxWarning: \"is not\" with 'int' literal. Did you mean \"!=\"?\n",
      "<>:6: SyntaxWarning: \"is not\" with 'int' literal. Did you mean \"!=\"?\n",
      "/var/folders/wk/x78xwk0562zbq_lmd582jyfc0000gn/T/ipykernel_19352/4241150061.py:6: SyntaxWarning: \"is not\" with 'int' literal. Did you mean \"!=\"?\n",
      "  not 7 is 7.0\n"
     ]
    },
    {
     "data": {
      "text/plain": [
       "True"
      ]
     },
     "execution_count": 91,
     "metadata": {},
     "output_type": "execute_result"
    }
   ],
   "source": [
    "# 점점 복잡해지는 조건들\n",
    "\n",
    "10 == 12 or 6 != 2 #True\n",
    "2 > 5 and 7 == 7 #False\n",
    "not 14 <= 15 #False\n",
    "not 7 is 7.0 #True"
   ]
  },
  {
   "cell_type": "code",
   "execution_count": 92,
   "metadata": {},
   "outputs": [
    {
     "data": {
      "text/plain": [
       "True"
      ]
     },
     "execution_count": 92,
     "metadata": {},
     "output_type": "execute_result"
    }
   ],
   "source": [
    "# 문자열? True?\n",
    "\n",
    "bool('힘들어요 여러분')"
   ]
  },
  {
   "cell_type": "code",
   "execution_count": 96,
   "metadata": {},
   "outputs": [
    {
     "name": "stdout",
     "output_type": "stream",
     "text": [
      "False\n",
      "False\n",
      "False\n",
      "힘들어요\n",
      "True\n",
      "힘들어요\n"
     ]
    }
   ],
   "source": [
    "#굉장히 중요한 내용\n",
    "#단락 평가\n",
    "print(False and True) #False 값 까지만 보고 False 출력 왜냐허면 and 는 둘중 하나만 False여도 False 이므로\n",
    "print(False and \"힘들어요\") #False = 힘들어요 까지 값을 안보냄 and앞에 True가 있으므로\n",
    "\n",
    "print(True and False) # and 앞이 True 이므로 값을 and 뒤까지 출력\n",
    "print(True and '힘들어요') # 1 * 1,0 뒤에 뭐가 나올지 몰라 and 뒤까지 출력 이런 경우 '힘들어요'까지 값을 출력 하므로 '힘들어요'기 값이된다.\n",
    "print(True or '힘들어요') # or 경우 둘중 하나만 True알 경우 True 이기 때문에 and 앞이 True이면 True출력\n",
    "print(False or '힘들어요') "
   ]
  }
 ],
 "metadata": {
  "colab": {
   "authorship_tag": "ABX9TyPg7lBEywdll8tCMaLpQ7xH",
   "provenance": []
  },
  "kernelspec": {
   "display_name": "Python 3",
   "name": "python3"
  },
  "language_info": {
   "codemirror_mode": {
    "name": "ipython",
    "version": 3
   },
   "file_extension": ".py",
   "mimetype": "text/x-python",
   "name": "python",
   "nbconvert_exporter": "python",
   "pygments_lexer": "ipython3",
   "version": "3.13.1"
  }
 },
 "nbformat": 4,
 "nbformat_minor": 0
}
