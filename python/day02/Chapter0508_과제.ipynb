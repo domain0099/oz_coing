{
 "cells": [
  {
   "cell_type": "markdown",
   "metadata": {
    "id": "WXEwMsfUct7U"
   },
   "source": [
    "안녕하세요.<br><br>\n",
    "수강생 여러분~! Chapter05 ~ 08 수업은 잘 들으셨나요?\n",
    "\n",
    "Chapter05 ~ 08의 수업 내용을 바탕으로 아래 문제를 풀어주시면 됩니다.\n",
    "\n",
    "<br>\n",
    "\n",
    "\n",
    "[**답변 입력 방법**]\n",
    "\n",
    "문제 아래에 있는 코드 입력창에 정답코드를 작성하신 후  __▷ 버튼을 클릭해 코드를 실행__ 해보세요<br>"
   ]
  },
  {
   "cell_type": "markdown",
   "metadata": {
    "id": "qoyC9wF-3hvs"
   },
   "source": [
    "-----"
   ]
  },
  {
   "cell_type": "markdown",
   "metadata": {
    "id": "vLMzC3my7WRY"
   },
   "source": [
    "__[문제0]__\n",
    "<br>\n",
    "\n",
    "##### 이전 과제에서 \"도전! 신비의 섬 탐험\" 을 변수를 이용해서 다시 풀어보세요 !!!!!\n",
    "\n"
   ]
  },
  {
   "cell_type": "markdown",
   "metadata": {
    "id": "rAD_O3Gmc_43"
   },
   "source": [
    "__[문제1]__\n",
    "\n",
    "<br>\n",
    "변수명 게임에 들어 있는 값 중 '홀'만 출력되도록 코드를 작성해 주세요\n",
    "\n",
    "game = \"홀짝홀짝홀짝\"\n",
    "\n",
    "출력 예시 : \"홀홀홀\"\n"
   ]
  },
  {
   "cell_type": "markdown",
   "metadata": {
    "id": "51N-Psg_7WRY"
   },
   "source": [
    "__Tips__\n",
    "- 문자열 슬라이싱을 이용해보세요 !"
   ]
  },
  {
   "cell_type": "code",
   "execution_count": 1,
   "metadata": {
    "colab": {
     "base_uri": "https://localhost:8080/"
    },
    "executionInfo": {
     "elapsed": 285,
     "status": "ok",
     "timestamp": 1735914457228,
     "user": {
      "displayName": "조수민",
      "userId": "01033091443594520555"
     },
     "user_tz": -540
    },
    "id": "74wtVQFFc_h1",
    "outputId": "d9559c7b-f25f-4b8f-dc7d-580f749180b6"
   },
   "outputs": [
    {
     "name": "stdout",
     "output_type": "stream",
     "text": [
      "홀홀홀\n"
     ]
    }
   ],
   "source": [
    "game = \"홀짝홀짝홀짝\"\n",
    "print(game[::2])"
   ]
  },
  {
   "cell_type": "markdown",
   "metadata": {
    "id": "1wIb2wpG7WRZ"
   },
   "source": [
    "---"
   ]
  },
  {
   "cell_type": "markdown",
   "metadata": {
    "id": "3uK_auXYdgk2"
   },
   "source": [
    "__[문제2]__\n",
    "\n",
    "<br>\n",
    "\n",
    "변수명 전화번호에 들어 있는 번호를 모두 붙여서 출력되도록 코드를 작성해주세요.\n",
    "\n",
    "<br>\n",
    "\n",
    "phone = \"010-1234-5678\"\n",
    "\n",
    "출력 예시 : \"01012345678\""
   ]
  },
  {
   "cell_type": "markdown",
   "metadata": {
    "id": "fO5FjFmE7WRa"
   },
   "source": [
    "__Tips__\n",
    "- split() 함수는 문자열을 특정 구분자를 기준으로 나누어 리스트로 반환합니다."
   ]
  },
  {
   "cell_type": "code",
   "execution_count": 5,
   "metadata": {
    "colab": {
     "base_uri": "https://localhost:8080/"
    },
    "executionInfo": {
     "elapsed": 262,
     "status": "ok",
     "timestamp": 1735914759295,
     "user": {
      "displayName": "조수민",
      "userId": "01033091443594520555"
     },
     "user_tz": -540
    },
    "id": "9kvBxa6PdhgA",
    "outputId": "65647087-ee58-4400-9a3e-1297d2089078"
   },
   "outputs": [
    {
     "name": "stdout",
     "output_type": "stream",
     "text": [
      "01012345678\n"
     ]
    }
   ],
   "source": [
    "phone = \"010-1234-5678\"\n",
    "print(f\"{phone[0:3]}{phone[4:8]}{phone[9:13]}\")"
   ]
  },
  {
   "cell_type": "markdown",
   "metadata": {
    "id": "ZvQi3wN47WRb"
   },
   "source": [
    "----"
   ]
  },
  {
   "cell_type": "markdown",
   "metadata": {
    "id": "CGfFNpad7WRb"
   },
   "source": [
    "<br>\n",
    "\n",
    "__[문제3]__\n",
    "\n",
    "<br>\n",
    "\n",
    "오즈 코딩 스쿨 백엔드 8기 과정에 참여한 수강생 중 5명의 수강생이 자율적으로 스터디 그룹을 결성했습니다.\n",
    "\n",
    "스터디 그룹 내에는 한 주간 배운 내용으로 매주 쪽지 시험을 보는 룰이 있습니다.\n",
    "\n",
    "이 쪽지 시험의 평균이 70점이 넘으면 주말 스터디는 없습니다.\n",
    "\n",
    "주말 스터디의 여부를 True 또는 False로 출력해주세요.\n",
    "\n",
    "<br>\n",
    "A: 70, B: 75, C: 50, D: 80, E: 60\n",
    "\n",
    "<br>"
   ]
  },
  {
   "cell_type": "code",
   "execution_count": 8,
   "metadata": {
    "colab": {
     "base_uri": "https://localhost:8080/"
    },
    "executionInfo": {
     "elapsed": 220,
     "status": "ok",
     "timestamp": 1735915299480,
     "user": {
      "displayName": "조수민",
      "userId": "01033091443594520555"
     },
     "user_tz": -540
    },
    "id": "l4hmQeTR7WRb",
    "outputId": "7725f779-241e-492b-9cca-4e6bb460a940"
   },
   "outputs": [
    {
     "name": "stdout",
     "output_type": "stream",
     "text": [
      "True\n"
     ]
    }
   ],
   "source": [
    "A= 70\n",
    "B= 75\n",
    "C= 50\n",
    "D= 80\n",
    "E= 60\n",
    "score = A+B+C+D+E\n",
    "average = score/5\n",
    "print(bool(average<70))"
   ]
  },
  {
   "cell_type": "markdown",
   "metadata": {
    "id": "2Jte2VLKdiPm"
   },
   "source": [
    "__[문제4]__\n",
    "\n",
    "<br>\n",
    "\n",
    "창의성, 시장성, 안정성, 수익성에 대한 각각의 평가 중 아래 기준에 부합하지 못하면 창업지원을 받을 수 없습니다.\n",
    "\n",
    "- 수익성 60점 이상\n",
    "- 창의성과 시장성 50점 이상\n",
    "- 시장성과 수익성을 더한 값의 절반이 안정성 보다 높아야 함\n",
    "\n",
    "\n",
    "다음 점수가 입력되었을때 창업 지원이 가능한지 여부를 True 또는 False로 출력해주세요.\n",
    "\n",
    "---\n",
    "\n",
    "창의성 : 62\n",
    "시장성 : 71\n",
    "안정성 : 68\n",
    "수익성 : 66\n",
    "<br>\n",
    "\n",
    "* 참고\n",
    "(creativity ,\n",
    "marketability ,\n",
    "stability ,\n",
    "profitability )"
   ]
  },
  {
   "cell_type": "markdown",
   "metadata": {
    "id": "x1nwSlfM7WRc"
   },
   "source": [
    "__Tips__\n",
    "* 비교 연산자와 논리 연산자의 결과를 고려해보아요"
   ]
  },
  {
   "cell_type": "code",
   "execution_count": 11,
   "metadata": {
    "colab": {
     "base_uri": "https://localhost:8080/"
    },
    "executionInfo": {
     "elapsed": 217,
     "status": "ok",
     "timestamp": 1735915734118,
     "user": {
      "displayName": "조수민",
      "userId": "01033091443594520555"
     },
     "user_tz": -540
    },
    "id": "XJhvRO-2djBh",
    "outputId": "882a0aab-9a3c-4a17-beb2-d4d0aac3d895"
   },
   "outputs": [
    {
     "name": "stdout",
     "output_type": "stream",
     "text": [
      "True\n",
      "True\n",
      "True\n",
      "True\n"
     ]
    }
   ],
   "source": [
    "creativity =62\n",
    "marketability =71\n",
    "stability =68\n",
    "profitability = 66\n",
    "print(bool(profitability > 60))\n",
    "print(bool(creativity > 50))\n",
    "print(bool(marketability > 50))\n",
    "print(bool(marketability + profitability / 2 > stability))\n"
   ]
  },
  {
   "cell_type": "markdown",
   "metadata": {
    "id": "KbbGuFde7WRc"
   },
   "source": [
    "## 모험가들의 레벨업 도전\n",
    "\n",
    "### [배경 이야기]\n",
    "\n",
    "당신은 마법사, 전사, 도적, 힐러 네 명의 모험가를 이끄는 리더입니다.\n",
    "\n",
    "각 캐릭터는 힘, 민첩, 지능, 체력이라는 능력치를 가지고 있습니다. 이 능력치들을 이용해 다양한 도전을 해결하고 사냥을 통해 경험치를 얻어 레벨업을 해야 합니다.\n",
    "\n",
    "<br>\n",
    "\n",
    "### [동료 캐릭터와 능력치 정보]\n",
    "\n",
    "마법사: 힘(10), 민첩(20), 지능(80), 체력(50)\n",
    "\n",
    "전사: 힘(80), 민첩(30), 지능(20), 체력(100)\n",
    "\n",
    "도적: 힘(40), 민첩(80), 지능(30), 체력(60)\n",
    "\n",
    "힐러: 힘(20), 민첩(40), 지능(70), 체력(70)\n",
    "\n",
    "<br>\n",
    "\n",
    "* 변수명을 영어로 변경해서 풀어보세요 !"
   ]
  },
  {
   "cell_type": "markdown",
   "metadata": {
    "id": "mJfiZ4uF7WRc"
   },
   "source": [
    "<br>\n",
    "\n",
    "__[문제 1: 첫 번째 사냥]__\n",
    "\n",
    "마법사는 몬스터를 사냥하기 위해 마법을 사용합니다.\n",
    "\n",
    "마법을 사용하려면 지능이 50 이상이어야 합니다.\n",
    "\n",
    "마법사의 지능이 50 이상인지 확인하세요."
   ]
  },
  {
   "cell_type": "code",
   "execution_count": 18,
   "metadata": {
    "colab": {
     "base_uri": "https://localhost:8080/"
    },
    "executionInfo": {
     "elapsed": 243,
     "status": "ok",
     "timestamp": 1735916207131,
     "user": {
      "displayName": "조수민",
      "userId": "01033091443594520555"
     },
     "user_tz": -540
    },
    "id": "jmBFczgc7WRc",
    "outputId": "9aecb429-ec8a-4fa6-966d-39281466ae2a"
   },
   "outputs": [
    {
     "name": "stdout",
     "output_type": "stream",
     "text": [
      "True\n"
     ]
    }
   ],
   "source": [
    "힘 = 10\n",
    "민첩 = 20\n",
    "지능 = 80\n",
    "체력 = 50\n",
    "\n",
    "print(bool(지능>50))"
   ]
  },
  {
   "cell_type": "markdown",
   "metadata": {
    "id": "fUbfVWVI7WRc"
   },
   "source": [
    "<br>\n",
    "\n",
    "__[문제 2: 두 번째 사냥]__\n",
    "\n",
    "전사는 강력한 공격을 하기 위해 자신의 힘을 사용합니다.\n",
    "\n",
    "전사의 힘이 60 이상이고 체력이 80 이상인지 확인하세요."
   ]
  },
  {
   "cell_type": "code",
   "execution_count": 1,
   "metadata": {
    "colab": {
     "base_uri": "https://localhost:8080/"
    },
    "executionInfo": {
     "elapsed": 219,
     "status": "ok",
     "timestamp": 1735916289958,
     "user": {
      "displayName": "조수민",
      "userId": "01033091443594520555"
     },
     "user_tz": -540
    },
    "id": "zIJgZMjK7WRc",
    "outputId": "6008b654-4e14-41ae-8e32-88f187146063"
   },
   "outputs": [
    {
     "name": "stdout",
     "output_type": "stream",
     "text": [
      "True\n"
     ]
    }
   ],
   "source": [
    "힘 = 80\n",
    "민첩 = 30\n",
    "지능 = 20\n",
    "체력 = 100\n",
    "\n",
    "print(bool(힘>60) and bool(체력>80))"
   ]
  },
  {
   "cell_type": "markdown",
   "metadata": {
    "id": "5c8BLtPy7WRc"
   },
   "source": [
    "<br>\n",
    "\n",
    "__[문제 3: 세 번째 사냥]__\n",
    "\n",
    "도적은 민첩함을 이용해 몬스터를 회피하고 공격합니다.\n",
    "\n",
    "도적의 민첩이 70 이상이거나 힘이 50 이상인지 확인하세요."
   ]
  },
  {
   "cell_type": "code",
   "execution_count": 2,
   "metadata": {
    "colab": {
     "base_uri": "https://localhost:8080/"
    },
    "executionInfo": {
     "elapsed": 246,
     "status": "ok",
     "timestamp": 1735916433566,
     "user": {
      "displayName": "조수민",
      "userId": "01033091443594520555"
     },
     "user_tz": -540
    },
    "id": "5Hv5mLPY7WRc",
    "outputId": "91d81a78-e17b-4759-a7b0-33619fbbe87f"
   },
   "outputs": [
    {
     "name": "stdout",
     "output_type": "stream",
     "text": [
      "True\n"
     ]
    }
   ],
   "source": [
    "힘 = 40\n",
    "민첩 = 80\n",
    "지능 = 30\n",
    "체력 = 60\n",
    "print(bool(힘>50) or bool(민첩>70))"
   ]
  },
  {
   "cell_type": "markdown",
   "metadata": {
    "id": "OJfzIR_q7WRc"
   },
   "source": [
    "<br>\n",
    "\n",
    "__[문제 4: 네 번째 사냥]__\n",
    "\n",
    "힐러는 파티의 체력을 회복시키기 위해 마법을 사용합니다.\n",
    "\n",
    "힐러의 지능이 60 이상이고, 체력이 50 이상인지 확인하세요."
   ]
  },
  {
   "cell_type": "code",
   "execution_count": 4,
   "metadata": {
    "id": "E2GO3C1j7WRd"
   },
   "outputs": [
    {
     "name": "stdout",
     "output_type": "stream",
     "text": [
      "True\n"
     ]
    }
   ],
   "source": [
    "힘 = 20\n",
    "민첩 = 40\n",
    "지능 = 70\n",
    "체력 = 70\n",
    "print(bool(지능>60) and bool(체력>50))"
   ]
  },
  {
   "cell_type": "markdown",
   "metadata": {
    "id": "RpOzi6OB7WRd"
   },
   "source": [
    "<br>\n",
    "\n",
    "__[문제 5: 레벨업]__\n",
    "\n",
    "모든 캐릭터가 사냥을 성공적으로 마쳤습니다. 이제 경험치를 얻어 레벨업을 해야 합니다.\n",
    "\n",
    "\n",
    "각 캐릭터의 경험치가 100 이상인지 print()를 이용해 확인해주세요.\n",
    "\n",
    "<br>\n",
    "\n",
    "경험치는 아래와 같습니다.\n",
    "\n",
    "마법사: 120\n",
    "\n",
    "전사: 150\n",
    "\n",
    "도적: 110\n",
    "\n",
    "힐러: 90\n",
    "\n"
   ]
  },
  {
   "cell_type": "code",
   "execution_count": 25,
   "metadata": {
    "colab": {
     "base_uri": "https://localhost:8080/"
    },
    "executionInfo": {
     "elapsed": 281,
     "status": "ok",
     "timestamp": 1735916656172,
     "user": {
      "displayName": "조수민",
      "userId": "01033091443594520555"
     },
     "user_tz": -540
    },
    "id": "mgr57Ujk7WRd",
    "outputId": "5ab297a2-464b-4ab7-c3db-2c3f69d15085"
   },
   "outputs": [
    {
     "name": "stdout",
     "output_type": "stream",
     "text": [
      "True True True False\n"
     ]
    }
   ],
   "source": [
    "마법사 = 120\n",
    "전사 = 150\n",
    "도적 = 110\n",
    "힐러 = 90\n",
    "\n",
    "print(bool(마법사 > 100),bool(전사 > 100),bool(도적 > 100),bool(힐러 > 100))"
   ]
  }
 ],
 "metadata": {
  "colab": {
   "provenance": []
  },
  "kernelspec": {
   "display_name": "Python 3",
   "name": "python3"
  },
  "language_info": {
   "codemirror_mode": {
    "name": "ipython",
    "version": 3
   },
   "file_extension": ".py",
   "mimetype": "text/x-python",
   "name": "python",
   "nbconvert_exporter": "python",
   "pygments_lexer": "ipython3",
   "version": "3.13.1"
  }
 },
 "nbformat": 4,
 "nbformat_minor": 0
}
