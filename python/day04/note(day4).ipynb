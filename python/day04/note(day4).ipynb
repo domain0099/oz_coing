{
 "cells": [
  {
   "cell_type": "markdown",
   "metadata": {
    "id": "BqHDFuThSxmJ"
   },
   "source": [
    "###1. if문이란?\n",
    "* 특정 조건일때 코드를 실행하는 문법\n",
    "        * if 파이썬을 정복 한다면 :\n",
    "           개발자로 취직할 수 있다.\n",
    "* if문 문법과 주의사항(콜론, 들여쓰기)           \n",
    "\n",
    "\n",
    "\n",
    "\n"
   ]
  },
  {
   "cell_type": "code",
   "execution_count": null,
   "metadata": {
    "colab": {
     "base_uri": "https://localhost:8080/"
    },
    "executionInfo": {
     "elapsed": 3916,
     "status": "ok",
     "timestamp": 1736212315412,
     "user": {
      "displayName": "조수민",
      "userId": "01033091443594520555"
     },
     "user_tz": -540
    },
    "id": "L2jGdhZlT3hF",
    "outputId": "04f151f8-04e6-47c2-9fd9-a45d2b283819"
   },
   "outputs": [
    {
     "name": "stdout",
     "output_type": "stream",
     "text": [
      "붕어빵 몇개 사실껀가요?4\n",
      "개당 1800원 입니다.\n"
     ]
    }
   ],
   "source": [
    "#2. if문 문법과 주의사항(콜론, 들여쓰기)\n",
    "개수 = int(input(\"붕어빵 몇개 사실껀가요?\"))\n",
    "\n",
    "if 개수 > 3:\n",
    "    print(\"개당 1800원 입니다.\")"
   ]
  },
  {
   "cell_type": "code",
   "execution_count": null,
   "metadata": {
    "colab": {
     "base_uri": "https://localhost:8080/"
    },
    "executionInfo": {
     "elapsed": 2012,
     "status": "ok",
     "timestamp": 1736212594876,
     "user": {
      "displayName": "조수민",
      "userId": "01033091443594520555"
     },
     "user_tz": -540
    },
    "id": "KY2UBTGCUYt3",
    "outputId": "b592ee0f-04c3-4413-e997-e185ab776227"
   },
   "outputs": [
    {
     "name": "stdout",
     "output_type": "stream",
     "text": [
      "붕어빵 몇개 사실껀가요?3\n",
      "개당 2000원 입니다.\n"
     ]
    }
   ],
   "source": [
    "#3. if문의 흐름 (작동원리)\n",
    "#코드는 위에 아래 순서대로 작동합니다.\n",
    "\n",
    "# 2)개수라는 변수에 담음      1)입력을 받음\n",
    "개수 = int(input(\"붕어빵 몇개 사실껀가요?\"))\n",
    "# 3)개수 변수가 있네 값이 뭐지 4>3 True 또는 False\n",
    "if 개수 > 3:\n",
    "    print(\"개당 1800원 입니다.\") #4) 조건이 True이면 if문 안에 코드가 실행됨\n",
    "if 개수 <= 3:\n",
    "    print(\"개당 2000원 입니다.\")"
   ]
  },
  {
   "cell_type": "code",
   "execution_count": null,
   "metadata": {
    "colab": {
     "base_uri": "https://localhost:8080/"
    },
    "executionInfo": {
     "elapsed": 300,
     "status": "ok",
     "timestamp": 1736212726969,
     "user": {
      "displayName": "조수민",
      "userId": "01033091443594520555"
     },
     "user_tz": -540
    },
    "id": "u5Su5-oTVdO6",
    "outputId": "e2ee3892-6e07-423f-d7eb-4f03e3df46b1"
   },
   "outputs": [
    {
     "name": "stdout",
     "output_type": "stream",
     "text": [
      "의문의_숫자는 5보다 크고 10보다 작습니다.\n"
     ]
    }
   ],
   "source": [
    "#4. if 중첩문\n",
    "\n",
    "의문의_숫자 = 10\n",
    "if 의문의_숫자 > 5 :\n",
    "    if 의문의_숫자 < 15 :\n",
    "        print(\"의문의_숫자는 5보다 크고 10보다 작습니다.\")\n"
   ]
  },
  {
   "cell_type": "code",
   "execution_count": null,
   "metadata": {
    "colab": {
     "base_uri": "https://localhost:8080/"
    },
    "executionInfo": {
     "elapsed": 2239,
     "status": "ok",
     "timestamp": 1736212866093,
     "user": {
      "displayName": "조수민",
      "userId": "01033091443594520555"
     },
     "user_tz": -540
    },
    "id": "Z1jzNQN5WCfB",
    "outputId": "037eaf51-1488-4434-d589-df976a01ee42"
   },
   "outputs": [
    {
     "name": "stdout",
     "output_type": "stream",
     "text": [
      "붕어빵 몇개 사실껀가요?3\n",
      "개당 2000원 입니다.\n"
     ]
    }
   ],
   "source": [
    "#5. if ~ else 문법과 주의사항(콜론,들여쓰기)\n",
    "#True일때는 if문 안에 작성된 코드가 실행 됩니다\n",
    "#False일때는 else문 안에 작성된 코드가 실행됩니다.\n",
    "개수 = int(input(\"붕어빵 몇개 사실껀가요?\"))\n",
    "\n",
    "if 개수 > 3:\n",
    "\n",
    "    print(\"개당 1800원 입니다.\")\n",
    "else :\n",
    "    print(\"개당 2000원 입니다.\")"
   ]
  },
  {
   "cell_type": "code",
   "execution_count": null,
   "metadata": {
    "id": "5H_tl89BW3iD"
   },
   "outputs": [],
   "source": [
    "#6. if ~ else문 흐름(작동원리)\n",
    "개수 = int(input(\"붕어빵 몇개 사실껀가요?\"))\n",
    "\n",
    "if 개수 > 3:\n",
    "\n",
    "    print(\"개당 1800원 입니다.\")\n",
    "else :\n",
    "    print(\"개당 2000원 입니다.\""
   ]
  },
  {
   "cell_type": "code",
   "execution_count": null,
   "metadata": {
    "colab": {
     "base_uri": "https://localhost:8080/"
    },
    "executionInfo": {
     "elapsed": 267,
     "status": "ok",
     "timestamp": 1736232506727,
     "user": {
      "displayName": "조수민",
      "userId": "01033091443594520555"
     },
     "user_tz": -540
    },
    "id": "wwAdfgq4XxdK",
    "outputId": "15856ee3-f22f-4210-acce-b6ac5b79c938"
   },
   "outputs": [
    {
     "name": "stdout",
     "output_type": "stream",
     "text": [
      "True\n",
      "False\n",
      "False\n",
      "False\n",
      "True\n",
      "True\n",
      "True\n",
      "False\n",
      "False\n",
      "True\n"
     ]
    }
   ],
   "source": [
    "#7. 조건문 조건(True, False)\n",
    "\n",
    "\n",
    "#True\n",
    "if True :\n",
    "    print(True)\n",
    "else :\n",
    "    print(False)\n",
    "\n",
    "#False\n",
    "if False:\n",
    "    print(True)\n",
    "else :\n",
    "    print(False)\n",
    "\n",
    "#None\n",
    "if None :\n",
    "    print(True)\n",
    "else :\n",
    "    print(False)\n",
    "\n",
    "#0\n",
    "if None :\n",
    "    print(True)\n",
    "else :\n",
    "    print(False)\n",
    "\n",
    "\n",
    "#1\n",
    "if 1 :\n",
    "    print(True)\n",
    "else :\n",
    "    print(False)\n",
    "\n",
    "#1.1\n",
    "if 1.1 :\n",
    "    print(True)\n",
    "else :\n",
    "    print(False)\n",
    "\n",
    "#hello\n",
    "if 'hello' :\n",
    "    print(True)\n",
    "else :\n",
    "    print(False)\n",
    "\n",
    "#''\n",
    "if '' :\n",
    "    print(True)\n",
    "else :\n",
    "    print(False)\n",
    "\n",
    "\n",
    "#not\n",
    "if not True :\n",
    "    print(True)\n",
    "else :\n",
    "    print(False)\n",
    "\n",
    "if not '' :\n",
    "    print(True)\n",
    "else :\n",
    "    print(False)"
   ]
  },
  {
   "cell_type": "code",
   "execution_count": null,
   "metadata": {
    "colab": {
     "base_uri": "https://localhost:8080/"
    },
    "executionInfo": {
     "elapsed": 287,
     "status": "ok",
     "timestamp": 1736213990139,
     "user": {
      "displayName": "조수민",
      "userId": "01033091443594520555"
     },
     "user_tz": -540
    },
    "id": "MvxYXv-iZh8H",
    "outputId": "47e721f0-0ba7-4721-e36e-b982b737c1ad"
   },
   "outputs": [
    {
     "name": "stdout",
     "output_type": "stream",
     "text": [
      "동일합니다.\n",
      "동일합니다.\n",
      "10보다 크고 20보다 작습니다\n",
      "10보다 크고 20보다 작습니다\n"
     ]
    }
   ],
   "source": [
    "#8. 조건식 여러개 설정하기\n",
    "\n",
    "a, b = 10, 30\n",
    "if a == 10 and b == 30 :\n",
    "    print(\"동일합니다.\")\n",
    "else :\n",
    "    print(\"동일하지 않습니다.\")\n",
    "\n",
    "\n",
    "a, b = 10, 30\n",
    "if a == 10 or b == 30 :\n",
    "    print(\"동일합니다.\")\n",
    "else :\n",
    "    print(\"동일하지 않습니다.\")\n",
    "\n",
    "if a >= 10 and a < 20 :\n",
    "    print(\"10보다 크고 20보다 작습니다\")\n",
    "\n",
    "if 10 <= a <20 :\n",
    "    print(\"10보다 크고 20보다 작습니다\")\n",
    "\n",
    "\n"
   ]
  },
  {
   "cell_type": "code",
   "execution_count": null,
   "metadata": {
    "colab": {
     "base_uri": "https://localhost:8080/"
    },
    "executionInfo": {
     "elapsed": 3447,
     "status": "ok",
     "timestamp": 1736214255890,
     "user": {
      "displayName": "조수민",
      "userId": "01033091443594520555"
     },
     "user_tz": -540
    },
    "id": "sKnzykWwayBE",
    "outputId": "e65dbff7-c1c5-4f05-b492-e5255a11e186"
   },
   "outputs": [
    {
     "name": "stdout",
     "output_type": "stream",
     "text": [
      "붕어빵 맛을 골라 주세요(팥, 슈크림, 잡채)슈크림\n",
      "슈크림을 선택하셨습니다.\n"
     ]
    }
   ],
   "source": [
    "#9. elif ~ if문\n",
    "맛 = input(\"붕어빵 맛을 골라 주세요(팥, 슈크림, 잡채)\")\n",
    "\n",
    "if 맛 == \"팥\" :\n",
    "    print(f'{맛}을 선택하셨습니다.')\n",
    "elif 맛 == \"슈크림\" :\n",
    "    print(f'{맛}을 선택하셨습니다.')\n",
    "else :\n",
    "    print(f'{맛}을 선택하셨습니다.')\n",
    "\n"
   ]
  },
  {
   "cell_type": "code",
   "execution_count": null,
   "metadata": {
    "colab": {
     "base_uri": "https://localhost:8080/"
    },
    "executionInfo": {
     "elapsed": 2957,
     "status": "ok",
     "timestamp": 1736215946948,
     "user": {
      "displayName": "조수민",
      "userId": "01033091443594520555"
     },
     "user_tz": -540
    },
    "id": "VBzY9COGbzrj",
    "outputId": "d7e3d83f-a111-45c9-a08b-34798e000d0a"
   },
   "outputs": [
    {
     "name": "stdout",
     "output_type": "stream",
     "text": [
      "qwer\n",
      "we\n"
     ]
    }
   ],
   "source": [
    "#10. 예제로 if문 익혀보기\n",
    "#문제 : 단어 a의 가운데 글자를 반환하는 코드\n",
    "#조건 : 단어의 길이가 짝수라면 가운데 두글자를 출력하면 됩니다.\n",
    "\n",
    "#입력값1 : \"abcde\"\n",
    "#입력값2 : \"qwer\"\n",
    "\n",
    "a = input()\n",
    "#코드를 작성해 주세요\n",
    "가운데_인덱스 = int(len(a) / 2)\n",
    "if len(a) % 2 != 0 :\n",
    "    print(a[가운데_인덱스])\n",
    "else :\n",
    "    print(a[가운데_인덱스-1 : 가운데_인덱스+1] )"
   ]
  },
  {
   "cell_type": "code",
   "execution_count": 5,
   "metadata": {},
   "outputs": [
    {
     "name": "stdout",
     "output_type": "stream",
     "text": [
      "13\n"
     ]
    }
   ],
   "source": [
    "## if문 순서 및 해석\n",
    "정수 = [10, 5, 8]\n",
    "부호 = [True, False, True]\n",
    "\n",
    "합 = 0 #나중에 계산될 값 0으로 지정해준다 그래야 정수안에 있는 수들이 변함없이 나온다.\n",
    "\n",
    "for k, v in zip(정수, 부호) :#for k(정수), v(부호) in zip(부호, 정수) : zip 함수를 사용하여 정수와 부호 리스트의 요소를 쌍으로 묶어 반복합니다. k는 정수값을, v는 부호(True/False)를 나타냅니다.\n",
    "    if v : #부호가 Ture 일때\n",
    "        합 += k #합 = 합 + 정수\n",
    "    else :  #참이 아니라면\n",
    "        합 -= k #합 = 합 - 정수\n",
    "print(합)\n"
   ]
  },
  {
   "cell_type": "markdown",
   "metadata": {
    "id": "dgtOBLOkmSKs"
   },
   "source": [
    "## for문이란???\n",
    "* 프로그래밍 언어에서 반복되는 작업을 간단하게 처리하기 위해서 사용하는 기능\n"
   ]
  },
  {
   "cell_type": "code",
   "execution_count": null,
   "metadata": {
    "id": "Ig3p8xiYmz34"
   },
   "outputs": [],
   "source": [
    "#2. for문으로 만들어 보기\n",
    "# for 변수 in range(횟수) :\n",
    "#   print()"
   ]
  },
  {
   "cell_type": "code",
   "execution_count": null,
   "metadata": {
    "colab": {
     "base_uri": "https://localhost:8080/"
    },
    "executionInfo": {
     "elapsed": 291,
     "status": "ok",
     "timestamp": 1736217489106,
     "user": {
      "displayName": "조수민",
      "userId": "01033091443594520555"
     },
     "user_tz": -540
    },
    "id": "egJaAzmsn7yV",
    "outputId": "bdc1f8e9-d1a8-4ad0-cbb4-120fc32731a8"
   },
   "outputs": [
    {
     "name": "stdout",
     "output_type": "stream",
     "text": [
      "반복이 되네 신기해\n",
      "반복이 되네 신기해\n",
      "반복이 되네 신기해\n",
      "반복이 되네 신기해\n",
      "반복이 되네 신기해\n"
     ]
    }
   ],
   "source": [
    "#3. for문 만들어 보기\n",
    "\n",
    "for i in range(5) :\n",
    "    print('반복이 되네 신기해')"
   ]
  },
  {
   "cell_type": "code",
   "execution_count": null,
   "metadata": {
    "colab": {
     "base_uri": "https://localhost:8080/"
    },
    "executionInfo": {
     "elapsed": 267,
     "status": "ok",
     "timestamp": 1736217582093,
     "user": {
      "displayName": "조수민",
      "userId": "01033091443594520555"
     },
     "user_tz": -540
    },
    "id": "KK_Zel3MoJc8",
    "outputId": "633a10e2-8657-419c-c09a-0e1a0279f6a8"
   },
   "outputs": [
    {
     "name": "stdout",
     "output_type": "stream",
     "text": [
      "반복이되네 신기해 0\n",
      "반복이되네 신기해 1\n",
      "반복이되네 신기해 2\n",
      "반복이되네 신기해 3\n",
      "반복이되네 신기해 4\n"
     ]
    }
   ],
   "source": [
    "#4. for문의 흐름 확인\n",
    "\n",
    "for i in range(5) :\n",
    "    print(\"반복이되네 신기해\", i)"
   ]
  },
  {
   "cell_type": "code",
   "execution_count": null,
   "metadata": {
    "colab": {
     "base_uri": "https://localhost:8080/"
    },
    "executionInfo": {
     "elapsed": 281,
     "status": "ok",
     "timestamp": 1736258908097,
     "user": {
      "displayName": "조수민",
      "userId": "01033091443594520555"
     },
     "user_tz": -540
    },
    "id": "ba6ktSsRo06C",
    "outputId": "76c794df-cdf1-4059-c758-b79dd49c08bb"
   },
   "outputs": [
    {
     "name": "stdout",
     "output_type": "stream",
     "text": [
      "4\n",
      "5\n",
      "6\n",
      "7\n",
      "8\n",
      "9\n"
     ]
    }
   ],
   "source": [
    "#5. for문에서 range() 함수 활용하기\n",
    "\n",
    "for i in range(4, 10) :\n",
    "    print(i)\n",
    "#for i in range(4, 10, 2) :\n",
    "    #print(i)\n",
    "#for i in range(10, 4, -1) :\n",
    "    #print(i)\n",
    "\n",
    "#for i in reversed(range(10)) :\n",
    "    #print(i)"
   ]
  },
  {
   "cell_type": "code",
   "execution_count": null,
   "metadata": {
    "colab": {
     "base_uri": "https://localhost:8080/"
    },
    "executionInfo": {
     "elapsed": 308,
     "status": "ok",
     "timestamp": 1736218057406,
     "user": {
      "displayName": "조수민",
      "userId": "01033091443594520555"
     },
     "user_tz": -540
    },
    "id": "UwivJ37jpmoF",
    "outputId": "f8c1ad0d-cd38-429a-8e3d-157fcb68773a"
   },
   "outputs": [
    {
     "name": "stdout",
     "output_type": "stream",
     "text": [
      "트\n",
      "훈\n",
      "스\n",
      "닥\n"
     ]
    }
   ],
   "source": [
    "#6. for문에서 시퀀스 객체로 반복하기\n",
    "\n",
    "과일 = ['두리안', '망고', '바나나', '멜론']\n",
    "\n",
    "#for i in 과일 :\n",
    "#    print(i)\n",
    "\n",
    "#for i in \"닥스훈트\" :\n",
    "#    print(i)\n",
    "\n",
    "for i in reversed (\"닥스훈트\") :\n",
    "    print(i)"
   ]
  },
  {
   "cell_type": "code",
   "execution_count": null,
   "metadata": {
    "colab": {
     "base_uri": "https://localhost:8080/"
    },
    "executionInfo": {
     "elapsed": 271,
     "status": "ok",
     "timestamp": 1736222943947,
     "user": {
      "displayName": "조수민",
      "userId": "01033091443594520555"
     },
     "user_tz": -540
    },
    "id": "R-zLPt05qUFC",
    "outputId": "bfa5cd1c-92a7-40f9-d130-5ac6c483fa3f"
   },
   "outputs": [
    {
     "name": "stdout",
     "output_type": "stream",
     "text": [
      "총합은 13입니다\n"
     ]
    }
   ],
   "source": [
    "#7. 예제로 for문 익혀보기\n",
    "\n",
    "#문제 : 절대값 정수가 담긴 정수 변수와 그 정수의 부호를 차례 담은 부호 변수가 있다\n",
    "#두 변수를 이용해 실제 정수의 합을 구해 주세요 (True : 양수, False : 음수)\n",
    "\n",
    "정수 = [10, 5, 8]\n",
    "부호 = [True, False, True]\n",
    "합 = 0\n",
    "for k, v in zip(부호, 정수) :\n",
    "    if k :\n",
    "        합 += v\n",
    "    else :\n",
    "        합 -= v\n",
    "print(f'총합은 {합}입니다')"
   ]
  },
  {
   "cell_type": "markdown",
   "metadata": {
    "id": "Mv7cDQll9OQl"
   },
   "source": [
    "## while문"
   ]
  },
  {
   "cell_type": "code",
   "execution_count": 16,
   "metadata": {},
   "outputs": [
    {
     "name": "stdout",
     "output_type": "stream",
     "text": [
      "['소', '사슴', '돼지']\n",
      "보러갈래요? 0\n",
      "['소', '사슴', '돼지']\n",
      "보러갈래요? 1\n",
      "['소', '사슴', '돼지']\n",
      "보러갈래요? 2\n",
      "['소', '사슴', '돼지']\n",
      "보러갈래요? 3\n",
      "['소', '사슴', '돼지']\n",
      "보러갈래요? 4\n",
      "['소', '사슴', '돼지']\n",
      "보러갈래요? 5\n",
      "['소', '사슴', '돼지']\n",
      "보러갈래요? 6\n",
      "['소', '사슴', '돼지']\n",
      "보러갈래요? 7\n",
      "['소', '사슴', '돼지']\n",
      "보러갈래요? 8\n",
      "['소', '사슴', '돼지']\n",
      "보러갈래요? 9\n"
     ]
    }
   ],
   "source": [
    "i = 0 # 초기 식\n",
    "동물 = [\"소\", \"사슴\", \"돼지\"]\n",
    "while i < 10 :#while 조건식 반복할 범위 선정\n",
    "    print(동물) #반복할 코드 \n",
    "    print(\"보러갈래요?\", i) #반복할 코드\n",
    "    i += 1 #변환식"
   ]
  },
  {
   "cell_type": "code",
   "execution_count": null,
   "metadata": {
    "colab": {
     "base_uri": "https://localhost:8080/"
    },
    "executionInfo": {
     "elapsed": 327,
     "status": "ok",
     "timestamp": 1736223390640,
     "user": {
      "displayName": "조수민",
      "userId": "01033091443594520555"
     },
     "user_tz": -540
    },
    "id": "7XEF0Hhp9mLg",
    "outputId": "cb9c02ce-9ee5-4738-fa21-7b22bdf11f01"
   },
   "outputs": [
    {
     "name": "stdout",
     "output_type": "stream",
     "text": [
      "점점 성장하는 여러부~~~ㄴ\n",
      "점점 성장하는 여러부~~~ㄴ\n",
      "점점 성장하는 여러부~~~ㄴ\n",
      "점점 성장하는 여러부~~~ㄴ\n",
      "점점 성장하는 여러부~~~ㄴ\n",
      "점점 성장하는 여러부~~~ㄴ\n",
      "점점 성장하는 여러부~~~ㄴ\n",
      "점점 성장하는 여러부~~~ㄴ\n",
      "점점 성장하는 여러부~~~ㄴ\n",
      "점점 성장하는 여러부~~~ㄴ\n"
     ]
    }
   ],
   "source": [
    "#1. while문 만들어 보기\n",
    "\n",
    "i = 0\n",
    "while i < 10 :\n",
    "    print('점점 성장하는 여러부~~~ㄴ')\n",
    "    i += 1"
   ]
  },
  {
   "cell_type": "code",
   "execution_count": null,
   "metadata": {
    "id": "eKtFstom-rRT"
   },
   "outputs": [],
   "source": [
    "#2. while문 이렇게 작동해요\n",
    "#i = 0 >>> 초기식\n",
    "#while i < 10 :\n",
    "#   print(동물)        >>>> 반복할 코드\n",
    "#   print(\"보러갈래요?\") >>>> 반복할 코드\n",
    "#   i += 1  >>> 변화식"
   ]
  },
  {
   "cell_type": "code",
   "execution_count": null,
   "metadata": {
    "colab": {
     "base_uri": "https://localhost:8080/"
    },
    "executionInfo": {
     "elapsed": 268,
     "status": "ok",
     "timestamp": 1736223770119,
     "user": {
      "displayName": "조수민",
      "userId": "01033091443594520555"
     },
     "user_tz": -540
    },
    "id": "dro2vtHQ_aaz",
    "outputId": "57d0ff7d-88e8-4df1-a413-16ebc3e52bf9"
   },
   "outputs": [
    {
     "name": "stdout",
     "output_type": "stream",
     "text": [
      "이정도로 성장할줄이야 1\n",
      "이정도로 성장할줄이야 2\n",
      "이정도로 성장할줄이야 3\n",
      "이정도로 성장할줄이야 4\n",
      "이정도로 성장할줄이야 5\n",
      "이정도로 성장할줄이야 6\n",
      "이정도로 성장할줄이야 7\n",
      "이정도로 성장할줄이야 8\n",
      "이정도로 성장할줄이야 9\n",
      "이정도로 성장할줄이야 10\n",
      "이정도로 성장할줄이야 9\n",
      "이정도로 성장할줄이야 8\n",
      "이정도로 성장할줄이야 7\n",
      "이정도로 성장할줄이야 6\n",
      "이정도로 성장할줄이야 5\n",
      "이정도로 성장할줄이야 4\n",
      "이정도로 성장할줄이야 3\n",
      "이정도로 성장할줄이야 2\n",
      "이정도로 성장할줄이야 1\n"
     ]
    }
   ],
   "source": [
    "#3. while문 조건식 증감, 감소\n",
    "\n",
    "#1. 기본적인 증가 유형\n",
    "\n",
    "\n",
    "i = 1\n",
    "while i < 10 :\n",
    "    print('이정도로 성장할줄이야', i)\n",
    "    i += 1\n",
    "\n",
    "#2. 기본적인 감소 유형\n",
    "i = 10\n",
    "while i > 0 :\n",
    "    print('이정도로 성장할줄이야', i)\n",
    "    i -= 1"
   ]
  },
  {
   "cell_type": "code",
   "execution_count": null,
   "metadata": {
    "id": "iSlXs54HAK15"
   },
   "outputs": [],
   "source": [
    "#4. while문을 조심스럽게 사용해야하는 이유\n",
    "#조건이 잘못 설정되면 무한 루프에 빠져 과도한 리소스 소모\n",
    "#하지만, 잘 사용하면 for문 보다 효율적\n",
    "\n",
    "#while True :\n",
    "#    print(1)\n",
    "\n",
    "#while True :\n",
    "#    print('돈 복사')\n",
    "\n",
    "\n",
    "while True :\n",
    "    print('내가 산 주식 폭등')"
   ]
  },
  {
   "cell_type": "code",
   "execution_count": null,
   "metadata": {
    "colab": {
     "base_uri": "https://localhost:8080/"
    },
    "executionInfo": {
     "elapsed": 287,
     "status": "ok",
     "timestamp": 1736224594816,
     "user": {
      "displayName": "조수민",
      "userId": "01033091443594520555"
     },
     "user_tz": -540
    },
    "id": "sLbZdJ1-AylA",
    "outputId": "ecbf99fe-7d40-4be3-dae9-fd92374d9081"
   },
   "outputs": [
    {
     "name": "stdout",
     "output_type": "stream",
     "text": [
      "2\n",
      "3\n",
      "5\n",
      "5\n",
      "5\n",
      "6\n",
      "5\n",
      "6\n",
      "5\n",
      "2\n",
      "3\n",
      "5\n",
      "6\n",
      "1\n",
      "1\n",
      "4\n"
     ]
    }
   ],
   "source": [
    "#5. while문이 for보다 강점인 부분?\n",
    "# 무수히 많이 실행되어야 할 때\n",
    "\n",
    "import random\n",
    "#random.randint(1, 6)\n",
    "\n",
    "i = 0\n",
    "while i != 4 :\n",
    "    i = random.randint(1, 6)\n",
    "    print(i)"
   ]
  },
  {
   "cell_type": "code",
   "execution_count": null,
   "metadata": {
    "colab": {
     "base_uri": "https://localhost:8080/"
    },
    "executionInfo": {
     "elapsed": 304,
     "status": "ok",
     "timestamp": 1736225998794,
     "user": {
      "displayName": "조수민",
      "userId": "01033091443594520555"
     },
     "user_tz": -540
    },
    "id": "lwlyrXsTDyxv",
    "outputId": "3d882a9f-1dc7-4f76-fe3d-b7bdb7a328dc"
   },
   "outputs": [
    {
     "name": "stdout",
     "output_type": "stream",
     "text": [
      "양파 다 팔렸습니다.\n"
     ]
    }
   ],
   "source": [
    "#6. while문에도 else가 있음\n",
    "\n",
    "양파 = 10\n",
    "while 양파 > 10 :\n",
    "    print('양파', 양파, \"개 남았습니다.\")\n",
    "    if 양파 == 0 :\n",
    "        break\n",
    "    양파 -= 1\n",
    "else :\n",
    "        print('양파 다 팔렸습니다.')"
   ]
  },
  {
   "cell_type": "code",
   "execution_count": 21,
   "metadata": {},
   "outputs": [
    {
     "name": "stdout",
     "output_type": "stream",
     "text": [
      "양파 10 개 남았습니다.\n",
      "양파 9 개 남았습니다.\n",
      "양파 8 개 남았습니다.\n",
      "양파 7 개 남았습니다.\n",
      "양파 6 개 남았습니다.\n",
      "양파 5 개 남았습니다.\n",
      "양파 4 개 남았습니다.\n",
      "양파 3 개 남았습니다.\n",
      "양파 2 개 남았습니다.\n",
      "양파 1 개 남았습니다.\n",
      "양파 다 팔렸습니다.\n"
     ]
    }
   ],
   "source": [
    "양파 = 10\n",
    "while 양파 >= 1 :\n",
    "    print('양파', 양파, \"개 남았습니다.\")\n",
    "    if 양파 == 0 :\n",
    "        break\n",
    "    양파 -= 1\n",
    "else :\n",
    "        print('양파 다 팔렸습니다.')"
   ]
  },
  {
   "cell_type": "code",
   "execution_count": null,
   "metadata": {
    "colab": {
     "base_uri": "https://localhost:8080/"
    },
    "executionInfo": {
     "elapsed": 261,
     "status": "ok",
     "timestamp": 1736226435515,
     "user": {
      "displayName": "조수민",
      "userId": "01033091443594520555"
     },
     "user_tz": -540
    },
    "id": "ftdmz1YPI2Jn",
    "outputId": "9d64d2da-61de-4474-92b6-b14e83e28901"
   },
   "outputs": [
    {
     "name": "stdout",
     "output_type": "stream",
     "text": [
      "0\n",
      "1\n",
      "2\n",
      "3\n",
      "4\n",
      "5\n",
      "6\n",
      "7\n",
      "8\n",
      "9\n",
      "0\n",
      "1\n",
      "2\n",
      "3\n",
      "4\n",
      "5\n",
      "6\n",
      "7\n",
      "8\n",
      "9\n",
      "10\n"
     ]
    }
   ],
   "source": [
    "#7. 반복문에 흐름을 제어하는 continue와 break\n",
    "\n",
    "i = 0\n",
    "while True :\n",
    "    print(i)\n",
    "    i += 1\n",
    "    if i == 10 :\n",
    "        break\n",
    "\n",
    "for i in range(100) :\n",
    "    print(i)\n",
    "    if i == 10 :\n",
    "        break"
   ]
  },
  {
   "cell_type": "code",
   "execution_count": null,
   "metadata": {
    "colab": {
     "base_uri": "https://localhost:8080/"
    },
    "executionInfo": {
     "elapsed": 303,
     "status": "ok",
     "timestamp": 1736226872814,
     "user": {
      "displayName": "조수민",
      "userId": "01033091443594520555"
     },
     "user_tz": -540
    },
    "id": "zSd-7WJaKNVV",
    "outputId": "2ce2fbe7-87ff-4e6c-e0a6-4f3f49ca33ef"
   },
   "outputs": [
    {
     "name": "stdout",
     "output_type": "stream",
     "text": [
      "1\n",
      "3\n",
      "5\n",
      "7\n",
      "9\n",
      "1\n",
      "3\n",
      "5\n",
      "7\n",
      "9\n"
     ]
    }
   ],
   "source": [
    "i = 0\n",
    "while i < 10 :\n",
    "    i += 1\n",
    "    if i % 2 == 0 :\n",
    "        continue\n",
    "    print(i)\n",
    "\n",
    "\n",
    "for i in range(10) :\n",
    "     if i % 2 == 0 :\n",
    "        continue\n",
    "     print(i)"
   ]
  },
  {
   "cell_type": "code",
   "execution_count": null,
   "metadata": {
    "id": "E_pVsTYvL8Ia"
   },
   "outputs": [],
   "source": [
    "#8. 붕어빵 인터내셔널은 내가 살린다 나도 이제 개발자\n",
    "#for문을 이용해 리팩토링을 해주세요\n",
    "#잡담 게시판에 여러분의 코드를 자랑해 주세요. 깔끔한 코드 상 1명/ 노력 상 1명 스벅 쿠폰을 보내드립니다.\n"
   ]
  },
  {
   "cell_type": "code",
   "execution_count": null,
   "metadata": {
    "colab": {
     "base_uri": "https://localhost:8080/"
    },
    "executionInfo": {
     "elapsed": 286,
     "status": "ok",
     "timestamp": 1736229624376,
     "user": {
      "displayName": "조수민",
      "userId": "01033091443594520555"
     },
     "user_tz": -540
    },
    "id": "nFEmm4SdNqM9",
    "outputId": "c236414c-f2ac-4708-9a68-244e830e0e13"
   },
   "outputs": [
    {
     "name": "stdout",
     "output_type": "stream",
     "text": [
      "16\n"
     ]
    }
   ],
   "source": [
    "#9. 예제로 while문 익혀보기\n",
    "\n",
    "#콜라츠하는 사람은 주어진 수가 1이 될때까지 다음 작업을 반복하면, 모든 수를 1로 만들 수 있다고 추측했다.\n",
    "#1-1 입력된 수가 짝수라면 2로 나눈다.\n",
    "#1-2 입력된 수가 홀수라면 3을 곱하고 1을 더한다.\n",
    "#3. 위 결과로 나온 수에 같은 작업을 1이 될 때까지 반복한다\n",
    "#예를 들어, 입력된 수가 6이라면, 6->3->10->5->16->8->4->2->1\n",
    "\n",
    "# num변수에 있는 수를 1로 만드는데 몇번이나 작업을 반복해야 하는지 출력한다.\n",
    "num = 7\n",
    "정답 = 0\n",
    "while num != 1 :\n",
    "    if num % 2 ==0 :\n",
    "        num = num // 2\n",
    "    else :\n",
    "        num = num * 3 + 1\n",
    "    정답 += 1\n",
    "\n",
    "print(정답)"
   ]
  }
 ],
 "metadata": {
  "colab": {
   "authorship_tag": "ABX9TyPSFpac50tdmBcqEkIqlEOL",
   "provenance": []
  },
  "kernelspec": {
   "display_name": "Python 3",
   "name": "python3"
  },
  "language_info": {
   "codemirror_mode": {
    "name": "ipython",
    "version": 3
   },
   "file_extension": ".py",
   "mimetype": "text/x-python",
   "name": "python",
   "nbconvert_exporter": "python",
   "pygments_lexer": "ipython3",
   "version": "3.13.1"
  }
 },
 "nbformat": 4,
 "nbformat_minor": 0
}
