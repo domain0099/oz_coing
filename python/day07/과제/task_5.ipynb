{
 "cells": [
  {
   "cell_type": "markdown",
   "metadata": {},
   "source": [
    "datetime 모듈을 사용하여 현재 날짜와 시간을 출력하는 프로그램을 작성하세요. \n",
    "\n",
    "또한, 사용자로부터 태어난 년도를 입력받아 현재 나이를 계산하여 출력하세요."
   ]
  },
  {
   "cell_type": "code",
   "execution_count": 8,
   "metadata": {},
   "outputs": [
    {
     "name": "stdout",
     "output_type": "stream",
     "text": [
      "2025년 1월 16일 3시 23분 30초\n",
      "잘못된 값 태어난 년도가 현재보다 클 수 없습니다.. 숫자를 입력하세요\n"
     ]
    }
   ],
   "source": [
    "import datetime\n",
    "now = datetime.datetime.now()\n",
    "output = f'{now.year}년 {now.month}월 {now.day}일 {now.hour}시 {now.minute}분 {now.second}초'\n",
    "print(output)\n",
    "\n",
    "try :\n",
    "    now_year = datetime.datetime.now().year\n",
    "    user_year = int(input('태어난 년도를 입력해 주세요'))\n",
    "    age = now_year - user_year\n",
    "    if age < 0 :\n",
    "        raise ValueError ('태어난 년도가 현재보다 클 수 없습니다.')\n",
    "    print(age)\n",
    "except ValueError as e :\n",
    "    print(f'잘못된 값 {e}. 숫자를 입력하세요')"
   ]
  }
 ],
 "metadata": {
  "kernelspec": {
   "display_name": "Python 3",
   "language": "python",
   "name": "python3"
  },
  "language_info": {
   "codemirror_mode": {
    "name": "ipython",
    "version": 3
   },
   "file_extension": ".py",
   "mimetype": "text/x-python",
   "name": "python",
   "nbconvert_exporter": "python",
   "pygments_lexer": "ipython3",
   "version": "3.13.1"
  }
 },
 "nbformat": 4,
 "nbformat_minor": 2
}
