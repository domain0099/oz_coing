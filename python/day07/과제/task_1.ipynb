{
 "cells": [
  {
   "cell_type": "markdown",
   "metadata": {},
   "source": [
    "사용자로부터 두 개의 숫자를 입력받아 나눗셈을 수행하는 프로그램을 작성하세요. \n",
    "\n",
    "[예외처리]\n",
    "- 입력 값이 숫자가 아닐 때 발생할 수 있는 ValueError\n",
    "- 나누는 수가 0일 때 발생할 수 있는 ZeroDivisionError\n",
    "- 위 2가지 예외처리 후 사용자에게 이해하기 쉬운 메시지 작성 후 출력되도록 코드를 작성"
   ]
  },
  {
   "cell_type": "code",
   "execution_count": 11,
   "metadata": {},
   "outputs": [
    {
     "name": "stdout",
     "output_type": "stream",
     "text": [
      "알수 없는 에러가 발생했습니다\n"
     ]
    }
   ],
   "source": [
    "try :\n",
    "    number1 = input('첫번째 숫자를 입력해 주세요')\n",
    "    number2 = input('두번째 숫자를 입력해 주세여') # 숫자1 과 숫자2의 입력값을 사용자에게 받기위해 input을 사용\n",
    "    number1 = float(number1) #받은 숫자1이 정수뿐만아니라 실수인지 확인하기 위해 float을 이용해 판별한다.\n",
    "    number2 = float(number2) #받은 숫자1이 정수뿐만아니라 실수인지 확인하기 위해 float을 이용해 판별한다.\n",
    "    result = number1 / number2 # 숫자1과 숫자2의 나눗셈을 수행한다.\n",
    "    print(f'두수의 나누기 값은 {result}입니다') #값이 True일 경우 출력되는 print를 이해가 쉬운 메세지를 입력하기위해 f스트링을 써서 표현해준다.\n",
    "\n",
    "except ValueError : #에러값이 ValueError일경우 숫자가 아니기 때문에 except를 통해 ValueError일 경우 아래 프린트문이 출력되도록 한다\n",
    "    print('숫자가 아닙니다. 다시 입력 해주세요')\n",
    "except ZeroDivisionError : #에러값이 ZeroDivisionError일경우 숫자가 아니기 때문에 except를 통해 ZeroDivisionError일 경우 아래 프린트문이 출력되도록 한다\n",
    "    print('나누는 수가 0입니다')\n",
    "except :  # ZeroDivisionError, ValueError가 아닌 다른에러가 났을 경우 except를 비어두어 다른에러가 프린트문에 출력되도록 한다.\n",
    "    print('알수 없는 에러가 발생했습니다')"
   ]
  }
 ],
 "metadata": {
  "kernelspec": {
   "display_name": "Python 3",
   "language": "python",
   "name": "python3"
  },
  "language_info": {
   "codemirror_mode": {
    "name": "ipython",
    "version": 3
   },
   "file_extension": ".py",
   "mimetype": "text/x-python",
   "name": "python",
   "nbconvert_exporter": "python",
   "pygments_lexer": "ipython3",
   "version": "3.13.1"
  }
 },
 "nbformat": 4,
 "nbformat_minor": 2
}
