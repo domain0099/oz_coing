{
 "cells": [
  {
   "cell_type": "markdown",
   "metadata": {},
   "source": [
    "사용자 정의 예외 NegativeNumberError를 생성하고, 사용자로부터 숫자를 입력받아 음수일 경우 NegativeNumberError를 발생시키는 프로그램을 작성하세요. \n",
    "\n",
    "- 예외 처리 구문을 사용하여 음수 입력 시 \"양수를 입력해주세요.\"라는 메시지를 출력"
   ]
  },
  {
   "cell_type": "code",
   "execution_count": 3,
   "metadata": {},
   "outputs": [
    {
     "name": "stdout",
     "output_type": "stream",
     "text": [
      "음수를 입력하셨습니다. 양수를 입력해 주세요\n",
      "잘못된 값 : d. 숫자를 입력해주세요.\n",
      "입력한숫자 : 4\n"
     ]
    }
   ],
   "source": [
    "class NegativeNumberError(Exception) :\n",
    "    pass\n",
    "while True :\n",
    "    try :\n",
    "        numbers = input('숫자를 입력해 주세요')\n",
    "        number = float(numbers)\n",
    "        if number < 0 :\n",
    "            raise NegativeNumberError\n",
    "        print(f'입력한숫자 : {numbers}')\n",
    "        break\n",
    "    except NegativeNumberError :\n",
    "        print('음수를 입력하셨습니다. 양수를 입력해 주세요')\n",
    "    except ValueError :\n",
    "        print(f'잘못된 값 : {numbers}. 숫자를 입력해주세요.')\n",
    "\n"
   ]
  }
 ],
 "metadata": {
  "kernelspec": {
   "display_name": "Python 3",
   "language": "python",
   "name": "python3"
  },
  "language_info": {
   "codemirror_mode": {
    "name": "ipython",
    "version": 3
   },
   "file_extension": ".py",
   "mimetype": "text/x-python",
   "name": "python",
   "nbconvert_exporter": "python",
   "pygments_lexer": "ipython3",
   "version": "3.13.1"
  }
 },
 "nbformat": 4,
 "nbformat_minor": 2
}
