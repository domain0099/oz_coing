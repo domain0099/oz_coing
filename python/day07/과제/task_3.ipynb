{
 "cells": [
  {
   "cell_type": "markdown",
   "metadata": {},
   "source": [
    "사용자로부터 여러 개의 숫자를 입력받아 리스트에 저장한 후, 사용자가 'done'이라고 입력할 때까지 계속 입력받으세요. \n",
    "\n",
    "- 입력 중 숫자가 아닌 값이 입력되면 ValueError를 처리\n",
    "- 숫자 외 값이 입력된 경우 어떤 값이 잘못 입력되었는지 사용자에게 알려주는 문구 출력<br>\n",
    "  (예: f\"잘못된 값: {변수}. 숫자를 입력해주세요.\")\n",
    "\n"
   ]
  },
  {
   "cell_type": "markdown",
   "metadata": {},
   "source": []
  },
  {
   "cell_type": "code",
   "execution_count": 5,
   "metadata": {},
   "outputs": [
    {
     "name": "stdout",
     "output_type": "stream",
     "text": [
      "잘못된 값 : e, 숫자를 입력해 주세요\n",
      "잘못된 값 : d, 숫자를 입력해 주세요\n",
      "잘못된 값 : z, 숫자를 입력해 주세요\n",
      "잘못된 값 : x, 숫자를 입력해 주세요\n",
      "잘못된 값 : c, 숫자를 입력해 주세요\n",
      "입력을 멈춥니다.\n",
      "입력된 숫자득 :  [1.0, 2.0, 3.0, 4.0, 5.0]\n"
     ]
    }
   ],
   "source": [
    "num = [] #숫자를 리스트에 넣어야해서 빈 리스트를 만들어준다.\n",
    "while True : #반복하기위해 while문을 사용한다\n",
    "    numbers = input(\"숫자를 입력해주세요, 다 입력하셨다면 done를 입력해 주세요\") #input을 이용해 숫자를 입력받는다 \n",
    "    if numbers == 'done': #done가 입력되면 멈추게 한다.\n",
    "        print('입력을 멈춥니다.')\n",
    "        break\n",
    "    try :\n",
    "        number = float(numbers) #입력된 값을 실수로 변환해준다\n",
    "        num.append(number) #변환한 숫자들을 리스트에 담는다.\n",
    "\n",
    "    except ValueError : #ValueError가 나면 잘못된 값을 보여주고 숫자를 입력하라고 한다.\n",
    "        print(f'잘못된 값 : {numbers}, 숫자를 입력해 주세요')\n",
    "print('입력된 숫자득 : ', num) #리스트에 추가된 숫자들을 출력해준다."
   ]
  }
 ],
 "metadata": {
  "kernelspec": {
   "display_name": "Python 3",
   "language": "python",
   "name": "python3"
  },
  "language_info": {
   "codemirror_mode": {
    "name": "ipython",
    "version": 3
   },
   "file_extension": ".py",
   "mimetype": "text/x-python",
   "name": "python",
   "nbconvert_exporter": "python",
   "pygments_lexer": "ipython3",
   "version": "3.13.1"
  }
 },
 "nbformat": 4,
 "nbformat_minor": 2
}
