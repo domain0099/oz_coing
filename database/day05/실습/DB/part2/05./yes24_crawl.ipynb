{
 "cells": [
  {
   "cell_type": "markdown",
   "metadata": {},
   "source": [
    "## 예스24 크롤링"
   ]
  },
  {
   "cell_type": "code",
   "execution_count": 8,
   "metadata": {},
   "outputs": [
    {
     "data": {
      "text/plain": [
       "'/Users/josumin/.wdm/drivers/chromedriver/mac64/132.0.6834.110/chromedriver-mac-arm64/chromedriver'"
      ]
     },
     "execution_count": 8,
     "metadata": {},
     "output_type": "execute_result"
    }
   ],
   "source": [
    "from webdriver_manager.chrome import ChromeDriverManager\n",
    "ChromeDriverManager().install()"
   ]
  },
  {
   "cell_type": "code",
   "execution_count": 2,
   "metadata": {},
   "outputs": [],
   "source": [
    "from selenium import webdriver\n",
    "browser = webdriver.Chrome()\n"
   ]
  },
  {
   "cell_type": "code",
   "execution_count": 24,
   "metadata": {},
   "outputs": [],
   "source": [
    "url = 'https://google.com'\n",
    "browser.get(url)"
   ]
  },
  {
   "cell_type": "code",
   "execution_count": 5,
   "metadata": {},
   "outputs": [
    {
     "ename": "NoSuchElementException",
     "evalue": "Message: no such element: Unable to locate element: {\"method\":\"css selector\",\"selector\":\".uU7dJb\"}\n  (Session info: chrome=132.0.6834.160); For documentation on this error, please visit: https://www.selenium.dev/documentation/webdriver/troubleshooting/errors#no-such-element-exception\nStacktrace:\n0   chromedriver                        0x0000000104cbb0d4 cxxbridge1$str$ptr + 2600792\n1   chromedriver                        0x0000000104cb39f0 cxxbridge1$str$ptr + 2570356\n2   chromedriver                        0x00000001048543d8 cxxbridge1$string$len + 89376\n3   chromedriver                        0x0000000104899414 cxxbridge1$string$len + 372060\n4   chromedriver                        0x00000001048d3638 cxxbridge1$string$len + 610176\n5   chromedriver                        0x000000010488d34c cxxbridge1$string$len + 322708\n6   chromedriver                        0x000000010488df94 cxxbridge1$string$len + 325852\n7   chromedriver                        0x0000000104c86238 cxxbridge1$str$ptr + 2384060\n8   chromedriver                        0x0000000104c89550 cxxbridge1$str$ptr + 2397140\n9   chromedriver                        0x0000000104c6cb9c cxxbridge1$str$ptr + 2279968\n10  chromedriver                        0x0000000104c89e10 cxxbridge1$str$ptr + 2399380\n11  chromedriver                        0x0000000104c5e6a4 cxxbridge1$str$ptr + 2221352\n12  chromedriver                        0x0000000104ca47d8 cxxbridge1$str$ptr + 2508380\n13  chromedriver                        0x0000000104ca4954 cxxbridge1$str$ptr + 2508760\n14  chromedriver                        0x0000000104cb3664 cxxbridge1$str$ptr + 2569448\n15  libsystem_pthread.dylib             0x000000018177c2e4 _pthread_start + 136\n16  libsystem_pthread.dylib             0x00000001817770fc thread_start + 8\n",
     "output_type": "error",
     "traceback": [
      "\u001b[0;31m---------------------------------------------------------------------------\u001b[0m",
      "\u001b[0;31mNoSuchElementException\u001b[0m                    Traceback (most recent call last)",
      "Cell \u001b[0;32mIn[5], line 2\u001b[0m\n\u001b[1;32m      1\u001b[0m \u001b[38;5;28;01mfrom\u001b[39;00m\u001b[38;5;250m \u001b[39m\u001b[38;5;21;01mselenium\u001b[39;00m\u001b[38;5;21;01m.\u001b[39;00m\u001b[38;5;21;01mwebdriver\u001b[39;00m\u001b[38;5;21;01m.\u001b[39;00m\u001b[38;5;21;01mcommon\u001b[39;00m\u001b[38;5;21;01m.\u001b[39;00m\u001b[38;5;21;01mby\u001b[39;00m\u001b[38;5;250m \u001b[39m\u001b[38;5;28;01mimport\u001b[39;00m By\n\u001b[0;32m----> 2\u001b[0m \u001b[43mbrowser\u001b[49m\u001b[38;5;241;43m.\u001b[39;49m\u001b[43mfind_element\u001b[49m\u001b[43m(\u001b[49m\u001b[43mBy\u001b[49m\u001b[38;5;241;43m.\u001b[39;49m\u001b[43mCLASS_NAME\u001b[49m\u001b[43m,\u001b[49m\u001b[43m \u001b[49m\u001b[38;5;124;43m'\u001b[39;49m\u001b[38;5;124;43muU7dJb\u001b[39;49m\u001b[38;5;124;43m'\u001b[39;49m\u001b[43m)\u001b[49m\u001b[38;5;241m.\u001b[39mtext\n",
      "File \u001b[0;32m~/Desktop/Git/.venv/lib/python3.13/site-packages/selenium/webdriver/remote/webdriver.py:888\u001b[0m, in \u001b[0;36mWebDriver.find_element\u001b[0;34m(self, by, value)\u001b[0m\n\u001b[1;32m    885\u001b[0m         \u001b[38;5;28;01mraise\u001b[39;00m NoSuchElementException(\u001b[38;5;124mf\u001b[39m\u001b[38;5;124m\"\u001b[39m\u001b[38;5;124mCannot locate relative element with: \u001b[39m\u001b[38;5;132;01m{\u001b[39;00mby\u001b[38;5;241m.\u001b[39mroot\u001b[38;5;132;01m}\u001b[39;00m\u001b[38;5;124m\"\u001b[39m)\n\u001b[1;32m    886\u001b[0m     \u001b[38;5;28;01mreturn\u001b[39;00m elements[\u001b[38;5;241m0\u001b[39m]\n\u001b[0;32m--> 888\u001b[0m \u001b[38;5;28;01mreturn\u001b[39;00m \u001b[38;5;28;43mself\u001b[39;49m\u001b[38;5;241;43m.\u001b[39;49m\u001b[43mexecute\u001b[49m\u001b[43m(\u001b[49m\u001b[43mCommand\u001b[49m\u001b[38;5;241;43m.\u001b[39;49m\u001b[43mFIND_ELEMENT\u001b[49m\u001b[43m,\u001b[49m\u001b[43m \u001b[49m\u001b[43m{\u001b[49m\u001b[38;5;124;43m\"\u001b[39;49m\u001b[38;5;124;43musing\u001b[39;49m\u001b[38;5;124;43m\"\u001b[39;49m\u001b[43m:\u001b[49m\u001b[43m \u001b[49m\u001b[43mby\u001b[49m\u001b[43m,\u001b[49m\u001b[43m \u001b[49m\u001b[38;5;124;43m\"\u001b[39;49m\u001b[38;5;124;43mvalue\u001b[39;49m\u001b[38;5;124;43m\"\u001b[39;49m\u001b[43m:\u001b[49m\u001b[43m \u001b[49m\u001b[43mvalue\u001b[49m\u001b[43m}\u001b[49m\u001b[43m)\u001b[49m[\u001b[38;5;124m\"\u001b[39m\u001b[38;5;124mvalue\u001b[39m\u001b[38;5;124m\"\u001b[39m]\n",
      "File \u001b[0;32m~/Desktop/Git/.venv/lib/python3.13/site-packages/selenium/webdriver/remote/webdriver.py:429\u001b[0m, in \u001b[0;36mWebDriver.execute\u001b[0;34m(self, driver_command, params)\u001b[0m\n\u001b[1;32m    427\u001b[0m response \u001b[38;5;241m=\u001b[39m \u001b[38;5;28mself\u001b[39m\u001b[38;5;241m.\u001b[39mcommand_executor\u001b[38;5;241m.\u001b[39mexecute(driver_command, params)\n\u001b[1;32m    428\u001b[0m \u001b[38;5;28;01mif\u001b[39;00m response:\n\u001b[0;32m--> 429\u001b[0m     \u001b[38;5;28;43mself\u001b[39;49m\u001b[38;5;241;43m.\u001b[39;49m\u001b[43merror_handler\u001b[49m\u001b[38;5;241;43m.\u001b[39;49m\u001b[43mcheck_response\u001b[49m\u001b[43m(\u001b[49m\u001b[43mresponse\u001b[49m\u001b[43m)\u001b[49m\n\u001b[1;32m    430\u001b[0m     response[\u001b[38;5;124m\"\u001b[39m\u001b[38;5;124mvalue\u001b[39m\u001b[38;5;124m\"\u001b[39m] \u001b[38;5;241m=\u001b[39m \u001b[38;5;28mself\u001b[39m\u001b[38;5;241m.\u001b[39m_unwrap_value(response\u001b[38;5;241m.\u001b[39mget(\u001b[38;5;124m\"\u001b[39m\u001b[38;5;124mvalue\u001b[39m\u001b[38;5;124m\"\u001b[39m, \u001b[38;5;28;01mNone\u001b[39;00m))\n\u001b[1;32m    431\u001b[0m     \u001b[38;5;28;01mreturn\u001b[39;00m response\n",
      "File \u001b[0;32m~/Desktop/Git/.venv/lib/python3.13/site-packages/selenium/webdriver/remote/errorhandler.py:232\u001b[0m, in \u001b[0;36mErrorHandler.check_response\u001b[0;34m(self, response)\u001b[0m\n\u001b[1;32m    230\u001b[0m         alert_text \u001b[38;5;241m=\u001b[39m value[\u001b[38;5;124m\"\u001b[39m\u001b[38;5;124malert\u001b[39m\u001b[38;5;124m\"\u001b[39m]\u001b[38;5;241m.\u001b[39mget(\u001b[38;5;124m\"\u001b[39m\u001b[38;5;124mtext\u001b[39m\u001b[38;5;124m\"\u001b[39m)\n\u001b[1;32m    231\u001b[0m     \u001b[38;5;28;01mraise\u001b[39;00m exception_class(message, screen, stacktrace, alert_text)  \u001b[38;5;66;03m# type: ignore[call-arg]  # mypy is not smart enough here\u001b[39;00m\n\u001b[0;32m--> 232\u001b[0m \u001b[38;5;28;01mraise\u001b[39;00m exception_class(message, screen, stacktrace)\n",
      "\u001b[0;31mNoSuchElementException\u001b[0m: Message: no such element: Unable to locate element: {\"method\":\"css selector\",\"selector\":\".uU7dJb\"}\n  (Session info: chrome=132.0.6834.160); For documentation on this error, please visit: https://www.selenium.dev/documentation/webdriver/troubleshooting/errors#no-such-element-exception\nStacktrace:\n0   chromedriver                        0x0000000104cbb0d4 cxxbridge1$str$ptr + 2600792\n1   chromedriver                        0x0000000104cb39f0 cxxbridge1$str$ptr + 2570356\n2   chromedriver                        0x00000001048543d8 cxxbridge1$string$len + 89376\n3   chromedriver                        0x0000000104899414 cxxbridge1$string$len + 372060\n4   chromedriver                        0x00000001048d3638 cxxbridge1$string$len + 610176\n5   chromedriver                        0x000000010488d34c cxxbridge1$string$len + 322708\n6   chromedriver                        0x000000010488df94 cxxbridge1$string$len + 325852\n7   chromedriver                        0x0000000104c86238 cxxbridge1$str$ptr + 2384060\n8   chromedriver                        0x0000000104c89550 cxxbridge1$str$ptr + 2397140\n9   chromedriver                        0x0000000104c6cb9c cxxbridge1$str$ptr + 2279968\n10  chromedriver                        0x0000000104c89e10 cxxbridge1$str$ptr + 2399380\n11  chromedriver                        0x0000000104c5e6a4 cxxbridge1$str$ptr + 2221352\n12  chromedriver                        0x0000000104ca47d8 cxxbridge1$str$ptr + 2508380\n13  chromedriver                        0x0000000104ca4954 cxxbridge1$str$ptr + 2508760\n14  chromedriver                        0x0000000104cb3664 cxxbridge1$str$ptr + 2569448\n15  libsystem_pthread.dylib             0x000000018177c2e4 _pthread_start + 136\n16  libsystem_pthread.dylib             0x00000001817770fc thread_start + 8\n"
     ]
    }
   ],
   "source": [
    "from selenium.webdriver.common.by import By\n",
    "browser.find_element(By.CLASS_NAME, 'uU7dJb').text"
   ]
  },
  {
   "cell_type": "code",
   "execution_count": 6,
   "metadata": {},
   "outputs": [],
   "source": [
    "url = 'https://www.yes24.com/Product/Category/BestSeller?CategoryNumber=001&sumgb=06'\n",
    "browser.get(url)"
   ]
  },
  {
   "cell_type": "code",
   "execution_count": 7,
   "metadata": {},
   "outputs": [
    {
     "name": "stdout",
     "output_type": "stream",
     "text": [
      "https://www.yes24.com/Product/Goods/126590468\n",
      "https://www.yes24.com/Product/Goods/13137546\n",
      "https://www.yes24.com/Product/Goods/142053395\n",
      "https://www.yes24.com/Product/Goods/138282792\n",
      "https://www.yes24.com/Product/Goods/125557465\n",
      "https://www.yes24.com/Product/Goods/136298166\n",
      "https://www.yes24.com/Product/Goods/108422348\n",
      "https://www.yes24.com/Product/Goods/140537260\n",
      "https://www.yes24.com/Product/Goods/103495056\n",
      "https://www.yes24.com/Product/Goods/140285749\n",
      "https://www.yes24.com/Product/Goods/140231250\n",
      "https://www.yes24.com/Product/Goods/8759796\n",
      "https://www.yes24.com/Product/Goods/124043812\n",
      "https://www.yes24.com/Product/Goods/116586303\n",
      "https://www.yes24.com/Product/Goods/124043802\n",
      "https://www.yes24.com/Product/Goods/140199250\n",
      "https://www.yes24.com/Product/Goods/140199263\n",
      "https://www.yes24.com/Product/Goods/138831340\n",
      "https://www.yes24.com/Product/Goods/122120495\n",
      "https://www.yes24.com/Product/Goods/123400303\n",
      "https://www.yes24.com/Product/Goods/133809700\n",
      "https://www.yes24.com/Product/Goods/141894264\n",
      "https://www.yes24.com/Product/Goods/11467936\n",
      "https://www.yes24.com/Product/Goods/141311145\n"
     ]
    }
   ],
   "source": [
    "#1페이지의 링크데이터\n",
    "# 한개의 베스트셀러 링크 수집\n",
    "browser.find_element(By.CLASS_NAME, 'gd_name').get_attribute('href')\n",
    "\n",
    "## 1페이지 전체의 베스트 셀러 링크 수집\n",
    "browser.find_element(By.CLASS_NAME, 'gd_name') # element요소\n",
    "datas = browser.find_elements(By.CLASS_NAME, 'gd_name') # elements 리스트\n",
    "\n",
    "for i in datas :\n",
    "    print(i.get_attribute('href'))\n"
   ]
  },
  {
   "cell_type": "code",
   "execution_count": 8,
   "metadata": {},
   "outputs": [
    {
     "name": "stdout",
     "output_type": "stream",
     "text": [
      "********** 현재 0페이지 수집 중 입니다. **********\n",
      "['https://www.yes24.com/Product/Goods/126590468', 'https://www.yes24.com/Product/Goods/13137546', 'https://www.yes24.com/Product/Goods/142053395', 'https://www.yes24.com/Product/Goods/138282792', 'https://www.yes24.com/Product/Goods/125557465', 'https://www.yes24.com/Product/Goods/136298166', 'https://www.yes24.com/Product/Goods/108422348', 'https://www.yes24.com/Product/Goods/140537260', 'https://www.yes24.com/Product/Goods/103495056', 'https://www.yes24.com/Product/Goods/140285749', 'https://www.yes24.com/Product/Goods/140231250', 'https://www.yes24.com/Product/Goods/8759796', 'https://www.yes24.com/Product/Goods/124043812', 'https://www.yes24.com/Product/Goods/116586303', 'https://www.yes24.com/Product/Goods/124043802', 'https://www.yes24.com/Product/Goods/140199250', 'https://www.yes24.com/Product/Goods/140199263', 'https://www.yes24.com/Product/Goods/138831340', 'https://www.yes24.com/Product/Goods/122120495', 'https://www.yes24.com/Product/Goods/123400303', 'https://www.yes24.com/Product/Goods/133809700', 'https://www.yes24.com/Product/Goods/141894264', 'https://www.yes24.com/Product/Goods/11467936', 'https://www.yes24.com/Product/Goods/141311145']\n"
     ]
    }
   ],
   "source": [
    "##3페이지\n",
    "import time\n",
    "\n",
    "link_list = []\n",
    "for i in range(1) :\n",
    "    print(\"*\" * 10, f\"현재 {i}페이지 수집 중 입니다.\",\"*\" * 10)\n",
    "\n",
    "    url = f'https://www.yes24.com/Product/Category/BestSeller?categoryNumber=001&pageNumber={i}&pageSize=24'\n",
    "    browser.get(url)\n",
    "\n",
    "    browser.find_element(By.CLASS_NAME, 'gd_name').get_attribute('href')\n",
    "\n",
    "    ## 1페이지 전체의 베스트 셀러 링크 수집\n",
    "    #browser.find_element(By.CLASS_NAME, 'gd_name') # element요소\n",
    "    datas = browser.find_elements(By.CLASS_NAME, 'gd_name') # elements 리스트\n",
    "\n",
    "    for i in datas :\n",
    "        link = i.get_attribute('href')\n",
    "        link_list.append(link)\n",
    "\n",
    "    time.sleep(3)\n",
    "print(link_list)"
   ]
  },
  {
   "cell_type": "code",
   "execution_count": 45,
   "metadata": {},
   "outputs": [
    {
     "data": {
      "text/plain": [
       "72"
      ]
     },
     "execution_count": 45,
     "metadata": {},
     "output_type": "execute_result"
    }
   ],
   "source": [
    "len(link_list)"
   ]
  },
  {
   "cell_type": "code",
   "execution_count": null,
   "metadata": {},
   "outputs": [
    {
     "data": {
      "text/plain": [
       "'국내도서 1위 1주'"
      ]
     },
     "execution_count": 70,
     "metadata": {},
     "output_type": "execute_result"
    }
   ],
   "source": [
    "# 상세페이지 이동\n",
    "\n",
    "# for link in link_list : \n",
    "#     browser.get(link)\n",
    "\n",
    "browser.get(link_list[0])\n",
    "\n",
    "title = browser.find_element(By.CLASS_NAME, 'gd_name').text\n",
    "\n",
    "author = browser.find_element(By.CLASS_NAME, 'gd_auth').text\n",
    "\n",
    "publisher = browser.find_element(By.CLASS_NAME, 'gd_pub').text\n",
    "\n",
    "publishing = browser.find_element(By.CLASS_NAME, 'gd_date').text\n",
    "\n",
    "rating = browser.find_element(By.CLASS_NAME, 'yes_b').text\n",
    "\n",
    "review = browser.find_element(By.CLASS_NAME, 'txC_blue').text\n",
    "\n",
    "sales = browser.find_element(By.CLASS_NAME, 'gd_sellNum').text.split(\" \")[2]\n",
    "\n",
    "price = browser.find_element(By.CLASS_NAME, 'yes_m').text[:-1]\n",
    "\n",
    "ranking = browser.find_element(By.CLASS_NAME, 'gd_best').text.split(\" | \")[0]\n",
    "ranking_weeks = browser.find_element(By.CLASS_NAME, 'gd_best').text.split(\" | \")[1]\n",
    "\n"
   ]
  },
  {
   "cell_type": "code",
   "execution_count": 9,
   "metadata": {},
   "outputs": [],
   "source": [
    "# 데이터 베이스 연동 후 -> 수집한 데이터를 DB에 저장(csv)\n",
    "import pymysql\n",
    "import time\n",
    "import re\n",
    "from datetime import datetime\n",
    "\n",
    "\n",
    "conn = pymysql.connect(\n",
    "    host = 'localhost',\n",
    "    user = 'root',\n",
    "    password = '8715',\n",
    "    db = 'yes24',\n",
    "    charset = 'utf8mb4',\n",
    "    cursorclass = pymysql.cursors.DictCursor\n",
    ")\n",
    "\n",
    "with conn.cursor() as cur :\n",
    "    \n",
    "    for link in link_list:\n",
    "        browser.get(link)\n",
    "        \n",
    "        title = browser.find_element(By.CLASS_NAME, 'gd_name').text\n",
    "\n",
    "        author = browser.find_element(By.CLASS_NAME, 'gd_auth').text\n",
    "\n",
    "        publisher = browser.find_element(By.CLASS_NAME, 'gd_pub').text\n",
    "\n",
    "        publishing = browser.find_element(By.CLASS_NAME, 'gd_date').text\n",
    "        \n",
    "        match = re.search(r'(\\d+)년 (\\d+)월 (\\d+)일', publishing)\n",
    "\n",
    "        if match :\n",
    "            year, month, day = match.groups()\n",
    "            data_obj = datetime(int(year), int(month), int(day))\n",
    "            publishing = data_obj.strftime(\"%Y-%m-%d\")\n",
    "        else : \n",
    "            publishing = \"2023-01-01\"\n",
    "            \n",
    "\n",
    "\n",
    "        rating = browser.find_element(By.CLASS_NAME, 'yes_b').text\n",
    "\n",
    "        try:\n",
    "            review = browser.find_element(By.CLASS_NAME, 'txC_blue').text.strip()\n",
    "    \n",
    "            if review:  # 리뷰 값이 존재하면\n",
    "                review = int(review.replace(\",\", \"\"))  # 쉼표 제거 후 정수 변환\n",
    "        \n",
    "            else:  # 리뷰가 없으면\n",
    "                review = 0\n",
    "        except:\n",
    "            review = 0  # 요소가 없는 경우 예외 처리\n",
    "        \n",
    "        sales = browser.find_element(By.CLASS_NAME, 'gd_sellNum').text.split(\" \")[2]\n",
    "        sales = int(sales.replace(\",\", \"\"))\n",
    "        \n",
    "        price = browser.find_element(By.CLASS_NAME, 'yes_m').text[:-1]\n",
    "        price = int(price.replace(\",\", \"\"))\n",
    "        \n",
    "        \n",
    "        full_text =browser.find_element(By.CLASS_NAME, 'gd_best').text\n",
    "        parts = full_text.split(\" | \")\n",
    "        if len(parts) == 1 :\n",
    "            ranking = 0\n",
    "            ranking_weeks = 0\n",
    "        else :\n",
    "            try :\n",
    "                full_text =browser.find_element(By.CLASS_NAME, 'gd_best').text\n",
    "                parts = full_text.split(\" | \") \n",
    "                ranking_part = parts[0]\n",
    "                ranking = ''. join(filter(str.isdigit, ranking_weeks_part)) #숫자만 추출\n",
    "\n",
    "            except:\n",
    "                ranking = 0\n",
    "\n",
    "            try :\n",
    "                full_text =browser.find_element(By.CLASS_NAME, 'gd_best').text\n",
    "                parts = full_text.split(\" | \")\n",
    "                ranking_weeks_part = parts[1]\n",
    "                ranking_weeks = ''. join(filter(str.isdigit, ranking_part.split()[-1]))\n",
    "\n",
    "            except : \n",
    "                ranking_weeks = 0\n",
    "\n",
    "       \n",
    "        sql = \"\"\"INSERT INTO Books\n",
    "            (title, author, publisher, publishing, rating, review, sales, price, ranking, ranking_weeks)\n",
    "            VALUES(%s, %s, %s, %s, %s, %s, %s, %s, %s, %s)\n",
    "            \"\"\"\n",
    "        cur.execute(sql, (title, author, publisher, publishing, rating, review, sales, price, ranking, ranking_weeks))\n",
    "        conn.commit()\n",
    "\n",
    "        time.sleep(2)"
   ]
  },
  {
   "cell_type": "code",
   "execution_count": 26,
   "metadata": {},
   "outputs": [
    {
     "data": {
      "text/plain": [
       "('초역 부처의 말',\n",
       " '코이케 류노스케 저/박재현 역',\n",
       " '포레스트북스',\n",
       " '2024년 05월 30일',\n",
       " '9.5',\n",
       " '205',\n",
       " '388,866',\n",
       " '17,800',\n",
       " '1',\n",
       " '1')"
      ]
     },
     "execution_count": 26,
     "metadata": {},
     "output_type": "execute_result"
    }
   ],
   "source": [
    "#상세 페이지 이동 후 데이터 크롤링\n",
    "browser.get(link_list[0])\n",
    "\n",
    "title = browser.find_element(By.CLASS_NAME, 'gd_name').text\n",
    "\n",
    "author = browser.find_element(By.CLASS_NAME, 'gd_auth').text\n",
    "\n",
    "publisher = browser.find_element(By.CLASS_NAME, 'gd_pub').text\n",
    "\n",
    "publishing = browser.find_element(By.CLASS_NAME, 'gd_date').text\n",
    "\n",
    "rating = browser.find_element(By.CLASS_NAME, 'yes_b').text\n",
    "\n",
    "review = browser.find_element(By.CLASS_NAME, 'txC_blue').text\n",
    "\n",
    "sales = browser.find_element(By.CLASS_NAME, 'gd_sellNum').text.split(\" \")[2]\n",
    "\n",
    "price = browser.find_element(By.CLASS_NAME, 'yes_m').text[:-1]\n",
    "\n",
    "ranking = browser.find_element(By.CLASS_NAME, 'gd_best').text.split(\" | \")[1].split(\" \")[1][:-1]\n",
    "ranking_weeks = browser.find_element(By.CLASS_NAME, 'gd_best').text.split(\" | \")[1].split(\" \")[2][:-1]\n",
    "\n",
    "title, author, publisher, publishing, rating, review, sales, price, ranking, ranking_weeks"
   ]
  },
  {
   "cell_type": "markdown",
   "metadata": {},
   "source": []
  }
 ],
 "metadata": {
  "kernelspec": {
   "display_name": ".venv",
   "language": "python",
   "name": "python3"
  },
  "language_info": {
   "codemirror_mode": {
    "name": "ipython",
    "version": 3
   },
   "file_extension": ".py",
   "mimetype": "text/x-python",
   "name": "python",
   "nbconvert_exporter": "python",
   "pygments_lexer": "ipython3",
   "version": "3.13.1"
  }
 },
 "nbformat": 4,
 "nbformat_minor": 2
}
